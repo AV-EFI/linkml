{
 "cells": [
  {
   "cell_type": "code",
   "execution_count": 1,
   "id": "09841f4a-d785-4fa8-8daf-2906c89007c6",
   "metadata": {
    "execution": {
     "iopub.execute_input": "2025-02-01T01:54:18.879695Z",
     "iopub.status.busy": "2025-02-01T01:54:18.879354Z",
     "iopub.status.idle": "2025-02-01T01:54:20.264659Z",
     "shell.execute_reply": "2025-02-01T01:54:20.263851Z"
    }
   },
   "outputs": [],
   "source": [
    "!pip install -q --disable-pip-version-check yamlmagic\n",
    "%load_ext yamlmagic"
   ]
  },
  {
   "cell_type": "code",
   "execution_count": 2,
   "id": "8327f543",
   "metadata": {
    "execution": {
     "iopub.execute_input": "2025-02-01T01:54:20.267497Z",
     "iopub.status.busy": "2025-02-01T01:54:20.267226Z",
     "iopub.status.idle": "2025-02-01T01:54:20.277103Z",
     "shell.execute_reply": "2025-02-01T01:54:20.276554Z"
    }
   },
   "outputs": [
    {
     "data": {
      "application/javascript": [
       "\n",
       "            require(\n",
       "                [\n",
       "                    \"notebook/js/codecell\",\n",
       "                    \"codemirror/mode/yaml/yaml\"\n",
       "                ],\n",
       "                function(cc){\n",
       "                    cc.CodeCell.options_default.highlight_modes.magic_yaml = {\n",
       "                        reg: [\"^%%yaml\"]\n",
       "                    }\n",
       "                }\n",
       "            );\n",
       "            "
      ],
      "text/plain": [
       "<IPython.core.display.Javascript object>"
      ]
     },
     "metadata": {},
     "output_type": "display_data"
    }
   ],
   "source": [
    "%%yaml model\n",
    "id: https://example.org/\n",
    "name: example\n",
    "prefixes:\n",
    "  example: https://example.org/\n",
    "  linkml: https://w3id.org/linkml/\n",
    "default_prefix: example\n",
    "default_range: string\n",
    "imports:\n",
    "  - linkml:types\n",
    "\n",
    "classes:\n",
    "  Thing:\n",
    "    attributes:\n",
    "      type:\n",
    "        designates_type: true\n",
    "  Vehicle:\n",
    "    is_a: Thing\n",
    "    attributes:\n",
    "      num_wheels:\n",
    "        range: integer\n",
    "  Building:\n",
    "    is_a: Thing\n",
    "    attributes:\n",
    "      num_floors:\n",
    "        range: integer\n",
    "        \n",
    "  Container:\n",
    "    attributes:\n",
    "      things:\n",
    "        range: Thing\n",
    "        multivalued: true\n",
    "    "
   ]
  },
  {
   "cell_type": "code",
   "execution_count": 3,
   "id": "25ad3561-ccb0-418b-b9f5-3d17ef13e343",
   "metadata": {
    "execution": {
     "iopub.execute_input": "2025-02-01T01:54:20.279426Z",
     "iopub.status.busy": "2025-02-01T01:54:20.279182Z",
     "iopub.status.idle": "2025-02-01T01:54:20.283438Z",
     "shell.execute_reply": "2025-02-01T01:54:20.282849Z"
    }
   },
   "outputs": [],
   "source": [
    "import yaml\n",
    "model_str = yaml.dump(model)"
   ]
  },
  {
   "cell_type": "code",
   "execution_count": 4,
   "id": "32188102",
   "metadata": {
    "execution": {
     "iopub.execute_input": "2025-02-01T01:54:20.285757Z",
     "iopub.status.busy": "2025-02-01T01:54:20.285520Z",
     "iopub.status.idle": "2025-02-01T01:54:20.651760Z",
     "shell.execute_reply": "2025-02-01T01:54:20.651119Z"
    }
   },
   "outputs": [],
   "source": [
    "from linkml_runtime.utils.schemaview import SchemaView"
   ]
  },
  {
   "cell_type": "code",
   "execution_count": 5,
   "id": "0c7a6094",
   "metadata": {
    "execution": {
     "iopub.execute_input": "2025-02-01T01:54:20.654250Z",
     "iopub.status.busy": "2025-02-01T01:54:20.654029Z",
     "iopub.status.idle": "2025-02-01T01:54:20.664581Z",
     "shell.execute_reply": "2025-02-01T01:54:20.663992Z"
    }
   },
   "outputs": [],
   "source": [
    "sv = SchemaView(model_str)\n",
    "schema = sv.schema"
   ]
  },
  {
   "cell_type": "code",
   "execution_count": 6,
   "id": "efdd443a",
   "metadata": {
    "execution": {
     "iopub.execute_input": "2025-02-01T01:54:20.666795Z",
     "iopub.status.busy": "2025-02-01T01:54:20.666585Z",
     "iopub.status.idle": "2025-02-01T01:54:21.008274Z",
     "shell.execute_reply": "2025-02-01T01:54:21.007459Z"
    }
   },
   "outputs": [],
   "source": [
    "from linkml.generators.pydanticgen import PydanticGenerator\n",
    "import yaml"
   ]
  },
  {
   "cell_type": "code",
   "execution_count": 7,
   "id": "00808b90",
   "metadata": {
    "execution": {
     "iopub.execute_input": "2025-02-01T01:54:21.010921Z",
     "iopub.status.busy": "2025-02-01T01:54:21.010675Z",
     "iopub.status.idle": "2025-02-01T01:54:21.013382Z",
     "shell.execute_reply": "2025-02-01T01:54:21.012979Z"
    }
   },
   "outputs": [],
   "source": [
    "import logging\n",
    "gen = PydanticGenerator(schema, log_level=logging.ERROR)"
   ]
  },
  {
   "cell_type": "code",
   "execution_count": 8,
   "id": "7acde179",
   "metadata": {
    "execution": {
     "iopub.execute_input": "2025-02-01T01:54:21.015205Z",
     "iopub.status.busy": "2025-02-01T01:54:21.015031Z",
     "iopub.status.idle": "2025-02-01T01:54:21.051148Z",
     "shell.execute_reply": "2025-02-01T01:54:21.050690Z"
    }
   },
   "outputs": [
    {
     "name": "stdout",
     "output_type": "stream",
     "text": [
      "from __future__ import annotations \n",
      "\n",
      "import re\n",
      "import sys\n",
      "from datetime import (\n",
      "    date,\n",
      "    datetime,\n",
      "    time\n",
      ")\n",
      "from decimal import Decimal \n",
      "from enum import Enum \n",
      "from typing import (\n",
      "    Any,\n",
      "    ClassVar,\n",
      "    Dict,\n",
      "    List,\n",
      "    Literal,\n",
      "    Optional,\n",
      "    Union\n",
      ")\n",
      "\n",
      "from pydantic import (\n",
      "    BaseModel,\n",
      "    ConfigDict,\n",
      "    Field,\n",
      "    RootModel,\n",
      "    field_validator\n",
      ")\n",
      "\n",
      "\n",
      "metamodel_version = \"None\"\n",
      "version = \"None\"\n",
      "\n",
      "\n",
      "class ConfiguredBaseModel(BaseModel):\n",
      "    model_config = ConfigDict(\n",
      "        validate_assignment = True,\n",
      "        validate_default = True,\n",
      "        extra = \"forbid\",\n",
      "        arbitrary_types_allowed = True,\n",
      "        use_enum_values = True,\n",
      "        strict = False,\n",
      "    )\n",
      "    pass\n",
      "\n",
      "\n",
      "\n",
      "\n",
      "class LinkMLMeta(RootModel):\n",
      "    root: Dict[str, Any] = {}\n",
      "    model_config = ConfigDict(frozen=True)\n",
      "\n",
      "    def __getattr__(self, key:str):\n",
      "        return getattr(self.root, key)\n",
      "\n",
      "    def __getitem__(self, key:str):\n",
      "        return self.root[key]\n",
      "\n",
      "    def __setitem__(self, key:str, value):\n",
      "        self.root[key] = value\n",
      "\n",
      "    def __contains__(self, key:str) -> bool:\n",
      "        return key in self.root\n",
      "\n",
      "\n",
      "linkml_meta = LinkMLMeta({'default_prefix': 'example',\n",
      "     'default_range': 'string',\n",
      "     'id': 'https://example.org/',\n",
      "     'imports': ['linkml:types'],\n",
      "     'name': 'example',\n",
      "     'prefixes': {'example': {'prefix_prefix': 'example',\n",
      "                              'prefix_reference': 'https://example.org/'},\n",
      "                  'linkml': {'prefix_prefix': 'linkml',\n",
      "                             'prefix_reference': 'https://w3id.org/linkml/'}}} )\n",
      "\n",
      "\n",
      "class Container(ConfiguredBaseModel):\n",
      "    linkml_meta: ClassVar[LinkMLMeta] = LinkMLMeta({'from_schema': 'https://example.org/'})\n",
      "\n",
      "    things: Optional[List[Union[Thing,Building,Vehicle]]] = Field(default=None, json_schema_extra = { \"linkml_meta\": {'alias': 'things', 'domain_of': ['Container']} })\n",
      "\n",
      "\n",
      "class Thing(ConfiguredBaseModel):\n",
      "    linkml_meta: ClassVar[LinkMLMeta] = LinkMLMeta({'from_schema': 'https://example.org/'})\n",
      "\n",
      "    type: Literal[\"Thing\"] = Field(default=\"Thing\", json_schema_extra = { \"linkml_meta\": {'alias': 'type', 'designates_type': True, 'domain_of': ['Thing']} })\n",
      "\n",
      "\n",
      "class Building(Thing):\n",
      "    linkml_meta: ClassVar[LinkMLMeta] = LinkMLMeta({'from_schema': 'https://example.org/'})\n",
      "\n",
      "    num_floors: Optional[int] = Field(default=None, json_schema_extra = { \"linkml_meta\": {'alias': 'num_floors', 'domain_of': ['Building']} })\n",
      "    type: Literal[\"Building\"] = Field(default=\"Building\", json_schema_extra = { \"linkml_meta\": {'alias': 'type', 'designates_type': True, 'domain_of': ['Thing']} })\n",
      "\n",
      "\n",
      "class Vehicle(Thing):\n",
      "    linkml_meta: ClassVar[LinkMLMeta] = LinkMLMeta({'from_schema': 'https://example.org/'})\n",
      "\n",
      "    num_wheels: Optional[int] = Field(default=None, json_schema_extra = { \"linkml_meta\": {'alias': 'num_wheels', 'domain_of': ['Vehicle']} })\n",
      "    type: Literal[\"Vehicle\"] = Field(default=\"Vehicle\", json_schema_extra = { \"linkml_meta\": {'alias': 'type', 'designates_type': True, 'domain_of': ['Thing']} })\n",
      "\n",
      "\n",
      "# Model rebuild\n",
      "# see https://pydantic-docs.helpmanual.io/usage/models/#rebuilding-a-model\n",
      "Container.model_rebuild()\n",
      "Thing.model_rebuild()\n",
      "Building.model_rebuild()\n",
      "Vehicle.model_rebuild()\n",
      "\n"
     ]
    }
   ],
   "source": [
    "print(gen.serialize())"
   ]
  },
  {
   "cell_type": "code",
   "execution_count": 9,
   "id": "ed4dae50",
   "metadata": {
    "execution": {
     "iopub.execute_input": "2025-02-01T01:54:21.053358Z",
     "iopub.status.busy": "2025-02-01T01:54:21.053153Z",
     "iopub.status.idle": "2025-02-01T01:54:21.066215Z",
     "shell.execute_reply": "2025-02-01T01:54:21.065630Z"
    }
   },
   "outputs": [],
   "source": [
    "mod = gen.compile_module()"
   ]
  },
  {
   "cell_type": "code",
   "execution_count": 10,
   "id": "68b8b0c1",
   "metadata": {
    "execution": {
     "iopub.execute_input": "2025-02-01T01:54:21.068748Z",
     "iopub.status.busy": "2025-02-01T01:54:21.068533Z",
     "iopub.status.idle": "2025-02-01T01:54:21.072400Z",
     "shell.execute_reply": "2025-02-01T01:54:21.072010Z"
    }
   },
   "outputs": [
    {
     "data": {
      "text/plain": [
       "Container(things=[Vehicle(type='Vehicle', num_wheels=2)])"
      ]
     },
     "execution_count": 10,
     "metadata": {},
     "output_type": "execute_result"
    }
   ],
   "source": [
    "mod.Container.model_validate({\"things\": [{\"type\": \"Vehicle\", \"num_wheels\": 2}]})"
   ]
  },
  {
   "cell_type": "code",
   "execution_count": 11,
   "id": "edd152f5",
   "metadata": {
    "execution": {
     "iopub.execute_input": "2025-02-01T01:54:21.074315Z",
     "iopub.status.busy": "2025-02-01T01:54:21.074122Z",
     "iopub.status.idle": "2025-02-01T01:54:21.132825Z",
     "shell.execute_reply": "2025-02-01T01:54:21.132250Z"
    }
   },
   "outputs": [],
   "source": [
    "import pytest"
   ]
  },
  {
   "cell_type": "code",
   "execution_count": 12,
   "id": "23f2c500",
   "metadata": {
    "execution": {
     "iopub.execute_input": "2025-02-01T01:54:21.135707Z",
     "iopub.status.busy": "2025-02-01T01:54:21.135348Z",
     "iopub.status.idle": "2025-02-01T01:54:21.138612Z",
     "shell.execute_reply": "2025-02-01T01:54:21.138191Z"
    }
   },
   "outputs": [],
   "source": [
    "with pytest.raises(ValueError):\n",
    "  mod.Container.model_validate({\"things\": [{\"type\": \"Vehicle\", \"num_floors\": 4}]})"
   ]
  },
  {
   "cell_type": "code",
   "execution_count": 13,
   "id": "46081bd4",
   "metadata": {
    "execution": {
     "iopub.execute_input": "2025-02-01T01:54:21.140673Z",
     "iopub.status.busy": "2025-02-01T01:54:21.140481Z",
     "iopub.status.idle": "2025-02-01T01:54:21.144116Z",
     "shell.execute_reply": "2025-02-01T01:54:21.143691Z"
    }
   },
   "outputs": [
    {
     "data": {
      "text/plain": [
       "Container(things=[Vehicle(type='Vehicle', num_wheels=2)])"
      ]
     },
     "execution_count": 13,
     "metadata": {},
     "output_type": "execute_result"
    }
   ],
   "source": [
    "mod.Container(things=[mod.Vehicle(num_wheels=2)])"
   ]
  },
  {
   "cell_type": "code",
   "execution_count": 14,
   "id": "3313a7d9",
   "metadata": {
    "execution": {
     "iopub.execute_input": "2025-02-01T01:54:21.146074Z",
     "iopub.status.busy": "2025-02-01T01:54:21.145878Z",
     "iopub.status.idle": "2025-02-01T01:54:21.148389Z",
     "shell.execute_reply": "2025-02-01T01:54:21.148013Z"
    }
   },
   "outputs": [],
   "source": [
    "with pytest.raises(ValueError):\n",
    "    mod.Container(things=[mod.Thing(type=\"Vehicle\", num_wheels=2)])"
   ]
  },
  {
   "cell_type": "markdown",
   "id": "da6303ed",
   "metadata": {},
   "source": [
    "## Change type designator range\n",
    "\n",
    "What happens if the range is a curie?"
   ]
  },
  {
   "cell_type": "code",
   "execution_count": 15,
   "id": "5a013aa6",
   "metadata": {
    "execution": {
     "iopub.execute_input": "2025-02-01T01:54:21.150363Z",
     "iopub.status.busy": "2025-02-01T01:54:21.150184Z",
     "iopub.status.idle": "2025-02-01T01:54:21.174490Z",
     "shell.execute_reply": "2025-02-01T01:54:21.174055Z"
    }
   },
   "outputs": [
    {
     "name": "stdout",
     "output_type": "stream",
     "text": [
      "from __future__ import annotations \n",
      "\n",
      "import re\n",
      "import sys\n",
      "from datetime import (\n",
      "    date,\n",
      "    datetime,\n",
      "    time\n",
      ")\n",
      "from decimal import Decimal \n",
      "from enum import Enum \n",
      "from typing import (\n",
      "    Any,\n",
      "    ClassVar,\n",
      "    Dict,\n",
      "    List,\n",
      "    Literal,\n",
      "    Optional,\n",
      "    Union\n",
      ")\n",
      "\n",
      "from pydantic import (\n",
      "    BaseModel,\n",
      "    ConfigDict,\n",
      "    Field,\n",
      "    RootModel,\n",
      "    field_validator\n",
      ")\n",
      "\n",
      "\n",
      "metamodel_version = \"None\"\n",
      "version = \"None\"\n",
      "\n",
      "\n",
      "class ConfiguredBaseModel(BaseModel):\n",
      "    model_config = ConfigDict(\n",
      "        validate_assignment = True,\n",
      "        validate_default = True,\n",
      "        extra = \"forbid\",\n",
      "        arbitrary_types_allowed = True,\n",
      "        use_enum_values = True,\n",
      "        strict = False,\n",
      "    )\n",
      "    pass\n",
      "\n",
      "\n",
      "\n",
      "\n",
      "class LinkMLMeta(RootModel):\n",
      "    root: Dict[str, Any] = {}\n",
      "    model_config = ConfigDict(frozen=True)\n",
      "\n",
      "    def __getattr__(self, key:str):\n",
      "        return getattr(self.root, key)\n",
      "\n",
      "    def __getitem__(self, key:str):\n",
      "        return self.root[key]\n",
      "\n",
      "    def __setitem__(self, key:str, value):\n",
      "        self.root[key] = value\n",
      "\n",
      "    def __contains__(self, key:str) -> bool:\n",
      "        return key in self.root\n",
      "\n",
      "\n",
      "linkml_meta = LinkMLMeta({'default_prefix': 'example',\n",
      "     'default_range': 'string',\n",
      "     'id': 'https://example.org/',\n",
      "     'imports': ['linkml:types'],\n",
      "     'name': 'example',\n",
      "     'prefixes': {'example': {'prefix_prefix': 'example',\n",
      "                              'prefix_reference': 'https://example.org/'},\n",
      "                  'linkml': {'prefix_prefix': 'linkml',\n",
      "                             'prefix_reference': 'https://w3id.org/linkml/'}}} )\n",
      "\n",
      "\n",
      "class Container(ConfiguredBaseModel):\n",
      "    linkml_meta: ClassVar[LinkMLMeta] = LinkMLMeta({'from_schema': 'https://example.org/'})\n",
      "\n",
      "    things: Optional[List[Union[Thing,Building,Vehicle]]] = Field(default=None, json_schema_extra = { \"linkml_meta\": {'alias': 'things', 'domain_of': ['Container']} })\n",
      "\n",
      "\n",
      "class Thing(ConfiguredBaseModel):\n",
      "    linkml_meta: ClassVar[LinkMLMeta] = LinkMLMeta({'from_schema': 'https://example.org/'})\n",
      "\n",
      "    type: Literal[\"https://example.org/Thing\",\"example:Thing\"] = Field(default=\"example:Thing\", json_schema_extra = { \"linkml_meta\": {'alias': 'type', 'designates_type': True, 'domain_of': ['Thing']} })\n",
      "\n",
      "\n",
      "class Building(Thing):\n",
      "    linkml_meta: ClassVar[LinkMLMeta] = LinkMLMeta({'from_schema': 'https://example.org/'})\n",
      "\n",
      "    num_floors: Optional[int] = Field(default=None, json_schema_extra = { \"linkml_meta\": {'alias': 'num_floors', 'domain_of': ['Building']} })\n",
      "    type: Literal[\"https://example.org/Building\",\"example:Building\"] = Field(default=\"example:Building\", json_schema_extra = { \"linkml_meta\": {'alias': 'type', 'designates_type': True, 'domain_of': ['Thing']} })\n",
      "\n",
      "\n",
      "class Vehicle(Thing):\n",
      "    linkml_meta: ClassVar[LinkMLMeta] = LinkMLMeta({'from_schema': 'https://example.org/'})\n",
      "\n",
      "    num_wheels: Optional[int] = Field(default=None, json_schema_extra = { \"linkml_meta\": {'alias': 'num_wheels', 'domain_of': ['Vehicle']} })\n",
      "    type: Literal[\"https://example.org/Vehicle\",\"example:Vehicle\"] = Field(default=\"example:Vehicle\", json_schema_extra = { \"linkml_meta\": {'alias': 'type', 'designates_type': True, 'domain_of': ['Thing']} })\n",
      "\n",
      "\n",
      "# Model rebuild\n",
      "# see https://pydantic-docs.helpmanual.io/usage/models/#rebuilding-a-model\n",
      "Container.model_rebuild()\n",
      "Thing.model_rebuild()\n",
      "Building.model_rebuild()\n",
      "Vehicle.model_rebuild()\n",
      "\n"
     ]
    }
   ],
   "source": [
    "schema.classes[\"Thing\"].attributes[\"type\"].range = \"uriorcurie\"\n",
    "gen = PydanticGenerator(schema, log_level=logging.ERROR)\n",
    "mod = gen.compile_module()\n",
    "print(gen.serialize())"
   ]
  },
  {
   "cell_type": "code",
   "execution_count": 16,
   "id": "73eacb9d",
   "metadata": {
    "execution": {
     "iopub.execute_input": "2025-02-01T01:54:21.176655Z",
     "iopub.status.busy": "2025-02-01T01:54:21.176435Z",
     "iopub.status.idle": "2025-02-01T01:54:21.180230Z",
     "shell.execute_reply": "2025-02-01T01:54:21.179760Z"
    }
   },
   "outputs": [
    {
     "data": {
      "text/plain": [
       "Container(things=[Vehicle(type='example:Vehicle', num_wheels=2)])"
      ]
     },
     "execution_count": 16,
     "metadata": {},
     "output_type": "execute_result"
    }
   ],
   "source": [
    "mod.Container.model_validate({\"things\": [{\"type\": \"example:Vehicle\", \"num_wheels\": 2}]})"
   ]
  },
  {
   "cell_type": "code",
   "execution_count": 17,
   "id": "161b1224",
   "metadata": {
    "execution": {
     "iopub.execute_input": "2025-02-01T01:54:21.182321Z",
     "iopub.status.busy": "2025-02-01T01:54:21.182134Z",
     "iopub.status.idle": "2025-02-01T01:54:21.206782Z",
     "shell.execute_reply": "2025-02-01T01:54:21.205806Z"
    }
   },
   "outputs": [
    {
     "name": "stdout",
     "output_type": "stream",
     "text": [
      "from __future__ import annotations \n",
      "\n",
      "import re\n",
      "import sys\n",
      "from datetime import (\n",
      "    date,\n",
      "    datetime,\n",
      "    time\n",
      ")\n",
      "from decimal import Decimal \n",
      "from enum import Enum \n",
      "from typing import (\n",
      "    Any,\n",
      "    ClassVar,\n",
      "    Dict,\n",
      "    List,\n",
      "    Literal,\n",
      "    Optional,\n",
      "    Union\n",
      ")\n",
      "\n",
      "from pydantic import (\n",
      "    BaseModel,\n",
      "    ConfigDict,\n",
      "    Field,\n",
      "    RootModel,\n",
      "    field_validator\n",
      ")\n",
      "\n",
      "\n",
      "metamodel_version = \"None\"\n",
      "version = \"None\"\n",
      "\n",
      "\n",
      "class ConfiguredBaseModel(BaseModel):\n",
      "    model_config = ConfigDict(\n",
      "        validate_assignment = True,\n",
      "        validate_default = True,\n",
      "        extra = \"forbid\",\n",
      "        arbitrary_types_allowed = True,\n",
      "        use_enum_values = True,\n",
      "        strict = False,\n",
      "    )\n",
      "    pass\n",
      "\n",
      "\n",
      "\n",
      "\n",
      "class LinkMLMeta(RootModel):\n",
      "    root: Dict[str, Any] = {}\n",
      "    model_config = ConfigDict(frozen=True)\n",
      "\n",
      "    def __getattr__(self, key:str):\n",
      "        return getattr(self.root, key)\n",
      "\n",
      "    def __getitem__(self, key:str):\n",
      "        return self.root[key]\n",
      "\n",
      "    def __setitem__(self, key:str, value):\n",
      "        self.root[key] = value\n",
      "\n",
      "    def __contains__(self, key:str) -> bool:\n",
      "        return key in self.root\n",
      "\n",
      "\n",
      "linkml_meta = LinkMLMeta({'default_prefix': 'example',\n",
      "     'default_range': 'string',\n",
      "     'id': 'https://example.org/',\n",
      "     'imports': ['linkml:types'],\n",
      "     'name': 'example',\n",
      "     'prefixes': {'example': {'prefix_prefix': 'example',\n",
      "                              'prefix_reference': 'https://example.org/'},\n",
      "                  'linkml': {'prefix_prefix': 'linkml',\n",
      "                             'prefix_reference': 'https://w3id.org/linkml/'}}} )\n",
      "\n",
      "\n",
      "class Container(ConfiguredBaseModel):\n",
      "    linkml_meta: ClassVar[LinkMLMeta] = LinkMLMeta({'from_schema': 'https://example.org/'})\n",
      "\n",
      "    things: Optional[List[Union[Thing,Building,Vehicle]]] = Field(default=None, json_schema_extra = { \"linkml_meta\": {'alias': 'things', 'domain_of': ['Container']} })\n",
      "\n",
      "\n",
      "class Thing(ConfiguredBaseModel):\n",
      "    linkml_meta: ClassVar[LinkMLMeta] = LinkMLMeta({'from_schema': 'https://example.org/'})\n",
      "\n",
      "    type: Literal[\"https://example.org/Thing\",\"example:Thing\"] = Field(default=\"https://example.org/Thing\", json_schema_extra = { \"linkml_meta\": {'alias': 'type', 'designates_type': True, 'domain_of': ['Thing']} })\n",
      "\n",
      "\n",
      "class Building(Thing):\n",
      "    linkml_meta: ClassVar[LinkMLMeta] = LinkMLMeta({'from_schema': 'https://example.org/'})\n",
      "\n",
      "    num_floors: Optional[int] = Field(default=None, json_schema_extra = { \"linkml_meta\": {'alias': 'num_floors', 'domain_of': ['Building']} })\n",
      "    type: Literal[\"https://example.org/Building\",\"example:Building\"] = Field(default=\"https://example.org/Building\", json_schema_extra = { \"linkml_meta\": {'alias': 'type', 'designates_type': True, 'domain_of': ['Thing']} })\n",
      "\n",
      "\n",
      "class Vehicle(Thing):\n",
      "    linkml_meta: ClassVar[LinkMLMeta] = LinkMLMeta({'from_schema': 'https://example.org/'})\n",
      "\n",
      "    num_wheels: Optional[int] = Field(default=None, json_schema_extra = { \"linkml_meta\": {'alias': 'num_wheels', 'domain_of': ['Vehicle']} })\n",
      "    type: Literal[\"https://example.org/Vehicle\",\"example:Vehicle\"] = Field(default=\"https://example.org/Vehicle\", json_schema_extra = { \"linkml_meta\": {'alias': 'type', 'designates_type': True, 'domain_of': ['Thing']} })\n",
      "\n",
      "\n",
      "# Model rebuild\n",
      "# see https://pydantic-docs.helpmanual.io/usage/models/#rebuilding-a-model\n",
      "Container.model_rebuild()\n",
      "Thing.model_rebuild()\n",
      "Building.model_rebuild()\n",
      "Vehicle.model_rebuild()\n",
      "\n"
     ]
    }
   ],
   "source": [
    "schema.classes[\"Thing\"].attributes[\"type\"].range = \"uri\"\n",
    "gen = PydanticGenerator(schema, log_level=logging.ERROR)\n",
    "mod = gen.compile_module()\n",
    "print(gen.serialize())"
   ]
  },
  {
   "cell_type": "markdown",
   "id": "57680a2d",
   "metadata": {},
   "source": [
    "## Data Classes"
   ]
  },
  {
   "cell_type": "raw",
   "id": "3c4eddde-e8ec-4259-a3c2-d79fbd47452f",
   "metadata": {},
   "source": [
    "from linkml.generators.pythongen import PythonGenerator\n",
    "import logging\n",
    "\n",
    "# Note: Jupyter appears to generate output even if the log_level is set.\n",
    "gen = PythonGenerator(model, log_level=logging.ERROR)\n",
    "print(gen.serialize())"
   ]
  },
  {
   "cell_type": "markdown",
   "id": "673e03c5",
   "metadata": {},
   "source": [
    "## Any Of"
   ]
  },
  {
   "cell_type": "code",
   "execution_count": 18,
   "id": "5471eebf",
   "metadata": {
    "execution": {
     "iopub.execute_input": "2025-02-01T01:54:21.209117Z",
     "iopub.status.busy": "2025-02-01T01:54:21.208907Z",
     "iopub.status.idle": "2025-02-01T01:54:21.215348Z",
     "shell.execute_reply": "2025-02-01T01:54:21.214849Z"
    }
   },
   "outputs": [
    {
     "data": {
      "application/javascript": [
       "\n",
       "            require(\n",
       "                [\n",
       "                    \"notebook/js/codecell\",\n",
       "                    \"codemirror/mode/yaml/yaml\"\n",
       "                ],\n",
       "                function(cc){\n",
       "                    cc.CodeCell.options_default.highlight_modes.magic_yaml = {\n",
       "                        reg: [\"^%%yaml\"]\n",
       "                    }\n",
       "                }\n",
       "            );\n",
       "            "
      ],
      "text/plain": [
       "<IPython.core.display.Javascript object>"
      ]
     },
     "metadata": {},
     "output_type": "display_data"
    }
   ],
   "source": [
    "%%yaml model\n",
    "id: https://example.org/\n",
    "name: example\n",
    "prefixes:\n",
    "  example: https://example.org/\n",
    "  linkml: https://w3id.org/linkml/\n",
    "default_prefix: example\n",
    "imports:\n",
    "  - linkml:types\n",
    "\n",
    "classes:\n",
    "  Thing:\n",
    "    attributes:\n",
    "      type:\n",
    "        designates_type: true\n",
    "        range: string\n",
    "  Vehicle:\n",
    "    is_a: Thing\n",
    "    attributes:\n",
    "      num_wheels:\n",
    "        range: integer\n",
    "  Car:\n",
    "    is_a: Vehicle\n",
    "    slot_usage:\n",
    "      num_wheels:\n",
    "        equals_expression: \"2\"\n",
    "  Bicycle:\n",
    "    is_a: Vehicle\n",
    "    slot_usage:\n",
    "      num_wheels:\n",
    "        equals_expression: \"4\"\n",
    "  Building:\n",
    "    is_a: Thing\n",
    "    attributes:\n",
    "      num_floors:\n",
    "        range: integer\n",
    "        \n",
    "  Container:\n",
    "    attributes:\n",
    "      things:\n",
    "        any_of:\n",
    "          - range: Vehicle\n",
    "          - range: Building\n",
    "        multivalued: true\n",
    "    "
   ]
  },
  {
   "cell_type": "code",
   "execution_count": 19,
   "id": "eb108020",
   "metadata": {
    "execution": {
     "iopub.execute_input": "2025-02-01T01:54:21.217271Z",
     "iopub.status.busy": "2025-02-01T01:54:21.217074Z",
     "iopub.status.idle": "2025-02-01T01:54:21.228539Z",
     "shell.execute_reply": "2025-02-01T01:54:21.228003Z"
    }
   },
   "outputs": [],
   "source": [
    "model_str = yaml.dump(model)\n",
    "sv = SchemaView(model_str)\n",
    "schema = sv.schema"
   ]
  },
  {
   "cell_type": "code",
   "execution_count": 20,
   "id": "5125a057",
   "metadata": {
    "execution": {
     "iopub.execute_input": "2025-02-01T01:54:21.230773Z",
     "iopub.status.busy": "2025-02-01T01:54:21.230529Z",
     "iopub.status.idle": "2025-02-01T01:54:21.329655Z",
     "shell.execute_reply": "2025-02-01T01:54:21.329059Z"
    }
   },
   "outputs": [
    {
     "name": "stdout",
     "output_type": "stream",
     "text": [
      "from __future__ import annotations \n",
      "\n",
      "import re\n",
      "import sys\n",
      "from datetime import (\n",
      "    date,\n",
      "    datetime,\n",
      "    time\n",
      ")\n",
      "from decimal import Decimal \n",
      "from enum import Enum \n",
      "from typing import (\n",
      "    Any,\n",
      "    ClassVar,\n",
      "    Dict,\n",
      "    List,\n",
      "    Literal,\n",
      "    Optional,\n",
      "    Union\n",
      ")\n",
      "\n",
      "from pydantic import (\n",
      "    BaseModel,\n",
      "    ConfigDict,\n",
      "    Field,\n",
      "    RootModel,\n",
      "    field_validator\n",
      ")\n",
      "\n",
      "\n",
      "metamodel_version = \"None\"\n",
      "version = \"None\"\n",
      "\n",
      "\n",
      "class ConfiguredBaseModel(BaseModel):\n",
      "    model_config = ConfigDict(\n",
      "        validate_assignment = True,\n",
      "        validate_default = True,\n",
      "        extra = \"forbid\",\n",
      "        arbitrary_types_allowed = True,\n",
      "        use_enum_values = True,\n",
      "        strict = False,\n",
      "    )\n",
      "    pass\n",
      "\n",
      "\n",
      "\n",
      "\n",
      "class LinkMLMeta(RootModel):\n",
      "    root: Dict[str, Any] = {}\n",
      "    model_config = ConfigDict(frozen=True)\n",
      "\n",
      "    def __getattr__(self, key:str):\n",
      "        return getattr(self.root, key)\n",
      "\n",
      "    def __getitem__(self, key:str):\n",
      "        return self.root[key]\n",
      "\n",
      "    def __setitem__(self, key:str, value):\n",
      "        self.root[key] = value\n",
      "\n",
      "    def __contains__(self, key:str) -> bool:\n",
      "        return key in self.root\n",
      "\n",
      "\n",
      "linkml_meta = LinkMLMeta({'default_prefix': 'example',\n",
      "     'id': 'https://example.org/',\n",
      "     'imports': ['linkml:types'],\n",
      "     'name': 'example',\n",
      "     'prefixes': {'example': {'prefix_prefix': 'example',\n",
      "                              'prefix_reference': 'https://example.org/'},\n",
      "                  'linkml': {'prefix_prefix': 'linkml',\n",
      "                             'prefix_reference': 'https://w3id.org/linkml/'}}} )\n",
      "\n",
      "\n",
      "class Container(ConfiguredBaseModel):\n",
      "    linkml_meta: ClassVar[LinkMLMeta] = LinkMLMeta({'from_schema': 'https://example.org/'})\n",
      "\n",
      "    things: Optional[List[Union[Building, Union[Vehicle,Bicycle,Car]]]] = Field(default=None, json_schema_extra = { \"linkml_meta\": {'alias': 'things',\n",
      "         'any_of': [{'range': 'Vehicle'}, {'range': 'Building'}],\n",
      "         'domain_of': ['Container']} })\n",
      "\n",
      "\n",
      "class Thing(ConfiguredBaseModel):\n",
      "    linkml_meta: ClassVar[LinkMLMeta] = LinkMLMeta({'from_schema': 'https://example.org/'})\n",
      "\n",
      "    type: Literal[\"Thing\"] = Field(default=\"Thing\", json_schema_extra = { \"linkml_meta\": {'alias': 'type', 'designates_type': True, 'domain_of': ['Thing']} })\n",
      "\n",
      "\n",
      "class Building(Thing):\n",
      "    linkml_meta: ClassVar[LinkMLMeta] = LinkMLMeta({'from_schema': 'https://example.org/'})\n",
      "\n",
      "    num_floors: Optional[int] = Field(default=None, json_schema_extra = { \"linkml_meta\": {'alias': 'num_floors', 'domain_of': ['Building']} })\n",
      "    type: Literal[\"Building\"] = Field(default=\"Building\", json_schema_extra = { \"linkml_meta\": {'alias': 'type', 'designates_type': True, 'domain_of': ['Thing']} })\n",
      "\n",
      "\n",
      "class Vehicle(Thing):\n",
      "    linkml_meta: ClassVar[LinkMLMeta] = LinkMLMeta({'from_schema': 'https://example.org/'})\n",
      "\n",
      "    num_wheels: Optional[int] = Field(default=None, json_schema_extra = { \"linkml_meta\": {'alias': 'num_wheels', 'domain_of': ['Vehicle']} })\n",
      "    type: Literal[\"Vehicle\"] = Field(default=\"Vehicle\", json_schema_extra = { \"linkml_meta\": {'alias': 'type', 'designates_type': True, 'domain_of': ['Thing']} })\n",
      "\n",
      "\n",
      "class Bicycle(Vehicle):\n",
      "    linkml_meta: ClassVar[LinkMLMeta] = LinkMLMeta({'from_schema': 'https://example.org/',\n",
      "         'slot_usage': {'num_wheels': {'equals_expression': '4', 'name': 'num_wheels'}}})\n",
      "\n",
      "    num_wheels: Optional[int] = Field(default=None, json_schema_extra = { \"linkml_meta\": {'alias': 'num_wheels', 'domain_of': ['Vehicle'], 'equals_expression': '4'} })\n",
      "    type: Literal[\"Bicycle\"] = Field(default=\"Bicycle\", json_schema_extra = { \"linkml_meta\": {'alias': 'type', 'designates_type': True, 'domain_of': ['Thing']} })\n",
      "\n",
      "\n",
      "class Car(Vehicle):\n",
      "    linkml_meta: ClassVar[LinkMLMeta] = LinkMLMeta({'from_schema': 'https://example.org/',\n",
      "         'slot_usage': {'num_wheels': {'equals_expression': '2', 'name': 'num_wheels'}}})\n",
      "\n",
      "    num_wheels: Optional[int] = Field(default=None, json_schema_extra = { \"linkml_meta\": {'alias': 'num_wheels', 'domain_of': ['Vehicle'], 'equals_expression': '2'} })\n",
      "    type: Literal[\"Car\"] = Field(default=\"Car\", json_schema_extra = { \"linkml_meta\": {'alias': 'type', 'designates_type': True, 'domain_of': ['Thing']} })\n",
      "\n",
      "\n",
      "# Model rebuild\n",
      "# see https://pydantic-docs.helpmanual.io/usage/models/#rebuilding-a-model\n",
      "Container.model_rebuild()\n",
      "Thing.model_rebuild()\n",
      "Building.model_rebuild()\n",
      "Vehicle.model_rebuild()\n",
      "Bicycle.model_rebuild()\n",
      "Car.model_rebuild()\n",
      "\n"
     ]
    }
   ],
   "source": [
    "from logging import ERROR\n",
    "gen = PydanticGenerator(schema, log_level=ERROR)\n",
    "mod = gen.compile_module()\n",
    "print(gen.serialize())"
   ]
  },
  {
   "cell_type": "code",
   "execution_count": 21,
   "id": "2599c367",
   "metadata": {
    "execution": {
     "iopub.execute_input": "2025-02-01T01:54:21.332128Z",
     "iopub.status.busy": "2025-02-01T01:54:21.331877Z",
     "iopub.status.idle": "2025-02-01T01:54:21.334581Z",
     "shell.execute_reply": "2025-02-01T01:54:21.333969Z"
    }
   },
   "outputs": [],
   "source": [
    "# TODO: flatten unions"
   ]
  },
  {
   "cell_type": "code",
   "execution_count": 22,
   "id": "52a742f8",
   "metadata": {
    "execution": {
     "iopub.execute_input": "2025-02-01T01:54:21.336885Z",
     "iopub.status.busy": "2025-02-01T01:54:21.336649Z",
     "iopub.status.idle": "2025-02-01T01:54:21.340699Z",
     "shell.execute_reply": "2025-02-01T01:54:21.340136Z"
    }
   },
   "outputs": [
    {
     "data": {
      "text/plain": [
       "Container(things=[Vehicle(type='Vehicle', num_wheels=None)])"
      ]
     },
     "execution_count": 22,
     "metadata": {},
     "output_type": "execute_result"
    }
   ],
   "source": [
    "mod.Container.model_validate({\"things\": [{\"type\": \"Vehicle\"}]})"
   ]
  },
  {
   "cell_type": "code",
   "execution_count": 23,
   "id": "23f35fee",
   "metadata": {
    "execution": {
     "iopub.execute_input": "2025-02-01T01:54:21.343146Z",
     "iopub.status.busy": "2025-02-01T01:54:21.342729Z",
     "iopub.status.idle": "2025-02-01T01:54:21.345330Z",
     "shell.execute_reply": "2025-02-01T01:54:21.344816Z"
    }
   },
   "outputs": [],
   "source": [
    "# TODO: expressions"
   ]
  },
  {
   "cell_type": "markdown",
   "id": "da4ea59b",
   "metadata": {},
   "source": [
    "## Union Of"
   ]
  },
  {
   "cell_type": "code",
   "execution_count": 24,
   "id": "7d897da4",
   "metadata": {
    "execution": {
     "iopub.execute_input": "2025-02-01T01:54:21.347678Z",
     "iopub.status.busy": "2025-02-01T01:54:21.347463Z",
     "iopub.status.idle": "2025-02-01T01:54:21.354723Z",
     "shell.execute_reply": "2025-02-01T01:54:21.354235Z"
    }
   },
   "outputs": [
    {
     "data": {
      "application/javascript": [
       "\n",
       "            require(\n",
       "                [\n",
       "                    \"notebook/js/codecell\",\n",
       "                    \"codemirror/mode/yaml/yaml\"\n",
       "                ],\n",
       "                function(cc){\n",
       "                    cc.CodeCell.options_default.highlight_modes.magic_yaml = {\n",
       "                        reg: [\"^%%yaml\"]\n",
       "                    }\n",
       "                }\n",
       "            );\n",
       "            "
      ],
      "text/plain": [
       "<IPython.core.display.Javascript object>"
      ]
     },
     "metadata": {},
     "output_type": "display_data"
    }
   ],
   "source": [
    "%%yaml model\n",
    "id: https://example.org/\n",
    "name: example\n",
    "prefixes:\n",
    "  example: https://example.org/\n",
    "  linkml: https://w3id.org/linkml/\n",
    "default_prefix: example\n",
    "imports:\n",
    "  - linkml:types\n",
    "\n",
    "classes:\n",
    "  Thing:\n",
    "    attributes:\n",
    "      type:\n",
    "        designates_type: true\n",
    "        range: string\n",
    "  Vehicle:\n",
    "    is_a: Thing\n",
    "    attributes:\n",
    "      num_wheels:\n",
    "        range: integer\n",
    "  Car:\n",
    "    is_a: Vehicle\n",
    "    slot_usage:\n",
    "      num_wheels:\n",
    "        equals_expression: \"2\"\n",
    "  Bicycle:\n",
    "    is_a: Vehicle\n",
    "    slot_usage:\n",
    "      num_wheels:\n",
    "        equals_expression: \"4\"\n",
    "  Building:\n",
    "    is_a: Thing\n",
    "    attributes:\n",
    "      num_floors:\n",
    "        range: integer\n",
    "        \n",
    "  Container:\n",
    "    attributes:\n",
    "      things:\n",
    "        any_of:\n",
    "          - range: Vehicle\n",
    "          - range: Building\n",
    "        multivalued: true\n",
    "    "
   ]
  }
 ],
 "metadata": {
  "kernelspec": {
   "display_name": "Python 3 (ipykernel)",
   "language": "python",
   "name": "python3"
  },
  "language_info": {
   "codemirror_mode": {
    "name": "ipython",
    "version": 3
   },
   "file_extension": ".py",
   "mimetype": "text/x-python",
   "name": "python",
   "nbconvert_exporter": "python",
   "pygments_lexer": "ipython3",
   "version": "3.13.1"
  }
 },
 "nbformat": 4,
 "nbformat_minor": 5
}

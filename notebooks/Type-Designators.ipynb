{
 "cells": [
  {
   "cell_type": "code",
   "execution_count": 1,
   "id": "09841f4a-d785-4fa8-8daf-2906c89007c6",
   "metadata": {
    "execution": {
     "iopub.execute_input": "2025-04-02T19:30:07.152765Z",
     "iopub.status.busy": "2025-04-02T19:30:07.152099Z",
     "iopub.status.idle": "2025-04-02T19:30:09.607135Z",
     "shell.execute_reply": "2025-04-02T19:30:09.606093Z"
    }
   },
   "outputs": [],
   "source": [
    "!pip install -q --disable-pip-version-check yamlmagic\n",
    "%load_ext yamlmagic"
   ]
  },
  {
   "cell_type": "code",
   "execution_count": 2,
   "id": "8327f543",
   "metadata": {
    "execution": {
     "iopub.execute_input": "2025-04-02T19:30:09.612366Z",
     "iopub.status.busy": "2025-04-02T19:30:09.611937Z",
     "iopub.status.idle": "2025-04-02T19:30:09.626801Z",
     "shell.execute_reply": "2025-04-02T19:30:09.625534Z"
    }
   },
   "outputs": [
    {
     "data": {
      "application/javascript": [
       "\n",
       "            require(\n",
       "                [\n",
       "                    \"notebook/js/codecell\",\n",
       "                    \"codemirror/mode/yaml/yaml\"\n",
       "                ],\n",
       "                function(cc){\n",
       "                    cc.CodeCell.options_default.highlight_modes.magic_yaml = {\n",
       "                        reg: [\"^%%yaml\"]\n",
       "                    }\n",
       "                }\n",
       "            );\n",
       "            "
      ],
      "text/plain": [
       "<IPython.core.display.Javascript object>"
      ]
     },
     "metadata": {},
     "output_type": "display_data"
    }
   ],
   "source": [
    "%%yaml model\n",
    "id: https://example.org/\n",
    "name: example\n",
    "prefixes:\n",
    "  example: https://example.org/\n",
    "  linkml: https://w3id.org/linkml/\n",
    "default_prefix: example\n",
    "default_range: string\n",
    "imports:\n",
    "  - linkml:types\n",
    "\n",
    "classes:\n",
    "  Thing:\n",
    "    attributes:\n",
    "      type:\n",
    "        designates_type: true\n",
    "  Vehicle:\n",
    "    is_a: Thing\n",
    "    attributes:\n",
    "      num_wheels:\n",
    "        range: integer\n",
    "  Building:\n",
    "    is_a: Thing\n",
    "    attributes:\n",
    "      num_floors:\n",
    "        range: integer\n",
    "        \n",
    "  Container:\n",
    "    attributes:\n",
    "      things:\n",
    "        range: Thing\n",
    "        multivalued: true\n",
    "    "
   ]
  },
  {
   "cell_type": "code",
   "execution_count": 3,
   "id": "25ad3561-ccb0-418b-b9f5-3d17ef13e343",
   "metadata": {
    "execution": {
     "iopub.execute_input": "2025-04-02T19:30:09.630658Z",
     "iopub.status.busy": "2025-04-02T19:30:09.630327Z",
     "iopub.status.idle": "2025-04-02T19:30:09.636218Z",
     "shell.execute_reply": "2025-04-02T19:30:09.635405Z"
    }
   },
   "outputs": [],
   "source": [
    "import yaml\n",
    "model_str = yaml.dump(model)"
   ]
  },
  {
   "cell_type": "code",
   "execution_count": 4,
   "id": "32188102",
   "metadata": {
    "execution": {
     "iopub.execute_input": "2025-04-02T19:30:09.639914Z",
     "iopub.status.busy": "2025-04-02T19:30:09.639566Z",
     "iopub.status.idle": "2025-04-02T19:30:10.287808Z",
     "shell.execute_reply": "2025-04-02T19:30:10.286751Z"
    }
   },
   "outputs": [],
   "source": [
    "from linkml_runtime.utils.schemaview import SchemaView"
   ]
  },
  {
   "cell_type": "code",
   "execution_count": 5,
   "id": "0c7a6094",
   "metadata": {
    "execution": {
     "iopub.execute_input": "2025-04-02T19:30:10.291221Z",
     "iopub.status.busy": "2025-04-02T19:30:10.290800Z",
     "iopub.status.idle": "2025-04-02T19:30:10.313121Z",
     "shell.execute_reply": "2025-04-02T19:30:10.312319Z"
    }
   },
   "outputs": [],
   "source": [
    "sv = SchemaView(model_str)\n",
    "schema = sv.schema"
   ]
  },
  {
   "cell_type": "code",
   "execution_count": 6,
   "id": "efdd443a",
   "metadata": {
    "execution": {
     "iopub.execute_input": "2025-04-02T19:30:10.316194Z",
     "iopub.status.busy": "2025-04-02T19:30:10.315863Z",
     "iopub.status.idle": "2025-04-02T19:30:10.900513Z",
     "shell.execute_reply": "2025-04-02T19:30:10.899725Z"
    }
   },
   "outputs": [],
   "source": [
    "from linkml.generators.pydanticgen import PydanticGenerator\n",
    "import yaml"
   ]
  },
  {
   "cell_type": "code",
   "execution_count": 7,
   "id": "00808b90",
   "metadata": {
    "execution": {
     "iopub.execute_input": "2025-04-02T19:30:10.904388Z",
     "iopub.status.busy": "2025-04-02T19:30:10.903852Z",
     "iopub.status.idle": "2025-04-02T19:30:10.908524Z",
     "shell.execute_reply": "2025-04-02T19:30:10.907796Z"
    }
   },
   "outputs": [],
   "source": [
    "import logging\n",
    "gen = PydanticGenerator(schema, log_level=logging.ERROR)"
   ]
  },
  {
   "cell_type": "code",
   "execution_count": 8,
   "id": "7acde179",
   "metadata": {
    "execution": {
     "iopub.execute_input": "2025-04-02T19:30:10.911626Z",
     "iopub.status.busy": "2025-04-02T19:30:10.911267Z",
     "iopub.status.idle": "2025-04-02T19:30:10.978478Z",
     "shell.execute_reply": "2025-04-02T19:30:10.977533Z"
    }
   },
   "outputs": [
    {
     "name": "stdout",
     "output_type": "stream",
     "text": [
      "from __future__ import annotations \n",
      "\n",
      "import re\n",
      "import sys\n",
      "from datetime import (\n",
      "    date,\n",
      "    datetime,\n",
      "    time\n",
      ")\n",
      "from decimal import Decimal \n",
      "from enum import Enum \n",
      "from typing import (\n",
      "    Any,\n",
      "    ClassVar,\n",
      "    Dict,\n",
      "    List,\n",
      "    Literal,\n",
      "    Optional,\n",
      "    Union\n",
      ")\n",
      "\n",
      "from pydantic import (\n",
      "    BaseModel,\n",
      "    ConfigDict,\n",
      "    Field,\n",
      "    RootModel,\n",
      "    field_validator\n",
      ")\n",
      "\n",
      "\n",
      "metamodel_version = \"None\"\n",
      "version = \"None\"\n",
      "\n",
      "\n",
      "class ConfiguredBaseModel(BaseModel):\n",
      "    model_config = ConfigDict(\n",
      "        validate_assignment = True,\n",
      "        validate_default = True,\n",
      "        extra = \"forbid\",\n",
      "        arbitrary_types_allowed = True,\n",
      "        use_enum_values = True,\n",
      "        strict = False,\n",
      "    )\n",
      "    pass\n",
      "\n",
      "\n",
      "\n",
      "\n",
      "class LinkMLMeta(RootModel):\n",
      "    root: Dict[str, Any] = {}\n",
      "    model_config = ConfigDict(frozen=True)\n",
      "\n",
      "    def __getattr__(self, key:str):\n",
      "        return getattr(self.root, key)\n",
      "\n",
      "    def __getitem__(self, key:str):\n",
      "        return self.root[key]\n",
      "\n",
      "    def __setitem__(self, key:str, value):\n",
      "        self.root[key] = value\n",
      "\n",
      "    def __contains__(self, key:str) -> bool:\n",
      "        return key in self.root\n",
      "\n",
      "\n",
      "linkml_meta = LinkMLMeta({'default_prefix': 'example',\n",
      "     'default_range': 'string',\n",
      "     'id': 'https://example.org/',\n",
      "     'imports': ['linkml:types'],\n",
      "     'name': 'example',\n",
      "     'prefixes': {'example': {'prefix_prefix': 'example',\n",
      "                              'prefix_reference': 'https://example.org/'},\n",
      "                  'linkml': {'prefix_prefix': 'linkml',\n",
      "                             'prefix_reference': 'https://w3id.org/linkml/'}}} )\n",
      "\n",
      "\n",
      "class Container(ConfiguredBaseModel):\n",
      "    linkml_meta: ClassVar[LinkMLMeta] = LinkMLMeta({'from_schema': 'https://example.org/'})\n",
      "\n",
      "    things: Optional[List[Union[Thing,Building,Vehicle]]] = Field(default=None, json_schema_extra = { \"linkml_meta\": {'alias': 'things', 'domain_of': ['Container']} })\n",
      "\n",
      "\n",
      "class Thing(ConfiguredBaseModel):\n",
      "    linkml_meta: ClassVar[LinkMLMeta] = LinkMLMeta({'from_schema': 'https://example.org/'})\n",
      "\n",
      "    type: Literal[\"Thing\"] = Field(default=\"Thing\", json_schema_extra = { \"linkml_meta\": {'alias': 'type', 'designates_type': True, 'domain_of': ['Thing']} })\n",
      "\n",
      "\n",
      "class Building(Thing):\n",
      "    linkml_meta: ClassVar[LinkMLMeta] = LinkMLMeta({'from_schema': 'https://example.org/'})\n",
      "\n",
      "    num_floors: Optional[int] = Field(default=None, json_schema_extra = { \"linkml_meta\": {'alias': 'num_floors', 'domain_of': ['Building']} })\n",
      "    type: Literal[\"Building\"] = Field(default=\"Building\", json_schema_extra = { \"linkml_meta\": {'alias': 'type', 'designates_type': True, 'domain_of': ['Thing']} })\n",
      "\n",
      "\n",
      "class Vehicle(Thing):\n",
      "    linkml_meta: ClassVar[LinkMLMeta] = LinkMLMeta({'from_schema': 'https://example.org/'})\n",
      "\n",
      "    num_wheels: Optional[int] = Field(default=None, json_schema_extra = { \"linkml_meta\": {'alias': 'num_wheels', 'domain_of': ['Vehicle']} })\n",
      "    type: Literal[\"Vehicle\"] = Field(default=\"Vehicle\", json_schema_extra = { \"linkml_meta\": {'alias': 'type', 'designates_type': True, 'domain_of': ['Thing']} })\n",
      "\n",
      "\n",
      "# Model rebuild\n",
      "# see https://pydantic-docs.helpmanual.io/usage/models/#rebuilding-a-model\n",
      "Container.model_rebuild()\n",
      "Thing.model_rebuild()\n",
      "Building.model_rebuild()\n",
      "Vehicle.model_rebuild()\n",
      "\n"
     ]
    }
   ],
   "source": [
    "print(gen.serialize())"
   ]
  },
  {
   "cell_type": "code",
   "execution_count": 9,
   "id": "ed4dae50",
   "metadata": {
    "execution": {
     "iopub.execute_input": "2025-04-02T19:30:10.981413Z",
     "iopub.status.busy": "2025-04-02T19:30:10.981109Z",
     "iopub.status.idle": "2025-04-02T19:30:11.004013Z",
     "shell.execute_reply": "2025-04-02T19:30:11.002729Z"
    }
   },
   "outputs": [],
   "source": [
    "mod = gen.compile_module()"
   ]
  },
  {
   "cell_type": "code",
   "execution_count": 10,
   "id": "68b8b0c1",
   "metadata": {
    "execution": {
     "iopub.execute_input": "2025-04-02T19:30:11.007709Z",
     "iopub.status.busy": "2025-04-02T19:30:11.007368Z",
     "iopub.status.idle": "2025-04-02T19:30:11.013695Z",
     "shell.execute_reply": "2025-04-02T19:30:11.012863Z"
    }
   },
   "outputs": [
    {
     "data": {
      "text/plain": [
       "Container(things=[Vehicle(type='Vehicle', num_wheels=2)])"
      ]
     },
     "execution_count": 10,
     "metadata": {},
     "output_type": "execute_result"
    }
   ],
   "source": [
    "mod.Container.model_validate({\"things\": [{\"type\": \"Vehicle\", \"num_wheels\": 2}]})"
   ]
  },
  {
   "cell_type": "code",
   "execution_count": 11,
   "id": "edd152f5",
   "metadata": {
    "execution": {
     "iopub.execute_input": "2025-04-02T19:30:11.016584Z",
     "iopub.status.busy": "2025-04-02T19:30:11.016293Z",
     "iopub.status.idle": "2025-04-02T19:30:11.144125Z",
     "shell.execute_reply": "2025-04-02T19:30:11.143270Z"
    }
   },
   "outputs": [],
   "source": [
    "import pytest"
   ]
  },
  {
   "cell_type": "code",
   "execution_count": 12,
   "id": "23f2c500",
   "metadata": {
    "execution": {
     "iopub.execute_input": "2025-04-02T19:30:11.147597Z",
     "iopub.status.busy": "2025-04-02T19:30:11.147275Z",
     "iopub.status.idle": "2025-04-02T19:30:11.151350Z",
     "shell.execute_reply": "2025-04-02T19:30:11.150701Z"
    }
   },
   "outputs": [],
   "source": [
    "with pytest.raises(ValueError):\n",
    "  mod.Container.model_validate({\"things\": [{\"type\": \"Vehicle\", \"num_floors\": 4}]})"
   ]
  },
  {
   "cell_type": "code",
   "execution_count": 13,
   "id": "46081bd4",
   "metadata": {
    "execution": {
     "iopub.execute_input": "2025-04-02T19:30:11.154581Z",
     "iopub.status.busy": "2025-04-02T19:30:11.154267Z",
     "iopub.status.idle": "2025-04-02T19:30:11.160036Z",
     "shell.execute_reply": "2025-04-02T19:30:11.159374Z"
    }
   },
   "outputs": [
    {
     "data": {
      "text/plain": [
       "Container(things=[Vehicle(type='Vehicle', num_wheels=2)])"
      ]
     },
     "execution_count": 13,
     "metadata": {},
     "output_type": "execute_result"
    }
   ],
   "source": [
    "mod.Container(things=[mod.Vehicle(num_wheels=2)])"
   ]
  },
  {
   "cell_type": "code",
   "execution_count": 14,
   "id": "3313a7d9",
   "metadata": {
    "execution": {
     "iopub.execute_input": "2025-04-02T19:30:11.163026Z",
     "iopub.status.busy": "2025-04-02T19:30:11.162736Z",
     "iopub.status.idle": "2025-04-02T19:30:11.166736Z",
     "shell.execute_reply": "2025-04-02T19:30:11.166015Z"
    }
   },
   "outputs": [],
   "source": [
    "with pytest.raises(ValueError):\n",
    "    mod.Container(things=[mod.Thing(type=\"Vehicle\", num_wheels=2)])"
   ]
  },
  {
   "cell_type": "markdown",
   "id": "da6303ed",
   "metadata": {},
   "source": [
    "## Change type designator range\n",
    "\n",
    "What happens if the range is a curie?"
   ]
  },
  {
   "cell_type": "code",
   "execution_count": 15,
   "id": "5a013aa6",
   "metadata": {
    "execution": {
     "iopub.execute_input": "2025-04-02T19:30:11.170008Z",
     "iopub.status.busy": "2025-04-02T19:30:11.169686Z",
     "iopub.status.idle": "2025-04-02T19:30:11.213319Z",
     "shell.execute_reply": "2025-04-02T19:30:11.212345Z"
    }
   },
   "outputs": [
    {
     "name": "stdout",
     "output_type": "stream",
     "text": [
      "from __future__ import annotations \n",
      "\n",
      "import re\n",
      "import sys\n",
      "from datetime import (\n",
      "    date,\n",
      "    datetime,\n",
      "    time\n",
      ")\n",
      "from decimal import Decimal \n",
      "from enum import Enum \n",
      "from typing import (\n",
      "    Any,\n",
      "    ClassVar,\n",
      "    Dict,\n",
      "    List,\n",
      "    Literal,\n",
      "    Optional,\n",
      "    Union\n",
      ")\n",
      "\n",
      "from pydantic import (\n",
      "    BaseModel,\n",
      "    ConfigDict,\n",
      "    Field,\n",
      "    RootModel,\n",
      "    field_validator\n",
      ")\n",
      "\n",
      "\n",
      "metamodel_version = \"None\"\n",
      "version = \"None\"\n",
      "\n",
      "\n",
      "class ConfiguredBaseModel(BaseModel):\n",
      "    model_config = ConfigDict(\n",
      "        validate_assignment = True,\n",
      "        validate_default = True,\n",
      "        extra = \"forbid\",\n",
      "        arbitrary_types_allowed = True,\n",
      "        use_enum_values = True,\n",
      "        strict = False,\n",
      "    )\n",
      "    pass\n",
      "\n",
      "\n",
      "\n",
      "\n",
      "class LinkMLMeta(RootModel):\n",
      "    root: Dict[str, Any] = {}\n",
      "    model_config = ConfigDict(frozen=True)\n",
      "\n",
      "    def __getattr__(self, key:str):\n",
      "        return getattr(self.root, key)\n",
      "\n",
      "    def __getitem__(self, key:str):\n",
      "        return self.root[key]\n",
      "\n",
      "    def __setitem__(self, key:str, value):\n",
      "        self.root[key] = value\n",
      "\n",
      "    def __contains__(self, key:str) -> bool:\n",
      "        return key in self.root\n",
      "\n",
      "\n",
      "linkml_meta = LinkMLMeta({'default_prefix': 'example',\n",
      "     'default_range': 'string',\n",
      "     'id': 'https://example.org/',\n",
      "     'imports': ['linkml:types'],\n",
      "     'name': 'example',\n",
      "     'prefixes': {'example': {'prefix_prefix': 'example',\n",
      "                              'prefix_reference': 'https://example.org/'},\n",
      "                  'linkml': {'prefix_prefix': 'linkml',\n",
      "                             'prefix_reference': 'https://w3id.org/linkml/'}}} )\n",
      "\n",
      "\n",
      "class Container(ConfiguredBaseModel):\n",
      "    linkml_meta: ClassVar[LinkMLMeta] = LinkMLMeta({'from_schema': 'https://example.org/'})\n",
      "\n",
      "    things: Optional[List[Union[Thing,Building,Vehicle]]] = Field(default=None, json_schema_extra = { \"linkml_meta\": {'alias': 'things', 'domain_of': ['Container']} })\n",
      "\n",
      "\n",
      "class Thing(ConfiguredBaseModel):\n",
      "    linkml_meta: ClassVar[LinkMLMeta] = LinkMLMeta({'from_schema': 'https://example.org/'})\n",
      "\n",
      "    type: Literal[\"https://example.org/Thing\",\"example:Thing\"] = Field(default=\"example:Thing\", json_schema_extra = { \"linkml_meta\": {'alias': 'type', 'designates_type': True, 'domain_of': ['Thing']} })\n",
      "\n",
      "\n",
      "class Building(Thing):\n",
      "    linkml_meta: ClassVar[LinkMLMeta] = LinkMLMeta({'from_schema': 'https://example.org/'})\n",
      "\n",
      "    num_floors: Optional[int] = Field(default=None, json_schema_extra = { \"linkml_meta\": {'alias': 'num_floors', 'domain_of': ['Building']} })\n",
      "    type: Literal[\"https://example.org/Building\",\"example:Building\"] = Field(default=\"example:Building\", json_schema_extra = { \"linkml_meta\": {'alias': 'type', 'designates_type': True, 'domain_of': ['Thing']} })\n",
      "\n",
      "\n",
      "class Vehicle(Thing):\n",
      "    linkml_meta: ClassVar[LinkMLMeta] = LinkMLMeta({'from_schema': 'https://example.org/'})\n",
      "\n",
      "    num_wheels: Optional[int] = Field(default=None, json_schema_extra = { \"linkml_meta\": {'alias': 'num_wheels', 'domain_of': ['Vehicle']} })\n",
      "    type: Literal[\"https://example.org/Vehicle\",\"example:Vehicle\"] = Field(default=\"example:Vehicle\", json_schema_extra = { \"linkml_meta\": {'alias': 'type', 'designates_type': True, 'domain_of': ['Thing']} })\n",
      "\n",
      "\n",
      "# Model rebuild\n",
      "# see https://pydantic-docs.helpmanual.io/usage/models/#rebuilding-a-model\n",
      "Container.model_rebuild()\n",
      "Thing.model_rebuild()\n",
      "Building.model_rebuild()\n",
      "Vehicle.model_rebuild()\n",
      "\n"
     ]
    }
   ],
   "source": [
    "schema.classes[\"Thing\"].attributes[\"type\"].range = \"uriorcurie\"\n",
    "gen = PydanticGenerator(schema, log_level=logging.ERROR)\n",
    "mod = gen.compile_module()\n",
    "print(gen.serialize())"
   ]
  },
  {
   "cell_type": "code",
   "execution_count": 16,
   "id": "73eacb9d",
   "metadata": {
    "execution": {
     "iopub.execute_input": "2025-04-02T19:30:11.216575Z",
     "iopub.status.busy": "2025-04-02T19:30:11.216255Z",
     "iopub.status.idle": "2025-04-02T19:30:11.222853Z",
     "shell.execute_reply": "2025-04-02T19:30:11.222024Z"
    }
   },
   "outputs": [
    {
     "data": {
      "text/plain": [
       "Container(things=[Vehicle(type='example:Vehicle', num_wheels=2)])"
      ]
     },
     "execution_count": 16,
     "metadata": {},
     "output_type": "execute_result"
    }
   ],
   "source": [
    "mod.Container.model_validate({\"things\": [{\"type\": \"example:Vehicle\", \"num_wheels\": 2}]})"
   ]
  },
  {
   "cell_type": "code",
   "execution_count": 17,
   "id": "161b1224",
   "metadata": {
    "execution": {
     "iopub.execute_input": "2025-04-02T19:30:11.225615Z",
     "iopub.status.busy": "2025-04-02T19:30:11.225324Z",
     "iopub.status.idle": "2025-04-02T19:30:11.266400Z",
     "shell.execute_reply": "2025-04-02T19:30:11.265183Z"
    }
   },
   "outputs": [
    {
     "name": "stdout",
     "output_type": "stream",
     "text": [
      "from __future__ import annotations \n",
      "\n",
      "import re\n",
      "import sys\n",
      "from datetime import (\n",
      "    date,\n",
      "    datetime,\n",
      "    time\n",
      ")\n",
      "from decimal import Decimal \n",
      "from enum import Enum \n",
      "from typing import (\n",
      "    Any,\n",
      "    ClassVar,\n",
      "    Dict,\n",
      "    List,\n",
      "    Literal,\n",
      "    Optional,\n",
      "    Union\n",
      ")\n",
      "\n",
      "from pydantic import (\n",
      "    BaseModel,\n",
      "    ConfigDict,\n",
      "    Field,\n",
      "    RootModel,\n",
      "    field_validator\n",
      ")\n",
      "\n",
      "\n",
      "metamodel_version = \"None\"\n",
      "version = \"None\"\n",
      "\n",
      "\n",
      "class ConfiguredBaseModel(BaseModel):\n",
      "    model_config = ConfigDict(\n",
      "        validate_assignment = True,\n",
      "        validate_default = True,\n",
      "        extra = \"forbid\",\n",
      "        arbitrary_types_allowed = True,\n",
      "        use_enum_values = True,\n",
      "        strict = False,\n",
      "    )\n",
      "    pass\n",
      "\n",
      "\n",
      "\n",
      "\n",
      "class LinkMLMeta(RootModel):\n",
      "    root: Dict[str, Any] = {}\n",
      "    model_config = ConfigDict(frozen=True)\n",
      "\n",
      "    def __getattr__(self, key:str):\n",
      "        return getattr(self.root, key)\n",
      "\n",
      "    def __getitem__(self, key:str):\n",
      "        return self.root[key]\n",
      "\n",
      "    def __setitem__(self, key:str, value):\n",
      "        self.root[key] = value\n",
      "\n",
      "    def __contains__(self, key:str) -> bool:\n",
      "        return key in self.root\n",
      "\n",
      "\n",
      "linkml_meta = LinkMLMeta({'default_prefix': 'example',\n",
      "     'default_range': 'string',\n",
      "     'id': 'https://example.org/',\n",
      "     'imports': ['linkml:types'],\n",
      "     'name': 'example',\n",
      "     'prefixes': {'example': {'prefix_prefix': 'example',\n",
      "                              'prefix_reference': 'https://example.org/'},\n",
      "                  'linkml': {'prefix_prefix': 'linkml',\n",
      "                             'prefix_reference': 'https://w3id.org/linkml/'}}} )\n",
      "\n",
      "\n",
      "class Container(ConfiguredBaseModel):\n",
      "    linkml_meta: ClassVar[LinkMLMeta] = LinkMLMeta({'from_schema': 'https://example.org/'})\n",
      "\n",
      "    things: Optional[List[Union[Thing,Building,Vehicle]]] = Field(default=None, json_schema_extra = { \"linkml_meta\": {'alias': 'things', 'domain_of': ['Container']} })\n",
      "\n",
      "\n",
      "class Thing(ConfiguredBaseModel):\n",
      "    linkml_meta: ClassVar[LinkMLMeta] = LinkMLMeta({'from_schema': 'https://example.org/'})\n",
      "\n",
      "    type: Literal[\"https://example.org/Thing\",\"example:Thing\"] = Field(default=\"https://example.org/Thing\", json_schema_extra = { \"linkml_meta\": {'alias': 'type', 'designates_type': True, 'domain_of': ['Thing']} })\n",
      "\n",
      "\n",
      "class Building(Thing):\n",
      "    linkml_meta: ClassVar[LinkMLMeta] = LinkMLMeta({'from_schema': 'https://example.org/'})\n",
      "\n",
      "    num_floors: Optional[int] = Field(default=None, json_schema_extra = { \"linkml_meta\": {'alias': 'num_floors', 'domain_of': ['Building']} })\n",
      "    type: Literal[\"https://example.org/Building\",\"example:Building\"] = Field(default=\"https://example.org/Building\", json_schema_extra = { \"linkml_meta\": {'alias': 'type', 'designates_type': True, 'domain_of': ['Thing']} })\n",
      "\n",
      "\n",
      "class Vehicle(Thing):\n",
      "    linkml_meta: ClassVar[LinkMLMeta] = LinkMLMeta({'from_schema': 'https://example.org/'})\n",
      "\n",
      "    num_wheels: Optional[int] = Field(default=None, json_schema_extra = { \"linkml_meta\": {'alias': 'num_wheels', 'domain_of': ['Vehicle']} })\n",
      "    type: Literal[\"https://example.org/Vehicle\",\"example:Vehicle\"] = Field(default=\"https://example.org/Vehicle\", json_schema_extra = { \"linkml_meta\": {'alias': 'type', 'designates_type': True, 'domain_of': ['Thing']} })\n",
      "\n",
      "\n",
      "# Model rebuild\n",
      "# see https://pydantic-docs.helpmanual.io/usage/models/#rebuilding-a-model\n",
      "Container.model_rebuild()\n",
      "Thing.model_rebuild()\n",
      "Building.model_rebuild()\n",
      "Vehicle.model_rebuild()\n",
      "\n"
     ]
    }
   ],
   "source": [
    "schema.classes[\"Thing\"].attributes[\"type\"].range = \"uri\"\n",
    "gen = PydanticGenerator(schema, log_level=logging.ERROR)\n",
    "mod = gen.compile_module()\n",
    "print(gen.serialize())"
   ]
  },
  {
   "cell_type": "markdown",
   "id": "57680a2d",
   "metadata": {},
   "source": [
    "## Data Classes"
   ]
  },
  {
   "cell_type": "raw",
   "id": "3c4eddde-e8ec-4259-a3c2-d79fbd47452f",
   "metadata": {},
   "source": [
    "from linkml.generators.pythongen import PythonGenerator\n",
    "import logging\n",
    "\n",
    "# Note: Jupyter appears to generate output even if the log_level is set.\n",
    "gen = PythonGenerator(model, log_level=logging.ERROR)\n",
    "print(gen.serialize())"
   ]
  },
  {
   "cell_type": "markdown",
   "id": "673e03c5",
   "metadata": {},
   "source": [
    "## Any Of"
   ]
  },
  {
   "cell_type": "code",
   "execution_count": 18,
   "id": "5471eebf",
   "metadata": {
    "execution": {
     "iopub.execute_input": "2025-04-02T19:30:11.271781Z",
     "iopub.status.busy": "2025-04-02T19:30:11.271454Z",
     "iopub.status.idle": "2025-04-02T19:30:11.281915Z",
     "shell.execute_reply": "2025-04-02T19:30:11.281015Z"
    }
   },
   "outputs": [
    {
     "data": {
      "application/javascript": [
       "\n",
       "            require(\n",
       "                [\n",
       "                    \"notebook/js/codecell\",\n",
       "                    \"codemirror/mode/yaml/yaml\"\n",
       "                ],\n",
       "                function(cc){\n",
       "                    cc.CodeCell.options_default.highlight_modes.magic_yaml = {\n",
       "                        reg: [\"^%%yaml\"]\n",
       "                    }\n",
       "                }\n",
       "            );\n",
       "            "
      ],
      "text/plain": [
       "<IPython.core.display.Javascript object>"
      ]
     },
     "metadata": {},
     "output_type": "display_data"
    }
   ],
   "source": [
    "%%yaml model\n",
    "id: https://example.org/\n",
    "name: example\n",
    "prefixes:\n",
    "  example: https://example.org/\n",
    "  linkml: https://w3id.org/linkml/\n",
    "default_prefix: example\n",
    "imports:\n",
    "  - linkml:types\n",
    "\n",
    "classes:\n",
    "  Thing:\n",
    "    attributes:\n",
    "      type:\n",
    "        designates_type: true\n",
    "        range: string\n",
    "  Vehicle:\n",
    "    is_a: Thing\n",
    "    attributes:\n",
    "      num_wheels:\n",
    "        range: integer\n",
    "  Car:\n",
    "    is_a: Vehicle\n",
    "    slot_usage:\n",
    "      num_wheels:\n",
    "        equals_expression: \"2\"\n",
    "  Bicycle:\n",
    "    is_a: Vehicle\n",
    "    slot_usage:\n",
    "      num_wheels:\n",
    "        equals_expression: \"4\"\n",
    "  Building:\n",
    "    is_a: Thing\n",
    "    attributes:\n",
    "      num_floors:\n",
    "        range: integer\n",
    "        \n",
    "  Container:\n",
    "    attributes:\n",
    "      things:\n",
    "        any_of:\n",
    "          - range: Vehicle\n",
    "          - range: Building\n",
    "        multivalued: true\n",
    "    "
   ]
  },
  {
   "cell_type": "code",
   "execution_count": 19,
   "id": "eb108020",
   "metadata": {
    "execution": {
     "iopub.execute_input": "2025-04-02T19:30:11.284940Z",
     "iopub.status.busy": "2025-04-02T19:30:11.284619Z",
     "iopub.status.idle": "2025-04-02T19:30:11.296844Z",
     "shell.execute_reply": "2025-04-02T19:30:11.295945Z"
    }
   },
   "outputs": [],
   "source": [
    "model_str = yaml.dump(model)\n",
    "sv = SchemaView(model_str)\n",
    "schema = sv.schema"
   ]
  },
  {
   "cell_type": "code",
   "execution_count": 20,
   "id": "5125a057",
   "metadata": {
    "execution": {
     "iopub.execute_input": "2025-04-02T19:30:11.300148Z",
     "iopub.status.busy": "2025-04-02T19:30:11.299844Z",
     "iopub.status.idle": "2025-04-02T19:30:11.358831Z",
     "shell.execute_reply": "2025-04-02T19:30:11.358048Z"
    }
   },
   "outputs": [
    {
     "name": "stdout",
     "output_type": "stream",
     "text": [
      "from __future__ import annotations \n",
      "\n",
      "import re\n",
      "import sys\n",
      "from datetime import (\n",
      "    date,\n",
      "    datetime,\n",
      "    time\n",
      ")\n",
      "from decimal import Decimal \n",
      "from enum import Enum \n",
      "from typing import (\n",
      "    Any,\n",
      "    ClassVar,\n",
      "    Dict,\n",
      "    List,\n",
      "    Literal,\n",
      "    Optional,\n",
      "    Union\n",
      ")\n",
      "\n",
      "from pydantic import (\n",
      "    BaseModel,\n",
      "    ConfigDict,\n",
      "    Field,\n",
      "    RootModel,\n",
      "    field_validator\n",
      ")\n",
      "\n",
      "\n",
      "metamodel_version = \"None\"\n",
      "version = \"None\"\n",
      "\n",
      "\n",
      "class ConfiguredBaseModel(BaseModel):\n",
      "    model_config = ConfigDict(\n",
      "        validate_assignment = True,\n",
      "        validate_default = True,\n",
      "        extra = \"forbid\",\n",
      "        arbitrary_types_allowed = True,\n",
      "        use_enum_values = True,\n",
      "        strict = False,\n",
      "    )\n",
      "    pass\n",
      "\n",
      "\n",
      "\n",
      "\n",
      "class LinkMLMeta(RootModel):\n",
      "    root: Dict[str, Any] = {}\n",
      "    model_config = ConfigDict(frozen=True)\n",
      "\n",
      "    def __getattr__(self, key:str):\n",
      "        return getattr(self.root, key)\n",
      "\n",
      "    def __getitem__(self, key:str):\n",
      "        return self.root[key]\n",
      "\n",
      "    def __setitem__(self, key:str, value):\n",
      "        self.root[key] = value\n",
      "\n",
      "    def __contains__(self, key:str) -> bool:\n",
      "        return key in self.root\n",
      "\n",
      "\n",
      "linkml_meta = LinkMLMeta({'default_prefix': 'example',\n",
      "     'id': 'https://example.org/',\n",
      "     'imports': ['linkml:types'],\n",
      "     'name': 'example',\n",
      "     'prefixes': {'example': {'prefix_prefix': 'example',\n",
      "                              'prefix_reference': 'https://example.org/'},\n",
      "                  'linkml': {'prefix_prefix': 'linkml',\n",
      "                             'prefix_reference': 'https://w3id.org/linkml/'}}} )\n",
      "\n",
      "\n",
      "class Container(ConfiguredBaseModel):\n",
      "    linkml_meta: ClassVar[LinkMLMeta] = LinkMLMeta({'from_schema': 'https://example.org/'})\n",
      "\n",
      "    things: Optional[List[Union[Building, Union[Vehicle,Bicycle,Car]]]] = Field(default=None, json_schema_extra = { \"linkml_meta\": {'alias': 'things',\n",
      "         'any_of': [{'range': 'Vehicle'}, {'range': 'Building'}],\n",
      "         'domain_of': ['Container']} })\n",
      "\n",
      "\n",
      "class Thing(ConfiguredBaseModel):\n",
      "    linkml_meta: ClassVar[LinkMLMeta] = LinkMLMeta({'from_schema': 'https://example.org/'})\n",
      "\n",
      "    type: Literal[\"Thing\"] = Field(default=\"Thing\", json_schema_extra = { \"linkml_meta\": {'alias': 'type', 'designates_type': True, 'domain_of': ['Thing']} })\n",
      "\n",
      "\n",
      "class Building(Thing):\n",
      "    linkml_meta: ClassVar[LinkMLMeta] = LinkMLMeta({'from_schema': 'https://example.org/'})\n",
      "\n",
      "    num_floors: Optional[int] = Field(default=None, json_schema_extra = { \"linkml_meta\": {'alias': 'num_floors', 'domain_of': ['Building']} })\n",
      "    type: Literal[\"Building\"] = Field(default=\"Building\", json_schema_extra = { \"linkml_meta\": {'alias': 'type', 'designates_type': True, 'domain_of': ['Thing']} })\n",
      "\n",
      "\n",
      "class Vehicle(Thing):\n",
      "    linkml_meta: ClassVar[LinkMLMeta] = LinkMLMeta({'from_schema': 'https://example.org/'})\n",
      "\n",
      "    num_wheels: Optional[int] = Field(default=None, json_schema_extra = { \"linkml_meta\": {'alias': 'num_wheels', 'domain_of': ['Vehicle']} })\n",
      "    type: Literal[\"Vehicle\"] = Field(default=\"Vehicle\", json_schema_extra = { \"linkml_meta\": {'alias': 'type', 'designates_type': True, 'domain_of': ['Thing']} })\n",
      "\n",
      "\n",
      "class Bicycle(Vehicle):\n",
      "    linkml_meta: ClassVar[LinkMLMeta] = LinkMLMeta({'from_schema': 'https://example.org/',\n",
      "         'slot_usage': {'num_wheels': {'equals_expression': '4', 'name': 'num_wheels'}}})\n",
      "\n",
      "    num_wheels: Optional[int] = Field(default=None, json_schema_extra = { \"linkml_meta\": {'alias': 'num_wheels', 'domain_of': ['Vehicle'], 'equals_expression': '4'} })\n",
      "    type: Literal[\"Bicycle\"] = Field(default=\"Bicycle\", json_schema_extra = { \"linkml_meta\": {'alias': 'type', 'designates_type': True, 'domain_of': ['Thing']} })\n",
      "\n",
      "\n",
      "class Car(Vehicle):\n",
      "    linkml_meta: ClassVar[LinkMLMeta] = LinkMLMeta({'from_schema': 'https://example.org/',\n",
      "         'slot_usage': {'num_wheels': {'equals_expression': '2', 'name': 'num_wheels'}}})\n",
      "\n",
      "    num_wheels: Optional[int] = Field(default=None, json_schema_extra = { \"linkml_meta\": {'alias': 'num_wheels', 'domain_of': ['Vehicle'], 'equals_expression': '2'} })\n",
      "    type: Literal[\"Car\"] = Field(default=\"Car\", json_schema_extra = { \"linkml_meta\": {'alias': 'type', 'designates_type': True, 'domain_of': ['Thing']} })\n",
      "\n",
      "\n",
      "# Model rebuild\n",
      "# see https://pydantic-docs.helpmanual.io/usage/models/#rebuilding-a-model\n",
      "Container.model_rebuild()\n",
      "Thing.model_rebuild()\n",
      "Building.model_rebuild()\n",
      "Vehicle.model_rebuild()\n",
      "Bicycle.model_rebuild()\n",
      "Car.model_rebuild()\n",
      "\n"
     ]
    }
   ],
   "source": [
    "from logging import ERROR\n",
    "gen = PydanticGenerator(schema, log_level=ERROR)\n",
    "mod = gen.compile_module()\n",
    "print(gen.serialize())"
   ]
  },
  {
   "cell_type": "code",
   "execution_count": 21,
   "id": "2599c367",
   "metadata": {
    "execution": {
     "iopub.execute_input": "2025-04-02T19:30:11.361886Z",
     "iopub.status.busy": "2025-04-02T19:30:11.361579Z",
     "iopub.status.idle": "2025-04-02T19:30:11.364967Z",
     "shell.execute_reply": "2025-04-02T19:30:11.364266Z"
    }
   },
   "outputs": [],
   "source": [
    "# TODO: flatten unions"
   ]
  },
  {
   "cell_type": "code",
   "execution_count": 22,
   "id": "52a742f8",
   "metadata": {
    "execution": {
     "iopub.execute_input": "2025-04-02T19:30:11.367764Z",
     "iopub.status.busy": "2025-04-02T19:30:11.367481Z",
     "iopub.status.idle": "2025-04-02T19:30:11.372790Z",
     "shell.execute_reply": "2025-04-02T19:30:11.372129Z"
    }
   },
   "outputs": [
    {
     "data": {
      "text/plain": [
       "Container(things=[Vehicle(type='Vehicle', num_wheels=None)])"
      ]
     },
     "execution_count": 22,
     "metadata": {},
     "output_type": "execute_result"
    }
   ],
   "source": [
    "mod.Container.model_validate({\"things\": [{\"type\": \"Vehicle\"}]})"
   ]
  },
  {
   "cell_type": "code",
   "execution_count": 23,
   "id": "23f35fee",
   "metadata": {
    "execution": {
     "iopub.execute_input": "2025-04-02T19:30:11.375805Z",
     "iopub.status.busy": "2025-04-02T19:30:11.375444Z",
     "iopub.status.idle": "2025-04-02T19:30:11.379054Z",
     "shell.execute_reply": "2025-04-02T19:30:11.378253Z"
    }
   },
   "outputs": [],
   "source": [
    "# TODO: expressions"
   ]
  },
  {
   "cell_type": "markdown",
   "id": "da4ea59b",
   "metadata": {},
   "source": [
    "## Union Of"
   ]
  },
  {
   "cell_type": "code",
   "execution_count": 24,
   "id": "7d897da4",
   "metadata": {
    "execution": {
     "iopub.execute_input": "2025-04-02T19:30:11.382484Z",
     "iopub.status.busy": "2025-04-02T19:30:11.382178Z",
     "iopub.status.idle": "2025-04-02T19:30:11.392814Z",
     "shell.execute_reply": "2025-04-02T19:30:11.391818Z"
    }
   },
   "outputs": [
    {
     "data": {
      "application/javascript": [
       "\n",
       "            require(\n",
       "                [\n",
       "                    \"notebook/js/codecell\",\n",
       "                    \"codemirror/mode/yaml/yaml\"\n",
       "                ],\n",
       "                function(cc){\n",
       "                    cc.CodeCell.options_default.highlight_modes.magic_yaml = {\n",
       "                        reg: [\"^%%yaml\"]\n",
       "                    }\n",
       "                }\n",
       "            );\n",
       "            "
      ],
      "text/plain": [
       "<IPython.core.display.Javascript object>"
      ]
     },
     "metadata": {},
     "output_type": "display_data"
    }
   ],
   "source": [
    "%%yaml model\n",
    "id: https://example.org/\n",
    "name: example\n",
    "prefixes:\n",
    "  example: https://example.org/\n",
    "  linkml: https://w3id.org/linkml/\n",
    "default_prefix: example\n",
    "imports:\n",
    "  - linkml:types\n",
    "\n",
    "classes:\n",
    "  Thing:\n",
    "    attributes:\n",
    "      type:\n",
    "        designates_type: true\n",
    "        range: string\n",
    "  Vehicle:\n",
    "    is_a: Thing\n",
    "    attributes:\n",
    "      num_wheels:\n",
    "        range: integer\n",
    "  Car:\n",
    "    is_a: Vehicle\n",
    "    slot_usage:\n",
    "      num_wheels:\n",
    "        equals_expression: \"2\"\n",
    "  Bicycle:\n",
    "    is_a: Vehicle\n",
    "    slot_usage:\n",
    "      num_wheels:\n",
    "        equals_expression: \"4\"\n",
    "  Building:\n",
    "    is_a: Thing\n",
    "    attributes:\n",
    "      num_floors:\n",
    "        range: integer\n",
    "        \n",
    "  Container:\n",
    "    attributes:\n",
    "      things:\n",
    "        any_of:\n",
    "          - range: Vehicle\n",
    "          - range: Building\n",
    "        multivalued: true\n",
    "    "
   ]
  }
 ],
 "metadata": {
  "kernelspec": {
   "display_name": "Python 3 (ipykernel)",
   "language": "python",
   "name": "python3"
  },
  "language_info": {
   "codemirror_mode": {
    "name": "ipython",
    "version": 3
   },
   "file_extension": ".py",
   "mimetype": "text/x-python",
   "name": "python",
   "nbconvert_exporter": "python",
   "pygments_lexer": "ipython3",
   "version": "3.11.0"
  }
 },
 "nbformat": 4,
 "nbformat_minor": 5
}

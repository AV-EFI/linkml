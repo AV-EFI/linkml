{
 "cells": [
  {
   "cell_type": "markdown",
   "id": "c4fabd79",
   "metadata": {},
   "source": [
    "## LinkML and SQL Alchemy Tutorial\n",
    "\n",
    "This tutorial walks through the use of LinkML in combination with SQLite3 and SQL Alchemy.\n",
    "\n",
    "The steps are:\n",
    "\n",
    " - Create a SQL schema from a LinkML schema (the standard PersonInfo example)\n",
    " - Generate SQL Alchemy \"Models\" from the same LinkML schema\n",
    " - Create instances of these Models and insert into database\n",
    " - Query using direct SQL\n",
    " - Query using SQL Alchemy ORM"
   ]
  },
  {
   "cell_type": "markdown",
   "id": "c6d9e679",
   "metadata": {},
   "source": [
    "## PersonInfo schema\n",
    "\n",
    "We use the standard PersonInfo schema bundled in the LinkML repo:"
   ]
  },
  {
   "cell_type": "code",
   "execution_count": 1,
   "id": "9f28bdd7",
   "metadata": {
    "execution": {
     "iopub.execute_input": "2025-02-01T01:54:50.734643Z",
     "iopub.status.busy": "2025-02-01T01:54:50.734297Z",
     "iopub.status.idle": "2025-02-01T01:54:51.429102Z",
     "shell.execute_reply": "2025-02-01T01:54:51.427826Z"
    }
   },
   "outputs": [
    {
     "name": "stdout",
     "output_type": "stream",
     "text": [
      "\u001b[34mid\u001b[39;49;00m\u001b[31m:\u001b[39;49;00m \u001b[34mhttps\u001b[39;49;00m\u001b[31m:\u001b[39;49;00m//w3id.org/linkml/examples/personinfo\u001b[39;49;00m\r\n",
      "\u001b[34mname\u001b[39;49;00m\u001b[31m:\u001b[39;49;00m \u001b[34mpersoninfo\u001b[39;49;00m\r\n",
      "\u001b[34mdescription\u001b[39;49;00m\u001b[31m:\u001b[39;49;00m \u001b[31m|\u001b[39;49;00m\u001b[31m-\u001b[39;49;00m\r\n",
      "  \u001b[36mInformation\u001b[39;49;00m \u001b[34mabout\u001b[39;49;00m \u001b[34mpeople\u001b[39;49;00m\u001b[31m,\u001b[39;49;00m \u001b[34mbased\u001b[39;49;00m \u001b[34mon\u001b[39;49;00m \u001b[31m[\u001b[39;49;00m\u001b[34mschema\u001b[39;49;00m\u001b[31m.\u001b[39;49;00m\u001b[34morg\u001b[39;49;00m\u001b[31m]\u001b[39;49;00m\u001b[31m(\u001b[39;49;00m\u001b[34mhttp\u001b[39;49;00m\u001b[31m:\u001b[39;49;00m//schema.org)\u001b[39;49;00m\r\n",
      "\u001b[34mlicense\u001b[39;49;00m\u001b[31m:\u001b[39;49;00m \u001b[34mhttps\u001b[39;49;00m\u001b[31m:\u001b[39;49;00m//creativecommons.org/publicdomain/zero/1.0/\u001b[39;49;00m\r\n",
      "\u001b[34mdefault_curi_maps\u001b[39;49;00m\u001b[31m:\u001b[39;49;00m\r\n",
      "  \u001b[31m-\u001b[39;49;00m \u001b[34msemweb_context\u001b[39;49;00m\r\n",
      "\u001b[34mimports\u001b[39;49;00m\u001b[31m:\u001b[39;49;00m\r\n",
      "  \u001b[31m-\u001b[39;49;00m \u001b[34mlinkml\u001b[39;49;00m\u001b[31m:\u001b[39;49;00m\u001b[34mtypes\u001b[39;49;00m\r\n",
      "\u001b[34mprefixes\u001b[39;49;00m\u001b[31m:\u001b[39;49;00m\r\n",
      "  \u001b[34mpersoninfo\u001b[39;49;00m\u001b[31m:\u001b[39;49;00m \u001b[34mhttps\u001b[39;49;00m\u001b[31m:\u001b[39;49;00m//w3id.org/linkml/examples/personinfo/\u001b[39;49;00m\r\n",
      "  \u001b[34mlinkml\u001b[39;49;00m\u001b[31m:\u001b[39;49;00m \u001b[34mhttps\u001b[39;49;00m\u001b[31m:\u001b[39;49;00m//w3id.org/linkml/\u001b[39;49;00m\r\n",
      "  \u001b[34mschema\u001b[39;49;00m\u001b[31m:\u001b[39;49;00m \u001b[34mhttp\u001b[39;49;00m\u001b[31m:\u001b[39;49;00m//schema.org/\u001b[39;49;00m\r\n",
      "  \u001b[34mrdfs\u001b[39;49;00m\u001b[31m:\u001b[39;49;00m \u001b[34mhttp\u001b[39;49;00m\u001b[31m:\u001b[39;49;00m//www.w3.org/2000/01/rdf-schema#\u001b[39;49;00m\r\n",
      "  \u001b[34mprov\u001b[39;49;00m\u001b[31m:\u001b[39;49;00m \u001b[34mhttp\u001b[39;49;00m\u001b[31m:\u001b[39;49;00m//www.w3.org/ns/prov#\u001b[39;49;00m\r\n",
      "  \u001b[36mGSSO\u001b[39;49;00m\u001b[31m:\u001b[39;49;00m \u001b[34mhttp\u001b[39;49;00m\u001b[31m:\u001b[39;49;00m//purl.obolibrary.org/obo/GSSO_\u001b[39;49;00m\r\n",
      "  \u001b[34mfamrel\u001b[39;49;00m\u001b[31m:\u001b[39;49;00m \u001b[34mhttps\u001b[39;49;00m\u001b[31m:\u001b[39;49;00m//example.org/FamilialRelations#\u001b[39;49;00m\r\n",
      "  \u001b[31m#\u001b[39;49;00m \u001b[36mDATA\u001b[39;49;00m \u001b[36mPREFIXES\u001b[39;49;00m\r\n",
      "  \u001b[36mP\u001b[39;49;00m\u001b[31m:\u001b[39;49;00m \u001b[34mhttp\u001b[39;49;00m\u001b[31m:\u001b[39;49;00m//example.org/P/\u001b[39;49;00m\r\n",
      "  \u001b[36mROR\u001b[39;49;00m\u001b[31m:\u001b[39;49;00m \u001b[34mhttp\u001b[39;49;00m\u001b[31m:\u001b[39;49;00m//example.org/ror/\u001b[39;49;00m\r\n",
      "  \u001b[36mCODE\u001b[39;49;00m\u001b[31m:\u001b[39;49;00m \u001b[34mhttp\u001b[39;49;00m\u001b[31m:\u001b[39;49;00m//example.org/code/\u001b[39;49;00m\r\n",
      "  \u001b[36mGEO\u001b[39;49;00m\u001b[31m:\u001b[39;49;00m \u001b[34mhttp\u001b[39;49;00m\u001b[31m:\u001b[39;49;00m//example.org/geoloc/\u001b[39;49;00m\r\n",
      "\u001b[34mdefault_prefix\u001b[39;49;00m\u001b[31m:\u001b[39;49;00m \u001b[34mpersoninfo\u001b[39;49;00m\r\n",
      "\u001b[34mdefault_range\u001b[39;49;00m\u001b[31m:\u001b[39;49;00m \u001b[34mstring\u001b[39;49;00m\r\n",
      "\r\n",
      "\u001b[34memit_prefixes\u001b[39;49;00m\u001b[31m:\u001b[39;49;00m\r\n",
      "  \u001b[31m-\u001b[39;49;00m \u001b[34mrdf\u001b[39;49;00m\r\n",
      "  \u001b[31m-\u001b[39;49;00m \u001b[34mrdfs\u001b[39;49;00m\r\n",
      "  \u001b[31m-\u001b[39;49;00m \u001b[34mxsd\u001b[39;49;00m\r\n",
      "  \u001b[31m-\u001b[39;49;00m \u001b[34mskos\u001b[39;49;00m\r\n",
      "\r\n",
      "\u001b[34mclasses\u001b[39;49;00m\u001b[31m:\u001b[39;49;00m\r\n",
      "\r\n",
      "  \u001b[36mNamedThing\u001b[39;49;00m\u001b[31m:\u001b[39;49;00m\r\n",
      "    \u001b[34mdescription\u001b[39;49;00m\u001b[31m:\u001b[39;49;00m \u001b[31m>\u001b[39;49;00m\u001b[31m-\u001b[39;49;00m\r\n",
      "      \u001b[36mA\u001b[39;49;00m \u001b[34mgeneric\u001b[39;49;00m \u001b[34mgrouping\u001b[39;49;00m \u001b[34mfor\u001b[39;49;00m \u001b[34many\u001b[39;49;00m \u001b[34midentifiable\u001b[39;49;00m \u001b[34mentity\u001b[39;49;00m\r\n",
      "    \u001b[34mslots\u001b[39;49;00m\u001b[31m:\u001b[39;49;00m\r\n",
      "      \u001b[31m-\u001b[39;49;00m \u001b[34mid\u001b[39;49;00m\r\n",
      "      \u001b[31m-\u001b[39;49;00m \u001b[34mname\u001b[39;49;00m\r\n",
      "      \u001b[31m-\u001b[39;49;00m \u001b[34mdescription\u001b[39;49;00m\r\n",
      "      \u001b[31m-\u001b[39;49;00m \u001b[34mimage\u001b[39;49;00m\r\n",
      "    \u001b[34mclose_mappings\u001b[39;49;00m\u001b[31m:\u001b[39;49;00m\r\n",
      "     \u001b[31m-\u001b[39;49;00m \u001b[34mschema\u001b[39;49;00m\u001b[31m:\u001b[39;49;00m\u001b[36mThing\u001b[39;49;00m\r\n",
      "\r\n",
      "  \u001b[36mPerson\u001b[39;49;00m\u001b[31m:\u001b[39;49;00m\r\n",
      "    \u001b[34mis_a\u001b[39;49;00m\u001b[31m:\u001b[39;49;00m \u001b[36mNamedThing\u001b[39;49;00m\r\n",
      "    \u001b[34mdescription\u001b[39;49;00m\u001b[31m:\u001b[39;49;00m \u001b[31m>\u001b[39;49;00m\u001b[31m-\u001b[39;49;00m\r\n",
      "      \u001b[36mA\u001b[39;49;00m \u001b[34mperson\u001b[39;49;00m \u001b[31m(\u001b[39;49;00m\u001b[34malive\u001b[39;49;00m\u001b[31m,\u001b[39;49;00m \u001b[34mdead\u001b[39;49;00m\u001b[31m,\u001b[39;49;00m \u001b[34mundead\u001b[39;49;00m\u001b[31m,\u001b[39;49;00m \u001b[34mor\u001b[39;49;00m \u001b[34mfictional\u001b[39;49;00m\u001b[31m)\u001b[39;49;00m\u001b[31m.\u001b[39;49;00m\r\n",
      "    \u001b[34mclass_uri\u001b[39;49;00m\u001b[31m:\u001b[39;49;00m \u001b[34mschema\u001b[39;49;00m\u001b[31m:\u001b[39;49;00m\u001b[36mPerson\u001b[39;49;00m\r\n",
      "    \u001b[34mmixins\u001b[39;49;00m\u001b[31m:\u001b[39;49;00m\r\n",
      "      \u001b[31m-\u001b[39;49;00m \u001b[36mHasAliases\u001b[39;49;00m\r\n",
      "    \u001b[34mslots\u001b[39;49;00m\u001b[31m:\u001b[39;49;00m\r\n",
      "      \u001b[31m-\u001b[39;49;00m \u001b[34mprimary_email\u001b[39;49;00m\r\n",
      "      \u001b[31m-\u001b[39;49;00m \u001b[34mbirth_date\u001b[39;49;00m\r\n",
      "      \u001b[31m-\u001b[39;49;00m \u001b[34mage_in_years\u001b[39;49;00m\r\n",
      "      \u001b[31m-\u001b[39;49;00m \u001b[34mgender\u001b[39;49;00m\r\n",
      "      \u001b[31m-\u001b[39;49;00m \u001b[34mcurrent_address\u001b[39;49;00m\r\n",
      "      \u001b[31m-\u001b[39;49;00m \u001b[34mhas_employment_history\u001b[39;49;00m\r\n",
      "      \u001b[31m-\u001b[39;49;00m \u001b[34mhas_familial_relationships\u001b[39;49;00m\r\n",
      "      \u001b[31m-\u001b[39;49;00m \u001b[34mhas_medical_history\u001b[39;49;00m\r\n",
      "    \u001b[34mslot_usage\u001b[39;49;00m\u001b[31m:\u001b[39;49;00m\r\n",
      "      \u001b[34mprimary_email\u001b[39;49;00m\u001b[31m:\u001b[39;49;00m\r\n",
      "        \u001b[34mpattern\u001b[39;49;00m\u001b[31m:\u001b[39;49;00m \u001b[33m\"^\\\\S+@[\\\\S+\\\\.]+\\\\S+\"\u001b[39;49;00m\r\n",
      "      \u001b[34mage_in_years\u001b[39;49;00m\u001b[31m:\u001b[39;49;00m\r\n",
      "        \u001b[34mrecommended\u001b[39;49;00m\u001b[31m:\u001b[39;49;00m \u001b[34mtrue\u001b[39;49;00m\r\n",
      "    \u001b[34min_subset\u001b[39;49;00m\u001b[31m:\u001b[39;49;00m\r\n",
      "      \u001b[31m-\u001b[39;49;00m \u001b[34mbasic_subset\u001b[39;49;00m\r\n",
      "  \r\n",
      "  \u001b[36mHasAliases\u001b[39;49;00m\u001b[31m:\u001b[39;49;00m\r\n",
      "    \u001b[34mdescription\u001b[39;49;00m\u001b[31m:\u001b[39;49;00m \u001b[31m>\u001b[39;49;00m\u001b[31m-\u001b[39;49;00m\r\n",
      "      \u001b[36mA\u001b[39;49;00m \u001b[34mmixin\u001b[39;49;00m \u001b[34mapplied\u001b[39;49;00m \u001b[34mto\u001b[39;49;00m \u001b[34many\u001b[39;49;00m \u001b[34mclass\u001b[39;49;00m \u001b[34mthat\u001b[39;49;00m \u001b[34mcan\u001b[39;49;00m \u001b[34mhave\u001b[39;49;00m \u001b[34maliases\u001b[39;49;00m\u001b[31m/\u001b[39;49;00m\u001b[34malternateNames\u001b[39;49;00m\r\n",
      "    \u001b[34mmixin\u001b[39;49;00m\u001b[31m:\u001b[39;49;00m \u001b[34mtrue\u001b[39;49;00m\r\n",
      "    \u001b[34mattributes\u001b[39;49;00m\u001b[31m:\u001b[39;49;00m\r\n",
      "      \u001b[34maliases\u001b[39;49;00m\u001b[31m:\u001b[39;49;00m\r\n",
      "        \u001b[34mmultivalued\u001b[39;49;00m\u001b[31m:\u001b[39;49;00m \u001b[34mtrue\u001b[39;49;00m\r\n",
      "        \u001b[34mexact_mappings\u001b[39;49;00m\u001b[31m:\u001b[39;49;00m\r\n",
      "          \u001b[31m-\u001b[39;49;00m \u001b[34mschema\u001b[39;49;00m\u001b[31m:\u001b[39;49;00m\u001b[34malternateName\u001b[39;49;00m\r\n",
      "\r\n",
      "\r\n",
      "  \u001b[36mOrganization\u001b[39;49;00m\u001b[31m:\u001b[39;49;00m\r\n",
      "    \u001b[34mdescription\u001b[39;49;00m\u001b[31m:\u001b[39;49;00m \u001b[31m>\u001b[39;49;00m\u001b[31m-\u001b[39;49;00m\r\n",
      "      \u001b[36mAn\u001b[39;49;00m \u001b[34morganization\u001b[39;49;00m \u001b[34msuch\u001b[39;49;00m \u001b[34mas\u001b[39;49;00m \u001b[34ma\u001b[39;49;00m \u001b[34mcompany\u001b[39;49;00m \u001b[34mor\u001b[39;49;00m \u001b[34muniversity\u001b[39;49;00m\r\n",
      "    \u001b[34mis_a\u001b[39;49;00m\u001b[31m:\u001b[39;49;00m \u001b[36mNamedThing\u001b[39;49;00m\r\n",
      "    \u001b[34mclass_uri\u001b[39;49;00m\u001b[31m:\u001b[39;49;00m \u001b[34mschema\u001b[39;49;00m\u001b[31m:\u001b[39;49;00m\u001b[36mOrganization\u001b[39;49;00m\r\n",
      "    \u001b[34mmixins\u001b[39;49;00m\u001b[31m:\u001b[39;49;00m\r\n",
      "      \u001b[31m-\u001b[39;49;00m \u001b[36mHasAliases\u001b[39;49;00m\r\n",
      "    \u001b[34mslots\u001b[39;49;00m\u001b[31m:\u001b[39;49;00m\r\n",
      "      \u001b[31m-\u001b[39;49;00m \u001b[34mmission_statement\u001b[39;49;00m\r\n",
      "      \u001b[31m-\u001b[39;49;00m \u001b[34mfounding_date\u001b[39;49;00m\r\n",
      "      \u001b[31m-\u001b[39;49;00m \u001b[34mfounding_location\u001b[39;49;00m\r\n",
      "\r\n",
      "  \u001b[36mPlace\u001b[39;49;00m\u001b[31m:\u001b[39;49;00m\r\n",
      "    \u001b[34mmixins\u001b[39;49;00m\u001b[31m:\u001b[39;49;00m\r\n",
      "      \u001b[31m-\u001b[39;49;00m \u001b[36mHasAliases\u001b[39;49;00m\r\n",
      "    \u001b[34mslots\u001b[39;49;00m\u001b[31m:\u001b[39;49;00m\r\n",
      "      \u001b[31m-\u001b[39;49;00m \u001b[34mid\u001b[39;49;00m\r\n",
      "      \u001b[31m-\u001b[39;49;00m \u001b[34mname\u001b[39;49;00m\r\n",
      "      \r\n",
      "  \u001b[36mAddress\u001b[39;49;00m\u001b[31m:\u001b[39;49;00m\r\n",
      "    \u001b[34mclass_uri\u001b[39;49;00m\u001b[31m:\u001b[39;49;00m \u001b[34mschema\u001b[39;49;00m\u001b[31m:\u001b[39;49;00m\u001b[36mPostalAddress\u001b[39;49;00m\r\n",
      "    \u001b[34mslots\u001b[39;49;00m\u001b[31m:\u001b[39;49;00m\r\n",
      "      \u001b[31m-\u001b[39;49;00m \u001b[34mstreet\u001b[39;49;00m\r\n",
      "      \u001b[31m-\u001b[39;49;00m \u001b[34mcity\u001b[39;49;00m\r\n",
      "      \u001b[31m-\u001b[39;49;00m \u001b[34mpostal_code\u001b[39;49;00m\r\n",
      "\r\n",
      "  \u001b[36mEvent\u001b[39;49;00m\u001b[31m:\u001b[39;49;00m\r\n",
      "    \u001b[34mslots\u001b[39;49;00m\u001b[31m:\u001b[39;49;00m\r\n",
      "      \u001b[31m-\u001b[39;49;00m \u001b[34mstarted_at_time\u001b[39;49;00m\r\n",
      "      \u001b[31m-\u001b[39;49;00m \u001b[34mended_at_time\u001b[39;49;00m\r\n",
      "      \u001b[31m-\u001b[39;49;00m \u001b[34mduration\u001b[39;49;00m\r\n",
      "      \u001b[31m-\u001b[39;49;00m \u001b[34mis_current\u001b[39;49;00m\r\n",
      "    \u001b[34mclose_mappings\u001b[39;49;00m\u001b[31m:\u001b[39;49;00m\r\n",
      "      \u001b[31m-\u001b[39;49;00m \u001b[34mschema\u001b[39;49;00m\u001b[31m:\u001b[39;49;00m\u001b[36mEvent\u001b[39;49;00m\r\n",
      "\r\n",
      "  \u001b[36mConcept\u001b[39;49;00m\u001b[31m:\u001b[39;49;00m\r\n",
      "    \u001b[34mis_a\u001b[39;49;00m\u001b[31m:\u001b[39;49;00m \u001b[36mNamedThing\u001b[39;49;00m\r\n",
      "\r\n",
      "  \u001b[36mDiagnosisConcept\u001b[39;49;00m\u001b[31m:\u001b[39;49;00m\r\n",
      "    \u001b[34mis_a\u001b[39;49;00m\u001b[31m:\u001b[39;49;00m \u001b[36mConcept\u001b[39;49;00m\r\n",
      "\r\n",
      "  \u001b[36mProcedureConcept\u001b[39;49;00m\u001b[31m:\u001b[39;49;00m\r\n",
      "    \u001b[34mis_a\u001b[39;49;00m\u001b[31m:\u001b[39;49;00m \u001b[36mConcept\u001b[39;49;00m\r\n",
      "      \r\n",
      "\r\n",
      "  \u001b[36mRelationship\u001b[39;49;00m\u001b[31m:\u001b[39;49;00m\r\n",
      "    \u001b[34mslots\u001b[39;49;00m\u001b[31m:\u001b[39;49;00m\r\n",
      "      \u001b[31m-\u001b[39;49;00m \u001b[34mstarted_at_time\u001b[39;49;00m\r\n",
      "      \u001b[31m-\u001b[39;49;00m \u001b[34mended_at_time\u001b[39;49;00m\r\n",
      "      \u001b[31m-\u001b[39;49;00m \u001b[34mrelated_to\u001b[39;49;00m\r\n",
      "      \u001b[31m-\u001b[39;49;00m \u001b[34mtype\u001b[39;49;00m\r\n",
      "\r\n",
      "  \u001b[36mFamilialRelationship\u001b[39;49;00m\u001b[31m:\u001b[39;49;00m\r\n",
      "    \u001b[34mis_a\u001b[39;49;00m\u001b[31m:\u001b[39;49;00m \u001b[36mRelationship\u001b[39;49;00m\r\n",
      "    \u001b[34mslot_usage\u001b[39;49;00m\u001b[31m:\u001b[39;49;00m\r\n",
      "      \u001b[34mtype\u001b[39;49;00m\u001b[31m:\u001b[39;49;00m\r\n",
      "        \u001b[34mrange\u001b[39;49;00m\u001b[31m:\u001b[39;49;00m \u001b[36mFamilialRelationshipType\u001b[39;49;00m\r\n",
      "        \u001b[34mrequired\u001b[39;49;00m\u001b[31m:\u001b[39;49;00m \u001b[34mtrue\u001b[39;49;00m\r\n",
      "      \u001b[34mrelated_to\u001b[39;49;00m\u001b[31m:\u001b[39;49;00m\r\n",
      "        \u001b[34mrange\u001b[39;49;00m\u001b[31m:\u001b[39;49;00m \u001b[36mPerson\u001b[39;49;00m\r\n",
      "        \u001b[34mrequired\u001b[39;49;00m\u001b[31m:\u001b[39;49;00m \u001b[34mtrue\u001b[39;49;00m\r\n",
      "\r\n",
      "  \u001b[36mEmploymentEvent\u001b[39;49;00m\u001b[31m:\u001b[39;49;00m\r\n",
      "    \u001b[34mis_a\u001b[39;49;00m\u001b[31m:\u001b[39;49;00m \u001b[36mEvent\u001b[39;49;00m\r\n",
      "    \u001b[34mslots\u001b[39;49;00m\u001b[31m:\u001b[39;49;00m\r\n",
      "      \u001b[31m-\u001b[39;49;00m \u001b[34memployed_at\u001b[39;49;00m\r\n",
      "\r\n",
      "  \u001b[36mMedicalEvent\u001b[39;49;00m\u001b[31m:\u001b[39;49;00m\r\n",
      "    \u001b[34mis_a\u001b[39;49;00m\u001b[31m:\u001b[39;49;00m \u001b[36mEvent\u001b[39;49;00m\r\n",
      "    \u001b[34mslots\u001b[39;49;00m\u001b[31m:\u001b[39;49;00m\r\n",
      "      \u001b[31m-\u001b[39;49;00m \u001b[34min_location\u001b[39;49;00m\r\n",
      "      \u001b[31m-\u001b[39;49;00m \u001b[34mdiagnosis\u001b[39;49;00m\r\n",
      "      \u001b[31m-\u001b[39;49;00m \u001b[34mprocedure\u001b[39;49;00m\r\n",
      "\r\n",
      "  \u001b[36mWithLocation\u001b[39;49;00m\u001b[31m:\u001b[39;49;00m\r\n",
      "    \u001b[34mmixin\u001b[39;49;00m\u001b[31m:\u001b[39;49;00m \u001b[34mtrue\u001b[39;49;00m\r\n",
      "    \u001b[34mslots\u001b[39;49;00m\u001b[31m:\u001b[39;49;00m\r\n",
      "      \u001b[31m-\u001b[39;49;00m \u001b[34min_location\u001b[39;49;00m\r\n",
      "\r\n",
      "  \u001b[31m#\u001b[39;49;00m \u001b[36mTODO\u001b[39;49;00m\u001b[31m:\u001b[39;49;00m \u001b[34mannotate\u001b[39;49;00m \u001b[34mthat\u001b[39;49;00m \u001b[34mthis\u001b[39;49;00m \u001b[34mis\u001b[39;49;00m \u001b[34ma\u001b[39;49;00m \u001b[34mcontainer\u001b[39;49;00m\u001b[31m/\u001b[39;49;00m\u001b[34mroot\u001b[39;49;00m \u001b[34mclass\u001b[39;49;00m\r\n",
      "  \u001b[36mContainer\u001b[39;49;00m\u001b[31m:\u001b[39;49;00m\r\n",
      "    \u001b[34mtree_root\u001b[39;49;00m\u001b[31m:\u001b[39;49;00m \u001b[34mtrue\u001b[39;49;00m\r\n",
      "    \u001b[34mslots\u001b[39;49;00m\u001b[31m:\u001b[39;49;00m\r\n",
      "      \u001b[31m-\u001b[39;49;00m \u001b[34mpersons\u001b[39;49;00m\r\n",
      "      \u001b[31m-\u001b[39;49;00m \u001b[34morganizations\u001b[39;49;00m\r\n",
      "\r\n",
      "\u001b[34mslots\u001b[39;49;00m\u001b[31m:\u001b[39;49;00m\r\n",
      "  \u001b[34mid\u001b[39;49;00m\u001b[31m:\u001b[39;49;00m\r\n",
      "    \u001b[34midentifier\u001b[39;49;00m\u001b[31m:\u001b[39;49;00m \u001b[34mtrue\u001b[39;49;00m\r\n",
      "    \u001b[34mslot_uri\u001b[39;49;00m\u001b[31m:\u001b[39;49;00m \u001b[34mschema\u001b[39;49;00m\u001b[31m:\u001b[39;49;00m\u001b[34midentifier\u001b[39;49;00m\r\n",
      "  \u001b[34mname\u001b[39;49;00m\u001b[31m:\u001b[39;49;00m\r\n",
      "    \u001b[34mslot_uri\u001b[39;49;00m\u001b[31m:\u001b[39;49;00m \u001b[34mschema\u001b[39;49;00m\u001b[31m:\u001b[39;49;00m\u001b[34mname\u001b[39;49;00m\r\n",
      "  \u001b[34mdescription\u001b[39;49;00m\u001b[31m:\u001b[39;49;00m\r\n",
      "    \u001b[34mslot_uri\u001b[39;49;00m\u001b[31m:\u001b[39;49;00m \u001b[34mschema\u001b[39;49;00m\u001b[31m:\u001b[39;49;00m\u001b[34mdescription\u001b[39;49;00m\r\n",
      "  \u001b[34mimage\u001b[39;49;00m\u001b[31m:\u001b[39;49;00m\r\n",
      "    \u001b[34mslot_uri\u001b[39;49;00m\u001b[31m:\u001b[39;49;00m \u001b[34mschema\u001b[39;49;00m\u001b[31m:\u001b[39;49;00m\u001b[34mimage\u001b[39;49;00m\r\n",
      "  \u001b[34mgender\u001b[39;49;00m\u001b[31m:\u001b[39;49;00m\r\n",
      "    \u001b[34mslot_uri\u001b[39;49;00m\u001b[31m:\u001b[39;49;00m \u001b[34mschema\u001b[39;49;00m\u001b[31m:\u001b[39;49;00m\u001b[34mgender\u001b[39;49;00m\r\n",
      "    \u001b[34mrange\u001b[39;49;00m\u001b[31m:\u001b[39;49;00m \u001b[36mGenderType\u001b[39;49;00m\r\n",
      "  \u001b[34mprimary_email\u001b[39;49;00m\u001b[31m:\u001b[39;49;00m\r\n",
      "    \u001b[34mslot_uri\u001b[39;49;00m\u001b[31m:\u001b[39;49;00m \u001b[34mschema\u001b[39;49;00m\u001b[31m:\u001b[39;49;00m\u001b[34memail\u001b[39;49;00m\r\n",
      "  \u001b[34mbirth_date\u001b[39;49;00m\u001b[31m:\u001b[39;49;00m\r\n",
      "    \u001b[34mslot_uri\u001b[39;49;00m\u001b[31m:\u001b[39;49;00m \u001b[34mschema\u001b[39;49;00m\u001b[31m:\u001b[39;49;00m\u001b[34mbirthDate\u001b[39;49;00m\r\n",
      "  \u001b[34memployed_at\u001b[39;49;00m\u001b[31m:\u001b[39;49;00m\r\n",
      "    \u001b[34mrange\u001b[39;49;00m\u001b[31m:\u001b[39;49;00m \u001b[36mOrganization\u001b[39;49;00m\r\n",
      "  \u001b[34mis_current\u001b[39;49;00m\u001b[31m:\u001b[39;49;00m\r\n",
      "    \u001b[34mrange\u001b[39;49;00m\u001b[31m:\u001b[39;49;00m \u001b[34mboolean\u001b[39;49;00m\r\n",
      "  \u001b[34mhas_employment_history\u001b[39;49;00m\u001b[31m:\u001b[39;49;00m\r\n",
      "    \u001b[34mrange\u001b[39;49;00m\u001b[31m:\u001b[39;49;00m \u001b[36mEmploymentEvent\u001b[39;49;00m\r\n",
      "    \u001b[34mmultivalued\u001b[39;49;00m\u001b[31m:\u001b[39;49;00m \u001b[34mtrue\u001b[39;49;00m\r\n",
      "    \u001b[34minlined_as_list\u001b[39;49;00m\u001b[31m:\u001b[39;49;00m \u001b[34mtrue\u001b[39;49;00m\r\n",
      "  \u001b[34mhas_medical_history\u001b[39;49;00m\u001b[31m:\u001b[39;49;00m\r\n",
      "    \u001b[34mrange\u001b[39;49;00m\u001b[31m:\u001b[39;49;00m \u001b[36mMedicalEvent\u001b[39;49;00m\r\n",
      "    \u001b[34mmultivalued\u001b[39;49;00m\u001b[31m:\u001b[39;49;00m \u001b[34mtrue\u001b[39;49;00m\r\n",
      "    \u001b[34minlined_as_list\u001b[39;49;00m\u001b[31m:\u001b[39;49;00m \u001b[34mtrue\u001b[39;49;00m\r\n",
      "  \u001b[34mhas_familial_relationships\u001b[39;49;00m\u001b[31m:\u001b[39;49;00m\r\n",
      "    \u001b[34mrange\u001b[39;49;00m\u001b[31m:\u001b[39;49;00m \u001b[36mFamilialRelationship\u001b[39;49;00m\r\n",
      "    \u001b[34mmultivalued\u001b[39;49;00m\u001b[31m:\u001b[39;49;00m \u001b[34mtrue\u001b[39;49;00m\r\n",
      "    \u001b[34minlined_as_list\u001b[39;49;00m\u001b[31m:\u001b[39;49;00m \u001b[34mtrue\u001b[39;49;00m\r\n",
      "  \u001b[34min_location\u001b[39;49;00m\u001b[31m:\u001b[39;49;00m\r\n",
      "    \u001b[34mrange\u001b[39;49;00m\u001b[31m:\u001b[39;49;00m \u001b[36mPlace\u001b[39;49;00m\r\n",
      "  \u001b[34mcurrent_address\u001b[39;49;00m\u001b[31m:\u001b[39;49;00m\r\n",
      "    \u001b[34mdescription\u001b[39;49;00m\u001b[31m:\u001b[39;49;00m \u001b[31m>\u001b[39;49;00m\u001b[31m-\u001b[39;49;00m\r\n",
      "      \u001b[36mThe\u001b[39;49;00m \u001b[34maddress\u001b[39;49;00m \u001b[34mat\u001b[39;49;00m \u001b[34mwhich\u001b[39;49;00m \u001b[34ma\u001b[39;49;00m \u001b[34mperson\u001b[39;49;00m \u001b[34mcurrently\u001b[39;49;00m \u001b[34mlives\u001b[39;49;00m\r\n",
      "    \u001b[34mrange\u001b[39;49;00m\u001b[31m:\u001b[39;49;00m \u001b[36mAddress\u001b[39;49;00m\r\n",
      "  \u001b[34mage_in_years\u001b[39;49;00m\u001b[31m:\u001b[39;49;00m\r\n",
      "    \u001b[34mrange\u001b[39;49;00m\u001b[31m:\u001b[39;49;00m \u001b[34minteger\u001b[39;49;00m\r\n",
      "    \u001b[34mminimum_value\u001b[39;49;00m\u001b[31m:\u001b[39;49;00m \u001b[34m0\u001b[39;49;00m\r\n",
      "    \u001b[34mmaximum_value\u001b[39;49;00m\u001b[31m:\u001b[39;49;00m \u001b[34m999\u001b[39;49;00m\r\n",
      "  \u001b[34mrelated_to\u001b[39;49;00m\u001b[31m:\u001b[39;49;00m\r\n",
      "  \u001b[34mtype\u001b[39;49;00m\u001b[31m:\u001b[39;49;00m\r\n",
      "  \u001b[34mstreet\u001b[39;49;00m\u001b[31m:\u001b[39;49;00m\r\n",
      "  \u001b[34mcity\u001b[39;49;00m\u001b[31m:\u001b[39;49;00m\r\n",
      "  \u001b[34mmission_statement\u001b[39;49;00m\u001b[31m:\u001b[39;49;00m\r\n",
      "  \u001b[34mfounding_date\u001b[39;49;00m\u001b[31m:\u001b[39;49;00m\r\n",
      "  \u001b[34mfounding_location\u001b[39;49;00m\u001b[31m:\u001b[39;49;00m\r\n",
      "    \u001b[34mrange\u001b[39;49;00m\u001b[31m:\u001b[39;49;00m \u001b[36mPlace\u001b[39;49;00m\r\n",
      "  \u001b[34mpostal_code\u001b[39;49;00m\u001b[31m:\u001b[39;49;00m\r\n",
      "    \u001b[34mrange\u001b[39;49;00m\u001b[31m:\u001b[39;49;00m \u001b[34mstring\u001b[39;49;00m\r\n",
      "  \u001b[34mstarted_at_time\u001b[39;49;00m\u001b[31m:\u001b[39;49;00m\r\n",
      "    \u001b[34mslot_uri\u001b[39;49;00m\u001b[31m:\u001b[39;49;00m \u001b[34mprov\u001b[39;49;00m\u001b[31m:\u001b[39;49;00m\u001b[34mstartedAtTime\u001b[39;49;00m\r\n",
      "    \u001b[34mrange\u001b[39;49;00m\u001b[31m:\u001b[39;49;00m \u001b[34mdate\u001b[39;49;00m\r\n",
      "  \u001b[34mduration\u001b[39;49;00m\u001b[31m:\u001b[39;49;00m\r\n",
      "    \u001b[34mrange\u001b[39;49;00m\u001b[31m:\u001b[39;49;00m \u001b[34mfloat\u001b[39;49;00m\r\n",
      "  \u001b[34mdiagnosis\u001b[39;49;00m\u001b[31m:\u001b[39;49;00m\r\n",
      "    \u001b[34mrange\u001b[39;49;00m\u001b[31m:\u001b[39;49;00m \u001b[36mDiagnosisConcept\u001b[39;49;00m\r\n",
      "    \u001b[34minlined\u001b[39;49;00m\u001b[31m:\u001b[39;49;00m \u001b[34mtrue\u001b[39;49;00m\r\n",
      "  \u001b[34mprocedure\u001b[39;49;00m\u001b[31m:\u001b[39;49;00m\r\n",
      "    \u001b[34mrange\u001b[39;49;00m\u001b[31m:\u001b[39;49;00m \u001b[36mProcedureConcept\u001b[39;49;00m\r\n",
      "    \u001b[34minlined\u001b[39;49;00m\u001b[31m:\u001b[39;49;00m \u001b[34mtrue\u001b[39;49;00m\r\n",
      "\r\n",
      "  \u001b[34mended_at_time\u001b[39;49;00m\u001b[31m:\u001b[39;49;00m\r\n",
      "    \u001b[34mslot_uri\u001b[39;49;00m\u001b[31m:\u001b[39;49;00m \u001b[34mprov\u001b[39;49;00m\u001b[31m:\u001b[39;49;00m\u001b[34mendedAtTime\u001b[39;49;00m\r\n",
      "    \u001b[34mrange\u001b[39;49;00m\u001b[31m:\u001b[39;49;00m \u001b[34mdate\u001b[39;49;00m\r\n",
      "\r\n",
      "  \u001b[34mpersons\u001b[39;49;00m\u001b[31m:\u001b[39;49;00m\r\n",
      "    \u001b[34mrange\u001b[39;49;00m\u001b[31m:\u001b[39;49;00m \u001b[36mPerson\u001b[39;49;00m\r\n",
      "    \u001b[34minlined\u001b[39;49;00m\u001b[31m:\u001b[39;49;00m \u001b[34mtrue\u001b[39;49;00m\r\n",
      "    \u001b[34minlined_as_list\u001b[39;49;00m\u001b[31m:\u001b[39;49;00m \u001b[34mtrue\u001b[39;49;00m\r\n",
      "    \u001b[34mmultivalued\u001b[39;49;00m\u001b[31m:\u001b[39;49;00m \u001b[34mtrue\u001b[39;49;00m\r\n",
      "  \u001b[34morganizations\u001b[39;49;00m\u001b[31m:\u001b[39;49;00m\r\n",
      "    \u001b[34mrange\u001b[39;49;00m\u001b[31m:\u001b[39;49;00m \u001b[36mOrganization\u001b[39;49;00m\r\n",
      "    \u001b[34minlined_as_list\u001b[39;49;00m\u001b[31m:\u001b[39;49;00m \u001b[34mtrue\u001b[39;49;00m\r\n",
      "    \u001b[34minlined\u001b[39;49;00m\u001b[31m:\u001b[39;49;00m \u001b[34mtrue\u001b[39;49;00m\r\n",
      "    \u001b[34mmultivalued\u001b[39;49;00m\u001b[31m:\u001b[39;49;00m \u001b[34mtrue\u001b[39;49;00m\r\n",
      "    \r\n",
      "\u001b[34menums\u001b[39;49;00m\u001b[31m:\u001b[39;49;00m\r\n",
      "  \u001b[36mFamilialRelationshipType\u001b[39;49;00m\u001b[31m:\u001b[39;49;00m\r\n",
      "    \u001b[34mpermissible_values\u001b[39;49;00m\u001b[31m:\u001b[39;49;00m\r\n",
      "      \u001b[36mSIBLING_OF\u001b[39;49;00m\u001b[31m:\u001b[39;49;00m\r\n",
      "        \u001b[34mmeaning\u001b[39;49;00m\u001b[31m:\u001b[39;49;00m \u001b[34mfamrel\u001b[39;49;00m\u001b[31m:\u001b[39;49;00m\u001b[34m01\u001b[39;49;00m\r\n",
      "      \u001b[36mPARENT_OF\u001b[39;49;00m\u001b[31m:\u001b[39;49;00m\r\n",
      "        \u001b[34mmeaning\u001b[39;49;00m\u001b[31m:\u001b[39;49;00m \u001b[34mfamrel\u001b[39;49;00m\u001b[31m:\u001b[39;49;00m\u001b[34m02\u001b[39;49;00m\r\n",
      "      \u001b[36mCHILD_OF\u001b[39;49;00m\u001b[31m:\u001b[39;49;00m\r\n",
      "        \u001b[34mmeaning\u001b[39;49;00m\u001b[31m:\u001b[39;49;00m \u001b[34mfamrel\u001b[39;49;00m\u001b[31m:\u001b[39;49;00m\u001b[34m03\u001b[39;49;00m\r\n",
      "  \u001b[36mGenderType\u001b[39;49;00m\u001b[31m:\u001b[39;49;00m\r\n",
      "    \u001b[34mpermissible_values\u001b[39;49;00m\u001b[31m:\u001b[39;49;00m\r\n",
      "      \u001b[34mnonbinary\u001b[39;49;00m \u001b[34mman\u001b[39;49;00m\u001b[31m:\u001b[39;49;00m\r\n",
      "        \u001b[34mmeaning\u001b[39;49;00m\u001b[31m:\u001b[39;49;00m \u001b[36mGSSO\u001b[39;49;00m\u001b[31m:\u001b[39;49;00m\u001b[34m009254\u001b[39;49;00m\r\n",
      "      \u001b[34mnonbinary\u001b[39;49;00m \u001b[34mwoman\u001b[39;49;00m\u001b[31m:\u001b[39;49;00m\r\n",
      "        \u001b[34mmeaning\u001b[39;49;00m\u001b[31m:\u001b[39;49;00m \u001b[36mGSSO\u001b[39;49;00m\u001b[31m:\u001b[39;49;00m\u001b[34m009253\u001b[39;49;00m\r\n",
      "      \u001b[34mtransgender\u001b[39;49;00m \u001b[34mwoman\u001b[39;49;00m\u001b[31m:\u001b[39;49;00m\r\n",
      "        \u001b[34mmeaning\u001b[39;49;00m\u001b[31m:\u001b[39;49;00m \u001b[36mGSSO\u001b[39;49;00m\u001b[31m:\u001b[39;49;00m\u001b[34m000384\u001b[39;49;00m\r\n",
      "      \u001b[34mtransgender\u001b[39;49;00m \u001b[34mman\u001b[39;49;00m\u001b[31m:\u001b[39;49;00m\r\n",
      "        \u001b[34mmeaning\u001b[39;49;00m\u001b[31m:\u001b[39;49;00m \u001b[36mGSSO\u001b[39;49;00m\u001b[31m:\u001b[39;49;00m\u001b[34m000372\u001b[39;49;00m\r\n",
      "      \u001b[34mcisgender\u001b[39;49;00m \u001b[34mman\u001b[39;49;00m\u001b[31m:\u001b[39;49;00m\r\n",
      "        \u001b[34mmeaning\u001b[39;49;00m\u001b[31m:\u001b[39;49;00m \u001b[36mGSSO\u001b[39;49;00m\u001b[31m:\u001b[39;49;00m\u001b[34m000371\u001b[39;49;00m\r\n",
      "      \u001b[34mcisgender\u001b[39;49;00m \u001b[34mwoman\u001b[39;49;00m\u001b[31m:\u001b[39;49;00m\r\n",
      "        \u001b[34mmeaning\u001b[39;49;00m\u001b[31m:\u001b[39;49;00m \u001b[36mGSSO\u001b[39;49;00m\u001b[31m:\u001b[39;49;00m\u001b[34m000385\u001b[39;49;00m\r\n",
      "  \u001b[36mDiagnosisType\u001b[39;49;00m\u001b[31m:\u001b[39;49;00m\r\n",
      "\r\n",
      "\u001b[34msubsets\u001b[39;49;00m\u001b[31m:\u001b[39;49;00m\r\n",
      "  \u001b[34mbasic_subset\u001b[39;49;00m\u001b[31m:\u001b[39;49;00m\r\n",
      "    \u001b[34mdescription\u001b[39;49;00m\u001b[31m:\u001b[39;49;00m \u001b[36mA\u001b[39;49;00m \u001b[34msubset\u001b[39;49;00m \u001b[34mof\u001b[39;49;00m \u001b[34mthe\u001b[39;49;00m \u001b[34mschema\u001b[39;49;00m \u001b[34mthat\u001b[39;49;00m \u001b[34mhandles\u001b[39;49;00m \u001b[34mbasic\u001b[39;49;00m \u001b[34minformation\u001b[39;49;00m\r\n"
     ]
    }
   ],
   "source": [
    "!cat ../examples/PersonSchema/personinfo.yaml"
   ]
  },
  {
   "cell_type": "markdown",
   "id": "047f2653",
   "metadata": {},
   "source": [
    "## Create a working directory\n",
    "\n",
    "For demonstration purposes we will put all generated artefacts in a folder `tmp`.\n",
    "\n",
    "Note that if you were doing this in a real project, you should use the linkml project cookiecutter\n",
    "to create a standard project structure"
   ]
  },
  {
   "cell_type": "code",
   "execution_count": 2,
   "id": "7865717f",
   "metadata": {
    "execution": {
     "iopub.execute_input": "2025-02-01T01:54:51.433635Z",
     "iopub.status.busy": "2025-02-01T01:54:51.432943Z",
     "iopub.status.idle": "2025-02-01T01:54:52.114639Z",
     "shell.execute_reply": "2025-02-01T01:54:52.113159Z"
    }
   },
   "outputs": [],
   "source": [
    "!mkdir -p tmp"
   ]
  },
  {
   "cell_type": "markdown",
   "id": "7504cc4d",
   "metadata": {},
   "source": [
    "## Generate SQL CREATE TABLE statements\n",
    "\n",
    "We use the [gen-sqlddl](https://linkml.io/linkml/generators/sqltable.html) command to create a SQL DDL (CREATE TABLE statements):"
   ]
  },
  {
   "cell_type": "code",
   "execution_count": 3,
   "id": "daea7df7",
   "metadata": {
    "execution": {
     "iopub.execute_input": "2025-02-01T01:54:52.118655Z",
     "iopub.status.busy": "2025-02-01T01:54:52.118274Z",
     "iopub.status.idle": "2025-02-01T01:54:54.556939Z",
     "shell.execute_reply": "2025-02-01T01:54:54.555577Z"
    }
   },
   "outputs": [],
   "source": [
    "!gen-sqlddl ../examples/PersonSchema/personinfo.yaml > tmp/personinfo.ddl.sql"
   ]
  },
  {
   "cell_type": "code",
   "execution_count": 4,
   "id": "7c097cd6",
   "metadata": {
    "execution": {
     "iopub.execute_input": "2025-02-01T01:54:54.560585Z",
     "iopub.status.busy": "2025-02-01T01:54:54.560213Z",
     "iopub.status.idle": "2025-02-01T01:54:55.290015Z",
     "shell.execute_reply": "2025-02-01T01:54:55.287738Z"
    }
   },
   "outputs": [
    {
     "name": "stdout",
     "output_type": "stream",
     "text": [
      "CREATE TABLE \"Person\" (\r\n",
      "\tprimary_email TEXT, \r\n",
      "\tbirth_date TEXT, \r\n",
      "\tage_in_years INTEGER, \r\n",
      "\tgender VARCHAR(17), \r\n",
      "\tid TEXT NOT NULL, \r\n",
      "\tname TEXT, \r\n",
      "\tdescription TEXT, \r\n",
      "\timage TEXT, \r\n",
      "\t\"Container_id\" INTEGER, \r\n",
      "\tcurrent_address_id INTEGER, \r\n",
      "\tPRIMARY KEY (id), \r\n",
      "\tFOREIGN KEY(\"Container_id\") REFERENCES \"Container\" (id), \r\n",
      "\tFOREIGN KEY(current_address_id) REFERENCES \"Address\" (id)\r\n",
      ");\r\n",
      "CREATE TABLE \"Organization\" (\r\n",
      "\tmission_statement TEXT, \r\n",
      "\tfounding_date TEXT, \r\n",
      "\tfounding_location TEXT, \r\n",
      "\tid TEXT NOT NULL, \r\n",
      "\tname TEXT, \r\n"
     ]
    }
   ],
   "source": [
    "!grep -A20 'CREATE TABLE \"Person\"' tmp/personinfo.ddl.sql"
   ]
  },
  {
   "cell_type": "markdown",
   "id": "cf093e7f",
   "metadata": {},
   "source": [
    "### Create an empty database\n",
    "\n",
    "Ensuring we start with a fresh database, we initialize it with CREATE TABLE STATEMENTS"
   ]
  },
  {
   "cell_type": "code",
   "execution_count": 5,
   "id": "d188dc2f",
   "metadata": {
    "execution": {
     "iopub.execute_input": "2025-02-01T01:54:55.294728Z",
     "iopub.status.busy": "2025-02-01T01:54:55.294337Z",
     "iopub.status.idle": "2025-02-01T01:54:55.972679Z",
     "shell.execute_reply": "2025-02-01T01:54:55.970855Z"
    }
   },
   "outputs": [],
   "source": [
    "!test -f tmp/tmp.db && rm tmp/tmp.db"
   ]
  },
  {
   "cell_type": "code",
   "execution_count": 6,
   "id": "b0a0b49b",
   "metadata": {
    "execution": {
     "iopub.execute_input": "2025-02-01T01:54:55.976780Z",
     "iopub.status.busy": "2025-02-01T01:54:55.976120Z",
     "iopub.status.idle": "2025-02-01T01:54:56.688037Z",
     "shell.execute_reply": "2025-02-01T01:54:56.686700Z"
    }
   },
   "outputs": [],
   "source": [
    "!cat tmp/personinfo.ddl.sql | sqlite3 tmp/tmp.db "
   ]
  },
  {
   "cell_type": "code",
   "execution_count": 7,
   "id": "82e19572",
   "metadata": {
    "execution": {
     "iopub.execute_input": "2025-02-01T01:54:56.691747Z",
     "iopub.status.busy": "2025-02-01T01:54:56.691373Z",
     "iopub.status.idle": "2025-02-01T01:54:57.310428Z",
     "shell.execute_reply": "2025-02-01T01:54:57.309365Z"
    }
   },
   "outputs": [
    {
     "name": "stdout",
     "output_type": "stream",
     "text": [
      "CREATE TABLE IF NOT EXISTS \"Person\" (\r\n",
      "\tprimary_email TEXT, \r\n",
      "\tbirth_date TEXT, \r\n",
      "\tage_in_years INTEGER, \r\n",
      "\tgender VARCHAR(17), \r\n",
      "\tid TEXT NOT NULL, \r\n",
      "\tname TEXT, \r\n",
      "\tdescription TEXT, \r\n",
      "\timage TEXT, \r\n",
      "\t\"Container_id\" INTEGER, \r\n",
      "\tcurrent_address_id INTEGER, \r\n",
      "\tPRIMARY KEY (id), \r\n",
      "\tFOREIGN KEY(\"Container_id\") REFERENCES \"Container\" (id), \r\n",
      "\tFOREIGN KEY(current_address_id) REFERENCES \"Address\" (id)\r\n",
      ");\r\n"
     ]
    }
   ],
   "source": [
    "!sqlite3 tmp/tmp.db \".schema Person\" \".exit\""
   ]
  },
  {
   "cell_type": "markdown",
   "id": "7fe9e028",
   "metadata": {},
   "source": [
    "## Generate SQLA Models\n",
    "\n",
    "We use the [gen-sqla](https://linkml.io/linkml/generators/sqlalchemy.html) command to create a SQLA Object Model"
   ]
  },
  {
   "cell_type": "code",
   "execution_count": 8,
   "id": "ac831847",
   "metadata": {
    "execution": {
     "iopub.execute_input": "2025-02-01T01:54:57.314761Z",
     "iopub.status.busy": "2025-02-01T01:54:57.314173Z",
     "iopub.status.idle": "2025-02-01T01:54:59.575923Z",
     "shell.execute_reply": "2025-02-01T01:54:59.574452Z"
    }
   },
   "outputs": [],
   "source": [
    "!gen-sqla ../examples/PersonSchema/personinfo.yaml > tmp/personinfo_sqla.py"
   ]
  },
  {
   "cell_type": "code",
   "execution_count": 9,
   "id": "0d6203da",
   "metadata": {
    "execution": {
     "iopub.execute_input": "2025-02-01T01:54:59.580278Z",
     "iopub.status.busy": "2025-02-01T01:54:59.579558Z",
     "iopub.status.idle": "2025-02-01T01:55:00.183728Z",
     "shell.execute_reply": "2025-02-01T01:55:00.181865Z"
    }
   },
   "outputs": [
    {
     "name": "stdout",
     "output_type": "stream",
     "text": [
      "\r\n",
      "\u001b[34mfrom\u001b[39;49;00m \u001b[34msqlalchemy\u001b[39;49;00m \u001b[34mimport\u001b[39;49;00m \u001b[36mColumn\u001b[39;49;00m\u001b[31m,\u001b[39;49;00m \u001b[36mIndex\u001b[39;49;00m\u001b[31m,\u001b[39;49;00m \u001b[36mTable\u001b[39;49;00m\u001b[31m,\u001b[39;49;00m \u001b[36mForeignKey\u001b[39;49;00m\r\n",
      "\u001b[34mfrom\u001b[39;49;00m \u001b[34msqlalchemy\u001b[39;49;00m\u001b[31m.\u001b[39;49;00m\u001b[34morm\u001b[39;49;00m \u001b[34mimport\u001b[39;49;00m \u001b[34mrelationship\u001b[39;49;00m\r\n",
      "\u001b[34mfrom\u001b[39;49;00m \u001b[34msqlalchemy\u001b[39;49;00m\u001b[31m.\u001b[39;49;00m\u001b[34msql\u001b[39;49;00m\u001b[31m.\u001b[39;49;00m\u001b[34msqltypes\u001b[39;49;00m \u001b[34mimport\u001b[39;49;00m \u001b[31m*\u001b[39;49;00m\r\n",
      "\u001b[34mfrom\u001b[39;49;00m \u001b[34msqlalchemy\u001b[39;49;00m\u001b[31m.\u001b[39;49;00m\u001b[34morm\u001b[39;49;00m \u001b[34mimport\u001b[39;49;00m \u001b[34mdeclarative_base\u001b[39;49;00m\r\n",
      "\u001b[34mfrom\u001b[39;49;00m \u001b[34msqlalchemy\u001b[39;49;00m\u001b[31m.\u001b[39;49;00m\u001b[34mext\u001b[39;49;00m\u001b[31m.\u001b[39;49;00m\u001b[34massociationproxy\u001b[39;49;00m \u001b[34mimport\u001b[39;49;00m \u001b[34massociation_proxy\u001b[39;49;00m\r\n",
      "\r\n",
      "\u001b[36mBase\u001b[39;49;00m \u001b[31m=\u001b[39;49;00m \u001b[34mdeclarative_base\u001b[39;49;00m\u001b[31m(\u001b[39;49;00m\u001b[31m)\u001b[39;49;00m\r\n",
      "\u001b[34mmetadata\u001b[39;49;00m \u001b[31m=\u001b[39;49;00m \u001b[36mBase\u001b[39;49;00m\u001b[31m.\u001b[39;49;00m\u001b[34mmetadata\u001b[39;49;00m\r\n",
      "\r\n",
      "\r\n",
      "\u001b[34mclass\u001b[39;49;00m \u001b[36mNamedThing\u001b[39;49;00m\u001b[31m(\u001b[39;49;00m\u001b[36mBase\u001b[39;49;00m\u001b[31m)\u001b[39;49;00m\u001b[31m:\u001b[39;49;00m\r\n",
      "    \u001b[33m\"\"\u001b[39;49;00m\u001b[33m\"\r\n",
      "\u001b[39;49;00m    \u001b[36mA\u001b[39;49;00m \u001b[34mgeneric\u001b[39;49;00m \u001b[34mgrouping\u001b[39;49;00m \u001b[34mfor\u001b[39;49;00m \u001b[34many\u001b[39;49;00m \u001b[34midentifiable\u001b[39;49;00m \u001b[34mentity\u001b[39;49;00m\r\n",
      "    \u001b[33m\"\"\u001b[39;49;00m\u001b[33m\"\r\n",
      "\u001b[39;49;00m    \u001b[34m__tablename__\u001b[39;49;00m \u001b[31m=\u001b[39;49;00m \u001b[33m'NamedThing'\u001b[39;49;00m\r\n",
      "\r\n",
      "    \u001b[34mid\u001b[39;49;00m \u001b[31m=\u001b[39;49;00m \u001b[36mColumn\u001b[39;49;00m\u001b[31m(\u001b[39;49;00m\u001b[36mText\u001b[39;49;00m\u001b[31m(\u001b[39;49;00m\u001b[31m)\u001b[39;49;00m\u001b[31m,\u001b[39;49;00m \u001b[34mprimary_key\u001b[39;49;00m\u001b[31m=\u001b[39;49;00m\u001b[34mTrue\u001b[39;49;00m\u001b[31m,\u001b[39;49;00m \u001b[34mnullable\u001b[39;49;00m\u001b[31m=\u001b[39;49;00m\u001b[34mFalse\u001b[39;49;00m \u001b[31m)\u001b[39;49;00m\r\n",
      "    \u001b[34mname\u001b[39;49;00m \u001b[31m=\u001b[39;49;00m \u001b[36mColumn\u001b[39;49;00m\u001b[31m(\u001b[39;49;00m\u001b[36mText\u001b[39;49;00m\u001b[31m(\u001b[39;49;00m\u001b[31m)\u001b[39;49;00m\u001b[31m)\u001b[39;49;00m\r\n",
      "    \u001b[34mdescription\u001b[39;49;00m \u001b[31m=\u001b[39;49;00m \u001b[36mColumn\u001b[39;49;00m\u001b[31m(\u001b[39;49;00m\u001b[36mText\u001b[39;49;00m\u001b[31m(\u001b[39;49;00m\u001b[31m)\u001b[39;49;00m\u001b[31m)\u001b[39;49;00m\r\n",
      "    \u001b[34mimage\u001b[39;49;00m \u001b[31m=\u001b[39;49;00m \u001b[36mColumn\u001b[39;49;00m\u001b[31m(\u001b[39;49;00m\u001b[36mText\u001b[39;49;00m\u001b[31m(\u001b[39;49;00m\u001b[31m)\u001b[39;49;00m\u001b[31m)\u001b[39;49;00m\r\n",
      "    \r\n",
      "\r\n",
      "    \u001b[34mdef\u001b[39;49;00m \u001b[34m__repr__\u001b[39;49;00m\u001b[31m(\u001b[39;49;00m\u001b[34mself\u001b[39;49;00m\u001b[31m)\u001b[39;49;00m\u001b[31m:\u001b[39;49;00m\r\n",
      "        \u001b[34mreturn\u001b[39;49;00m \u001b[34mf\u001b[39;49;00m\u001b[33m\"NamedThing(id={self.id},name={self.name},description={self.description},image={self.image},)\"\u001b[39;49;00m\r\n",
      "\r\n",
      "\r\n",
      "\r\n",
      "    \r\n",
      "\r\n",
      "\r\n",
      "\u001b[34mclass\u001b[39;49;00m \u001b[36mHasAliases\u001b[39;49;00m\u001b[31m(\u001b[39;49;00m\u001b[36mBase\u001b[39;49;00m\u001b[31m)\u001b[39;49;00m\u001b[31m:\u001b[39;49;00m\r\n",
      "    \u001b[33m\"\"\u001b[39;49;00m\u001b[33m\"\r\n",
      "\u001b[39;49;00m    \u001b[36mA\u001b[39;49;00m \u001b[34mmixin\u001b[39;49;00m \u001b[34mapplied\u001b[39;49;00m \u001b[34mto\u001b[39;49;00m \u001b[34many\u001b[39;49;00m \u001b[34mclass\u001b[39;49;00m \u001b[34mthat\u001b[39;49;00m \u001b[34mcan\u001b[39;49;00m \u001b[34mhave\u001b[39;49;00m \u001b[34maliases\u001b[39;49;00m\u001b[31m/\u001b[39;49;00m\u001b[34malternateNames\u001b[39;49;00m\r\n",
      "    \u001b[33m\"\"\u001b[39;49;00m\u001b[33m\"\r\n",
      "\u001b[39;49;00m    \u001b[34m__tablename__\u001b[39;49;00m \u001b[31m=\u001b[39;49;00m \u001b[33m'HasAliases'\u001b[39;49;00m\r\n",
      "\r\n",
      "    \u001b[34mid\u001b[39;49;00m \u001b[31m=\u001b[39;49;00m \u001b[36mColumn\u001b[39;49;00m\u001b[31m(\u001b[39;49;00m\u001b[36mInteger\u001b[39;49;00m\u001b[31m(\u001b[39;49;00m\u001b[31m)\u001b[39;49;00m\u001b[31m,\u001b[39;49;00m \u001b[34mprimary_key\u001b[39;49;00m\u001b[31m=\u001b[39;49;00m\u001b[34mTrue\u001b[39;49;00m\u001b[31m,\u001b[39;49;00m \u001b[34mautoincrement\u001b[39;49;00m\u001b[31m=\u001b[39;49;00m\u001b[34mTrue\u001b[39;49;00m \u001b[31m,\u001b[39;49;00m \u001b[34mnullable\u001b[39;49;00m\u001b[31m=\u001b[39;49;00m\u001b[34mFalse\u001b[39;49;00m \u001b[31m)\u001b[39;49;00m\r\n",
      "    \r\n",
      "    \r\n",
      "    \u001b[34maliases_rel\u001b[39;49;00m \u001b[31m=\u001b[39;49;00m \u001b[34mrelationship\u001b[39;49;00m\u001b[31m(\u001b[39;49;00m \u001b[33m\"HasAliasesAliases\"\u001b[39;49;00m \u001b[31m)\u001b[39;49;00m\r\n",
      "    \u001b[34maliases\u001b[39;49;00m \u001b[31m=\u001b[39;49;00m \u001b[34massociation_proxy\u001b[39;49;00m\u001b[31m(\u001b[39;49;00m\u001b[33m\"aliases_rel\"\u001b[39;49;00m\u001b[31m,\u001b[39;49;00m \u001b[33m\"aliases\"\u001b[39;49;00m\u001b[31m,\u001b[39;49;00m\r\n",
      "                                  \u001b[34mcreator\u001b[39;49;00m\u001b[31m=\u001b[39;49;00m\u001b[34mlambda\u001b[39;49;00m \u001b[34mx_\u001b[39;49;00m\u001b[31m:\u001b[39;49;00m \u001b[36mHasAliasesAliases\u001b[39;49;00m\u001b[31m(\u001b[39;49;00m\u001b[34maliases\u001b[39;49;00m\u001b[31m=\u001b[39;49;00m\u001b[34mx_\u001b[39;49;00m\u001b[31m)\u001b[39;49;00m\u001b[31m)\u001b[39;49;00m\r\n",
      "    \r\n",
      "\r\n",
      "    \u001b[34mdef\u001b[39;49;00m \u001b[34m__repr__\u001b[39;49;00m\u001b[31m(\u001b[39;49;00m\u001b[34mself\u001b[39;49;00m\u001b[31m)\u001b[39;49;00m\u001b[31m:\u001b[39;49;00m\r\n",
      "        \u001b[34mreturn\u001b[39;49;00m \u001b[34mf\u001b[39;49;00m\u001b[33m\"HasAliases(id={self.id},)\"\u001b[39;49;00m\r\n",
      "\r\n",
      "\r\n",
      "\r\n",
      "    \r\n",
      "\r\n",
      "\r\n",
      "\u001b[34mclass\u001b[39;49;00m \u001b[36mPlace\u001b[39;49;00m\u001b[31m(\u001b[39;49;00m\u001b[36mBase\u001b[39;49;00m\u001b[31m)\u001b[39;49;00m\u001b[31m:\u001b[39;49;00m\r\n",
      "    \u001b[33m\"\"\u001b[39;49;00m\u001b[33m\"\r\n",
      "\u001b[39;49;00m    \r\n",
      "    \u001b[33m\"\"\u001b[39;49;00m\u001b[33m\"\r\n",
      "\u001b[39;49;00m    \u001b[34m__tablename__\u001b[39;49;00m \u001b[31m=\u001b[39;49;00m \u001b[33m'Place'\u001b[39;49;00m\r\n",
      "\r\n",
      "    \u001b[34mid\u001b[39;49;00m \u001b[31m=\u001b[39;49;00m \u001b[36mColumn\u001b[39;49;00m\u001b[31m(\u001b[39;49;00m\u001b[36mText\u001b[39;49;00m\u001b[31m(\u001b[39;49;00m\u001b[31m)\u001b[39;49;00m\u001b[31m,\u001b[39;49;00m \u001b[34mprimary_key\u001b[39;49;00m\u001b[31m=\u001b[39;49;00m\u001b[34mTrue\u001b[39;49;00m\u001b[31m,\u001b[39;49;00m \u001b[34mnullable\u001b[39;49;00m\u001b[31m=\u001b[39;49;00m\u001b[34mFalse\u001b[39;49;00m \u001b[31m)\u001b[39;49;00m\r\n",
      "    \u001b[34mname\u001b[39;49;00m \u001b[31m=\u001b[39;49;00m \u001b[36mColumn\u001b[39;49;00m\u001b[31m(\u001b[39;49;00m\u001b[36mText\u001b[39;49;00m\u001b[31m(\u001b[39;49;00m\u001b[31m)\u001b[39;49;00m\u001b[31m)\u001b[39;49;00m\r\n",
      "    \r\n",
      "    \r\n",
      "    \u001b[34maliases_rel\u001b[39;49;00m \u001b[31m=\u001b[39;49;00m \u001b[34mrelationship\u001b[39;49;00m\u001b[31m(\u001b[39;49;00m \u001b[33m\"PlaceAliases\"\u001b[39;49;00m \u001b[31m)\u001b[39;49;00m\r\n",
      "    \u001b[34maliases\u001b[39;49;00m \u001b[31m=\u001b[39;49;00m \u001b[34massociation_proxy\u001b[39;49;00m\u001b[31m(\u001b[39;49;00m\u001b[33m\"aliases_rel\"\u001b[39;49;00m\u001b[31m,\u001b[39;49;00m \u001b[33m\"aliases\"\u001b[39;49;00m\u001b[31m,\u001b[39;49;00m\r\n",
      "                                  \u001b[34mcreator\u001b[39;49;00m\u001b[31m=\u001b[39;49;00m\u001b[34mlambda\u001b[39;49;00m \u001b[34mx_\u001b[39;49;00m\u001b[31m:\u001b[39;49;00m \u001b[36mPlaceAliases\u001b[39;49;00m\u001b[31m(\u001b[39;49;00m\u001b[34maliases\u001b[39;49;00m\u001b[31m=\u001b[39;49;00m\u001b[34mx_\u001b[39;49;00m\u001b[31m)\u001b[39;49;00m\u001b[31m)\u001b[39;49;00m\r\n",
      "    \r\n",
      "\r\n",
      "    \u001b[34mdef\u001b[39;49;00m \u001b[34m__repr__\u001b[39;49;00m\u001b[31m(\u001b[39;49;00m\u001b[34mself\u001b[39;49;00m\u001b[31m)\u001b[39;49;00m\u001b[31m:\u001b[39;49;00m\r\n",
      "        \u001b[34mreturn\u001b[39;49;00m \u001b[34mf\u001b[39;49;00m\u001b[33m\"Place(id={self.id},name={self.name},)\"\u001b[39;49;00m\r\n",
      "\r\n",
      "\r\n",
      "\r\n",
      "    \r\n",
      "\r\n",
      "\r\n",
      "\u001b[34mclass\u001b[39;49;00m \u001b[36mAddress\u001b[39;49;00m\u001b[31m(\u001b[39;49;00m\u001b[36mBase\u001b[39;49;00m\u001b[31m)\u001b[39;49;00m\u001b[31m:\u001b[39;49;00m\r\n",
      "    \u001b[33m\"\"\u001b[39;49;00m\u001b[33m\"\r\n",
      "\u001b[39;49;00m    \r\n",
      "    \u001b[33m\"\"\u001b[39;49;00m\u001b[33m\"\r\n",
      "\u001b[39;49;00m    \u001b[34m__tablename__\u001b[39;49;00m \u001b[31m=\u001b[39;49;00m \u001b[33m'Address'\u001b[39;49;00m\r\n",
      "\r\n",
      "    \u001b[34mid\u001b[39;49;00m \u001b[31m=\u001b[39;49;00m \u001b[36mColumn\u001b[39;49;00m\u001b[31m(\u001b[39;49;00m\u001b[36mInteger\u001b[39;49;00m\u001b[31m(\u001b[39;49;00m\u001b[31m)\u001b[39;49;00m\u001b[31m,\u001b[39;49;00m \u001b[34mprimary_key\u001b[39;49;00m\u001b[31m=\u001b[39;49;00m\u001b[34mTrue\u001b[39;49;00m\u001b[31m,\u001b[39;49;00m \u001b[34mautoincrement\u001b[39;49;00m\u001b[31m=\u001b[39;49;00m\u001b[34mTrue\u001b[39;49;00m \u001b[31m,\u001b[39;49;00m \u001b[34mnullable\u001b[39;49;00m\u001b[31m=\u001b[39;49;00m\u001b[34mFalse\u001b[39;49;00m \u001b[31m)\u001b[39;49;00m\r\n",
      "    \u001b[34mstreet\u001b[39;49;00m \u001b[31m=\u001b[39;49;00m \u001b[36mColumn\u001b[39;49;00m\u001b[31m(\u001b[39;49;00m\u001b[36mText\u001b[39;49;00m\u001b[31m(\u001b[39;49;00m\u001b[31m)\u001b[39;49;00m\u001b[31m)\u001b[39;49;00m\r\n",
      "    \u001b[34mcity\u001b[39;49;00m \u001b[31m=\u001b[39;49;00m \u001b[36mColumn\u001b[39;49;00m\u001b[31m(\u001b[39;49;00m\u001b[36mText\u001b[39;49;00m\u001b[31m(\u001b[39;49;00m\u001b[31m)\u001b[39;49;00m\u001b[31m)\u001b[39;49;00m\r\n",
      "    \u001b[34mpostal_code\u001b[39;49;00m \u001b[31m=\u001b[39;49;00m \u001b[36mColumn\u001b[39;49;00m\u001b[31m(\u001b[39;49;00m\u001b[36mText\u001b[39;49;00m\u001b[31m(\u001b[39;49;00m\u001b[31m)\u001b[39;49;00m\u001b[31m)\u001b[39;49;00m\r\n",
      "    \r\n",
      "\r\n",
      "    \u001b[34mdef\u001b[39;49;00m \u001b[34m__repr__\u001b[39;49;00m\u001b[31m(\u001b[39;49;00m\u001b[34mself\u001b[39;49;00m\u001b[31m)\u001b[39;49;00m\u001b[31m:\u001b[39;49;00m\r\n",
      "        \u001b[34mreturn\u001b[39;49;00m \u001b[34mf\u001b[39;49;00m\u001b[33m\"Address(id={self.id},street={self.street},city={self.city},postal_code={self.postal_code},)\"\u001b[39;49;00m\r\n",
      "\r\n",
      "\r\n",
      "\r\n",
      "    \r\n",
      "\r\n",
      "\r\n",
      "\u001b[34mclass\u001b[39;49;00m \u001b[36mEvent\u001b[39;49;00m\u001b[31m(\u001b[39;49;00m\u001b[36mBase\u001b[39;49;00m\u001b[31m)\u001b[39;49;00m\u001b[31m:\u001b[39;49;00m\r\n",
      "    \u001b[33m\"\"\u001b[39;49;00m\u001b[33m\"\r\n",
      "\u001b[39;49;00m    \r\n",
      "    \u001b[33m\"\"\u001b[39;49;00m\u001b[33m\"\r\n",
      "\u001b[39;49;00m    \u001b[34m__tablename__\u001b[39;49;00m \u001b[31m=\u001b[39;49;00m \u001b[33m'Event'\u001b[39;49;00m\r\n",
      "\r\n",
      "    \u001b[34mid\u001b[39;49;00m \u001b[31m=\u001b[39;49;00m \u001b[36mColumn\u001b[39;49;00m\u001b[31m(\u001b[39;49;00m\u001b[36mInteger\u001b[39;49;00m\u001b[31m(\u001b[39;49;00m\u001b[31m)\u001b[39;49;00m\u001b[31m,\u001b[39;49;00m \u001b[34mprimary_key\u001b[39;49;00m\u001b[31m=\u001b[39;49;00m\u001b[34mTrue\u001b[39;49;00m\u001b[31m,\u001b[39;49;00m \u001b[34mautoincrement\u001b[39;49;00m\u001b[31m=\u001b[39;49;00m\u001b[34mTrue\u001b[39;49;00m \u001b[31m,\u001b[39;49;00m \u001b[34mnullable\u001b[39;49;00m\u001b[31m=\u001b[39;49;00m\u001b[34mFalse\u001b[39;49;00m \u001b[31m)\u001b[39;49;00m\r\n",
      "    \u001b[34mstarted_at_time\u001b[39;49;00m \u001b[31m=\u001b[39;49;00m \u001b[36mColumn\u001b[39;49;00m\u001b[31m(\u001b[39;49;00m\u001b[36mDate\u001b[39;49;00m\u001b[31m(\u001b[39;49;00m\u001b[31m)\u001b[39;49;00m\u001b[31m)\u001b[39;49;00m\r\n",
      "    \u001b[34mended_at_time\u001b[39;49;00m \u001b[31m=\u001b[39;49;00m \u001b[36mColumn\u001b[39;49;00m\u001b[31m(\u001b[39;49;00m\u001b[36mDate\u001b[39;49;00m\u001b[31m(\u001b[39;49;00m\u001b[31m)\u001b[39;49;00m\u001b[31m)\u001b[39;49;00m\r\n",
      "    \u001b[34mduration\u001b[39;49;00m \u001b[31m=\u001b[39;49;00m \u001b[36mColumn\u001b[39;49;00m\u001b[31m(\u001b[39;49;00m\u001b[36mFloat\u001b[39;49;00m\u001b[31m(\u001b[39;49;00m\u001b[31m)\u001b[39;49;00m\u001b[31m)\u001b[39;49;00m\r\n",
      "    \u001b[34mis_current\u001b[39;49;00m \u001b[31m=\u001b[39;49;00m \u001b[36mColumn\u001b[39;49;00m\u001b[31m(\u001b[39;49;00m\u001b[36mBoolean\u001b[39;49;00m\u001b[31m(\u001b[39;49;00m\u001b[31m)\u001b[39;49;00m\u001b[31m)\u001b[39;49;00m\r\n",
      "    \r\n",
      "\r\n",
      "    \u001b[34mdef\u001b[39;49;00m \u001b[34m__repr__\u001b[39;49;00m\u001b[31m(\u001b[39;49;00m\u001b[34mself\u001b[39;49;00m\u001b[31m)\u001b[39;49;00m\u001b[31m:\u001b[39;49;00m\r\n",
      "        \u001b[34mreturn\u001b[39;49;00m \u001b[34mf\u001b[39;49;00m\u001b[33m\"Event(id={self.id},started_at_time={self.started_at_time},ended_at_time={self.ended_at_time},duration={self.duration},is_current={self.is_current},)\"\u001b[39;49;00m\r\n",
      "\r\n",
      "\r\n",
      "\r\n",
      "    \r\n",
      "\r\n",
      "\r\n",
      "\u001b[34mclass\u001b[39;49;00m \u001b[36mRelationship\u001b[39;49;00m\u001b[31m(\u001b[39;49;00m\u001b[36mBase\u001b[39;49;00m\u001b[31m)\u001b[39;49;00m\u001b[31m:\u001b[39;49;00m\r\n",
      "    \u001b[33m\"\"\u001b[39;49;00m\u001b[33m\"\r\n",
      "\u001b[39;49;00m    \r\n",
      "    \u001b[33m\"\"\u001b[39;49;00m\u001b[33m\"\r\n",
      "\u001b[39;49;00m    \u001b[34m__tablename__\u001b[39;49;00m \u001b[31m=\u001b[39;49;00m \u001b[33m'Relationship'\u001b[39;49;00m\r\n",
      "\r\n",
      "    \u001b[34mid\u001b[39;49;00m \u001b[31m=\u001b[39;49;00m \u001b[36mColumn\u001b[39;49;00m\u001b[31m(\u001b[39;49;00m\u001b[36mInteger\u001b[39;49;00m\u001b[31m(\u001b[39;49;00m\u001b[31m)\u001b[39;49;00m\u001b[31m,\u001b[39;49;00m \u001b[34mprimary_key\u001b[39;49;00m\u001b[31m=\u001b[39;49;00m\u001b[34mTrue\u001b[39;49;00m\u001b[31m,\u001b[39;49;00m \u001b[34mautoincrement\u001b[39;49;00m\u001b[31m=\u001b[39;49;00m\u001b[34mTrue\u001b[39;49;00m \u001b[31m,\u001b[39;49;00m \u001b[34mnullable\u001b[39;49;00m\u001b[31m=\u001b[39;49;00m\u001b[34mFalse\u001b[39;49;00m \u001b[31m)\u001b[39;49;00m\r\n",
      "    \u001b[34mstarted_at_time\u001b[39;49;00m \u001b[31m=\u001b[39;49;00m \u001b[36mColumn\u001b[39;49;00m\u001b[31m(\u001b[39;49;00m\u001b[36mDate\u001b[39;49;00m\u001b[31m(\u001b[39;49;00m\u001b[31m)\u001b[39;49;00m\u001b[31m)\u001b[39;49;00m\r\n",
      "    \u001b[34mended_at_time\u001b[39;49;00m \u001b[31m=\u001b[39;49;00m \u001b[36mColumn\u001b[39;49;00m\u001b[31m(\u001b[39;49;00m\u001b[36mDate\u001b[39;49;00m\u001b[31m(\u001b[39;49;00m\u001b[31m)\u001b[39;49;00m\u001b[31m)\u001b[39;49;00m\r\n",
      "    \u001b[34mrelated_to\u001b[39;49;00m \u001b[31m=\u001b[39;49;00m \u001b[36mColumn\u001b[39;49;00m\u001b[31m(\u001b[39;49;00m\u001b[36mText\u001b[39;49;00m\u001b[31m(\u001b[39;49;00m\u001b[31m)\u001b[39;49;00m\u001b[31m)\u001b[39;49;00m\r\n",
      "    \u001b[34mtype\u001b[39;49;00m \u001b[31m=\u001b[39;49;00m \u001b[36mColumn\u001b[39;49;00m\u001b[31m(\u001b[39;49;00m\u001b[36mText\u001b[39;49;00m\u001b[31m(\u001b[39;49;00m\u001b[31m)\u001b[39;49;00m\u001b[31m)\u001b[39;49;00m\r\n",
      "    \r\n",
      "\r\n",
      "    \u001b[34mdef\u001b[39;49;00m \u001b[34m__repr__\u001b[39;49;00m\u001b[31m(\u001b[39;49;00m\u001b[34mself\u001b[39;49;00m\u001b[31m)\u001b[39;49;00m\u001b[31m:\u001b[39;49;00m\r\n",
      "        \u001b[34mreturn\u001b[39;49;00m \u001b[34mf\u001b[39;49;00m\u001b[33m\"Relationship(id={self.id},started_at_time={self.started_at_time},ended_at_time={self.ended_at_time},related_to={self.related_to},type={self.type},)\"\u001b[39;49;00m\r\n",
      "\r\n",
      "\r\n",
      "\r\n",
      "    \r\n",
      "\r\n",
      "\r\n",
      "\u001b[34mclass\u001b[39;49;00m \u001b[36mWithLocation\u001b[39;49;00m\u001b[31m(\u001b[39;49;00m\u001b[36mBase\u001b[39;49;00m\u001b[31m)\u001b[39;49;00m\u001b[31m:\u001b[39;49;00m\r\n",
      "    \u001b[33m\"\"\u001b[39;49;00m\u001b[33m\"\r\n",
      "\u001b[39;49;00m    \r\n",
      "    \u001b[33m\"\"\u001b[39;49;00m\u001b[33m\"\r\n",
      "\u001b[39;49;00m    \u001b[34m__tablename__\u001b[39;49;00m \u001b[31m=\u001b[39;49;00m \u001b[33m'WithLocation'\u001b[39;49;00m\r\n",
      "\r\n",
      "    \u001b[34mid\u001b[39;49;00m \u001b[31m=\u001b[39;49;00m \u001b[36mColumn\u001b[39;49;00m\u001b[31m(\u001b[39;49;00m\u001b[36mInteger\u001b[39;49;00m\u001b[31m(\u001b[39;49;00m\u001b[31m)\u001b[39;49;00m\u001b[31m,\u001b[39;49;00m \u001b[34mprimary_key\u001b[39;49;00m\u001b[31m=\u001b[39;49;00m\u001b[34mTrue\u001b[39;49;00m\u001b[31m,\u001b[39;49;00m \u001b[34mautoincrement\u001b[39;49;00m\u001b[31m=\u001b[39;49;00m\u001b[34mTrue\u001b[39;49;00m \u001b[31m,\u001b[39;49;00m \u001b[34mnullable\u001b[39;49;00m\u001b[31m=\u001b[39;49;00m\u001b[34mFalse\u001b[39;49;00m \u001b[31m)\u001b[39;49;00m\r\n",
      "    \u001b[34min_location\u001b[39;49;00m \u001b[31m=\u001b[39;49;00m \u001b[36mColumn\u001b[39;49;00m\u001b[31m(\u001b[39;49;00m\u001b[36mText\u001b[39;49;00m\u001b[31m(\u001b[39;49;00m\u001b[31m)\u001b[39;49;00m\u001b[31m,\u001b[39;49;00m \u001b[36mForeignKey\u001b[39;49;00m\u001b[31m(\u001b[39;49;00m\u001b[33m'Place.id'\u001b[39;49;00m\u001b[31m)\u001b[39;49;00m\u001b[31m)\u001b[39;49;00m\r\n",
      "    \r\n",
      "\r\n",
      "    \u001b[34mdef\u001b[39;49;00m \u001b[34m__repr__\u001b[39;49;00m\u001b[31m(\u001b[39;49;00m\u001b[34mself\u001b[39;49;00m\u001b[31m)\u001b[39;49;00m\u001b[31m:\u001b[39;49;00m\r\n",
      "        \u001b[34mreturn\u001b[39;49;00m \u001b[34mf\u001b[39;49;00m\u001b[33m\"WithLocation(id={self.id},in_location={self.in_location},)\"\u001b[39;49;00m\r\n",
      "\r\n",
      "\r\n",
      "\r\n",
      "    \r\n",
      "\r\n",
      "\r\n",
      "\u001b[34mclass\u001b[39;49;00m \u001b[36mContainer\u001b[39;49;00m\u001b[31m(\u001b[39;49;00m\u001b[36mBase\u001b[39;49;00m\u001b[31m)\u001b[39;49;00m\u001b[31m:\u001b[39;49;00m\r\n",
      "    \u001b[33m\"\"\u001b[39;49;00m\u001b[33m\"\r\n",
      "\u001b[39;49;00m    \r\n",
      "    \u001b[33m\"\"\u001b[39;49;00m\u001b[33m\"\r\n",
      "\u001b[39;49;00m    \u001b[34m__tablename__\u001b[39;49;00m \u001b[31m=\u001b[39;49;00m \u001b[33m'Container'\u001b[39;49;00m\r\n",
      "\r\n",
      "    \u001b[34mid\u001b[39;49;00m \u001b[31m=\u001b[39;49;00m \u001b[36mColumn\u001b[39;49;00m\u001b[31m(\u001b[39;49;00m\u001b[36mInteger\u001b[39;49;00m\u001b[31m(\u001b[39;49;00m\u001b[31m)\u001b[39;49;00m\u001b[31m,\u001b[39;49;00m \u001b[34mprimary_key\u001b[39;49;00m\u001b[31m=\u001b[39;49;00m\u001b[34mTrue\u001b[39;49;00m\u001b[31m,\u001b[39;49;00m \u001b[34mautoincrement\u001b[39;49;00m\u001b[31m=\u001b[39;49;00m\u001b[34mTrue\u001b[39;49;00m \u001b[31m,\u001b[39;49;00m \u001b[34mnullable\u001b[39;49;00m\u001b[31m=\u001b[39;49;00m\u001b[34mFalse\u001b[39;49;00m \u001b[31m)\u001b[39;49;00m\r\n",
      "    \r\n",
      "    \r\n",
      "    \u001b[31m#\u001b[39;49;00m \u001b[36mOne\u001b[39;49;00m\u001b[31m-\u001b[39;49;00m\u001b[36mTo\u001b[39;49;00m\u001b[31m-\u001b[39;49;00m\u001b[36mMany\u001b[39;49;00m\u001b[31m:\u001b[39;49;00m \u001b[36mOneToAnyMapping\u001b[39;49;00m\u001b[31m(\u001b[39;49;00m\u001b[34msource_class\u001b[39;49;00m\u001b[31m=\u001b[39;49;00m\u001b[33m'Container'\u001b[39;49;00m\u001b[31m,\u001b[39;49;00m \u001b[34msource_slot\u001b[39;49;00m\u001b[31m=\u001b[39;49;00m\u001b[33m'persons'\u001b[39;49;00m\u001b[31m,\u001b[39;49;00m \u001b[34mmapping_type\u001b[39;49;00m\u001b[31m=\u001b[39;49;00m\u001b[34mNone\u001b[39;49;00m\u001b[31m,\u001b[39;49;00m \u001b[34mtarget_class\u001b[39;49;00m\u001b[31m=\u001b[39;49;00m\u001b[33m'Person'\u001b[39;49;00m\u001b[31m,\u001b[39;49;00m \u001b[34mtarget_slot\u001b[39;49;00m\u001b[31m=\u001b[39;49;00m\u001b[33m'Container_id'\u001b[39;49;00m\u001b[31m,\u001b[39;49;00m \u001b[34mjoin_class\u001b[39;49;00m\u001b[31m=\u001b[39;49;00m\u001b[34mNone\u001b[39;49;00m\u001b[31m,\u001b[39;49;00m \u001b[34muses_join_table\u001b[39;49;00m\u001b[31m=\u001b[39;49;00m\u001b[34mNone\u001b[39;49;00m\u001b[31m,\u001b[39;49;00m \u001b[34mmultivalued\u001b[39;49;00m\u001b[31m=\u001b[39;49;00m\u001b[34mFalse\u001b[39;49;00m\u001b[31m)\u001b[39;49;00m\r\n",
      "    \u001b[34mpersons\u001b[39;49;00m \u001b[31m=\u001b[39;49;00m \u001b[34mrelationship\u001b[39;49;00m\u001b[31m(\u001b[39;49;00m \u001b[33m\"Person\"\u001b[39;49;00m\u001b[31m,\u001b[39;49;00m \u001b[34mforeign_keys\u001b[39;49;00m\u001b[31m=\u001b[39;49;00m\u001b[33m\"[Person.Container_id]\"\u001b[39;49;00m\u001b[31m)\u001b[39;49;00m\r\n",
      "    \r\n",
      "    \r\n",
      "    \u001b[31m#\u001b[39;49;00m \u001b[36mOne\u001b[39;49;00m\u001b[31m-\u001b[39;49;00m\u001b[36mTo\u001b[39;49;00m\u001b[31m-\u001b[39;49;00m\u001b[36mMany\u001b[39;49;00m\u001b[31m:\u001b[39;49;00m \u001b[36mOneToAnyMapping\u001b[39;49;00m\u001b[31m(\u001b[39;49;00m\u001b[34msource_class\u001b[39;49;00m\u001b[31m=\u001b[39;49;00m\u001b[33m'Container'\u001b[39;49;00m\u001b[31m,\u001b[39;49;00m \u001b[34msource_slot\u001b[39;49;00m\u001b[31m=\u001b[39;49;00m\u001b[33m'organizations'\u001b[39;49;00m\u001b[31m,\u001b[39;49;00m \u001b[34mmapping_type\u001b[39;49;00m\u001b[31m=\u001b[39;49;00m\u001b[34mNone\u001b[39;49;00m\u001b[31m,\u001b[39;49;00m \u001b[34mtarget_class\u001b[39;49;00m\u001b[31m=\u001b[39;49;00m\u001b[33m'Organization'\u001b[39;49;00m\u001b[31m,\u001b[39;49;00m \u001b[34mtarget_slot\u001b[39;49;00m\u001b[31m=\u001b[39;49;00m\u001b[33m'Container_id'\u001b[39;49;00m\u001b[31m,\u001b[39;49;00m \u001b[34mjoin_class\u001b[39;49;00m\u001b[31m=\u001b[39;49;00m\u001b[34mNone\u001b[39;49;00m\u001b[31m,\u001b[39;49;00m \u001b[34muses_join_table\u001b[39;49;00m\u001b[31m=\u001b[39;49;00m\u001b[34mNone\u001b[39;49;00m\u001b[31m,\u001b[39;49;00m \u001b[34mmultivalued\u001b[39;49;00m\u001b[31m=\u001b[39;49;00m\u001b[34mFalse\u001b[39;49;00m\u001b[31m)\u001b[39;49;00m\r\n",
      "    \u001b[34morganizations\u001b[39;49;00m \u001b[31m=\u001b[39;49;00m \u001b[34mrelationship\u001b[39;49;00m\u001b[31m(\u001b[39;49;00m \u001b[33m\"Organization\"\u001b[39;49;00m\u001b[31m,\u001b[39;49;00m \u001b[34mforeign_keys\u001b[39;49;00m\u001b[31m=\u001b[39;49;00m\u001b[33m\"[Organization.Container_id]\"\u001b[39;49;00m\u001b[31m)\u001b[39;49;00m\r\n",
      "    \r\n",
      "\r\n",
      "    \u001b[34mdef\u001b[39;49;00m \u001b[34m__repr__\u001b[39;49;00m\u001b[31m(\u001b[39;49;00m\u001b[34mself\u001b[39;49;00m\u001b[31m)\u001b[39;49;00m\u001b[31m:\u001b[39;49;00m\r\n",
      "        \u001b[34mreturn\u001b[39;49;00m \u001b[34mf\u001b[39;49;00m\u001b[33m\"Container(id={self.id},)\"\u001b[39;49;00m\r\n",
      "\r\n",
      "\r\n",
      "\r\n",
      "    \r\n",
      "\r\n",
      "\r\n",
      "\u001b[34mclass\u001b[39;49;00m \u001b[36mPersonAliases\u001b[39;49;00m\u001b[31m(\u001b[39;49;00m\u001b[36mBase\u001b[39;49;00m\u001b[31m)\u001b[39;49;00m\u001b[31m:\u001b[39;49;00m\r\n",
      "    \u001b[33m\"\"\u001b[39;49;00m\u001b[33m\"\r\n",
      "\u001b[39;49;00m    \r\n",
      "    \u001b[33m\"\"\u001b[39;49;00m\u001b[33m\"\r\n",
      "\u001b[39;49;00m    \u001b[34m__tablename__\u001b[39;49;00m \u001b[31m=\u001b[39;49;00m \u001b[33m'Person_aliases'\u001b[39;49;00m\r\n",
      "\r\n",
      "    \u001b[36mPerson_id\u001b[39;49;00m \u001b[31m=\u001b[39;49;00m \u001b[36mColumn\u001b[39;49;00m\u001b[31m(\u001b[39;49;00m\u001b[36mText\u001b[39;49;00m\u001b[31m(\u001b[39;49;00m\u001b[31m)\u001b[39;49;00m\u001b[31m,\u001b[39;49;00m \u001b[36mForeignKey\u001b[39;49;00m\u001b[31m(\u001b[39;49;00m\u001b[33m'Person.id'\u001b[39;49;00m\u001b[31m)\u001b[39;49;00m\u001b[31m,\u001b[39;49;00m \u001b[34mprimary_key\u001b[39;49;00m\u001b[31m=\u001b[39;49;00m\u001b[34mTrue\u001b[39;49;00m\u001b[31m)\u001b[39;49;00m\r\n",
      "    \u001b[34maliases\u001b[39;49;00m \u001b[31m=\u001b[39;49;00m \u001b[36mColumn\u001b[39;49;00m\u001b[31m(\u001b[39;49;00m\u001b[36mText\u001b[39;49;00m\u001b[31m(\u001b[39;49;00m\u001b[31m)\u001b[39;49;00m\u001b[31m,\u001b[39;49;00m \u001b[34mprimary_key\u001b[39;49;00m\u001b[31m=\u001b[39;49;00m\u001b[34mTrue\u001b[39;49;00m\u001b[31m)\u001b[39;49;00m\r\n",
      "    \r\n",
      "\r\n",
      "    \u001b[34mdef\u001b[39;49;00m \u001b[34m__repr__\u001b[39;49;00m\u001b[31m(\u001b[39;49;00m\u001b[34mself\u001b[39;49;00m\u001b[31m)\u001b[39;49;00m\u001b[31m:\u001b[39;49;00m\r\n",
      "        \u001b[34mreturn\u001b[39;49;00m \u001b[34mf\u001b[39;49;00m\u001b[33m\"Person_aliases(Person_id={self.Person_id},aliases={self.aliases},)\"\u001b[39;49;00m\r\n",
      "\r\n",
      "\r\n",
      "\r\n",
      "    \r\n",
      "\r\n",
      "\r\n",
      "\u001b[34mclass\u001b[39;49;00m \u001b[36mHasAliasesAliases\u001b[39;49;00m\u001b[31m(\u001b[39;49;00m\u001b[36mBase\u001b[39;49;00m\u001b[31m)\u001b[39;49;00m\u001b[31m:\u001b[39;49;00m\r\n",
      "    \u001b[33m\"\"\u001b[39;49;00m\u001b[33m\"\r\n",
      "\u001b[39;49;00m    \r\n",
      "    \u001b[33m\"\"\u001b[39;49;00m\u001b[33m\"\r\n",
      "\u001b[39;49;00m    \u001b[34m__tablename__\u001b[39;49;00m \u001b[31m=\u001b[39;49;00m \u001b[33m'HasAliases_aliases'\u001b[39;49;00m\r\n",
      "\r\n",
      "    \u001b[36mHasAliases_id\u001b[39;49;00m \u001b[31m=\u001b[39;49;00m \u001b[36mColumn\u001b[39;49;00m\u001b[31m(\u001b[39;49;00m\u001b[36mInteger\u001b[39;49;00m\u001b[31m(\u001b[39;49;00m\u001b[31m)\u001b[39;49;00m\u001b[31m,\u001b[39;49;00m \u001b[36mForeignKey\u001b[39;49;00m\u001b[31m(\u001b[39;49;00m\u001b[33m'HasAliases.id'\u001b[39;49;00m\u001b[31m)\u001b[39;49;00m\u001b[31m,\u001b[39;49;00m \u001b[34mprimary_key\u001b[39;49;00m\u001b[31m=\u001b[39;49;00m\u001b[34mTrue\u001b[39;49;00m\u001b[31m)\u001b[39;49;00m\r\n",
      "    \u001b[34maliases\u001b[39;49;00m \u001b[31m=\u001b[39;49;00m \u001b[36mColumn\u001b[39;49;00m\u001b[31m(\u001b[39;49;00m\u001b[36mText\u001b[39;49;00m\u001b[31m(\u001b[39;49;00m\u001b[31m)\u001b[39;49;00m\u001b[31m,\u001b[39;49;00m \u001b[34mprimary_key\u001b[39;49;00m\u001b[31m=\u001b[39;49;00m\u001b[34mTrue\u001b[39;49;00m\u001b[31m)\u001b[39;49;00m\r\n",
      "    \r\n",
      "\r\n",
      "    \u001b[34mdef\u001b[39;49;00m \u001b[34m__repr__\u001b[39;49;00m\u001b[31m(\u001b[39;49;00m\u001b[34mself\u001b[39;49;00m\u001b[31m)\u001b[39;49;00m\u001b[31m:\u001b[39;49;00m\r\n",
      "        \u001b[34mreturn\u001b[39;49;00m \u001b[34mf\u001b[39;49;00m\u001b[33m\"HasAliases_aliases(HasAliases_id={self.HasAliases_id},aliases={self.aliases},)\"\u001b[39;49;00m\r\n",
      "\r\n",
      "\r\n",
      "\r\n",
      "    \r\n",
      "\r\n",
      "\r\n",
      "\u001b[34mclass\u001b[39;49;00m \u001b[36mOrganizationAliases\u001b[39;49;00m\u001b[31m(\u001b[39;49;00m\u001b[36mBase\u001b[39;49;00m\u001b[31m)\u001b[39;49;00m\u001b[31m:\u001b[39;49;00m\r\n",
      "    \u001b[33m\"\"\u001b[39;49;00m\u001b[33m\"\r\n",
      "\u001b[39;49;00m    \r\n",
      "    \u001b[33m\"\"\u001b[39;49;00m\u001b[33m\"\r\n",
      "\u001b[39;49;00m    \u001b[34m__tablename__\u001b[39;49;00m \u001b[31m=\u001b[39;49;00m \u001b[33m'Organization_aliases'\u001b[39;49;00m\r\n",
      "\r\n",
      "    \u001b[36mOrganization_id\u001b[39;49;00m \u001b[31m=\u001b[39;49;00m \u001b[36mColumn\u001b[39;49;00m\u001b[31m(\u001b[39;49;00m\u001b[36mText\u001b[39;49;00m\u001b[31m(\u001b[39;49;00m\u001b[31m)\u001b[39;49;00m\u001b[31m,\u001b[39;49;00m \u001b[36mForeignKey\u001b[39;49;00m\u001b[31m(\u001b[39;49;00m\u001b[33m'Organization.id'\u001b[39;49;00m\u001b[31m)\u001b[39;49;00m\u001b[31m,\u001b[39;49;00m \u001b[34mprimary_key\u001b[39;49;00m\u001b[31m=\u001b[39;49;00m\u001b[34mTrue\u001b[39;49;00m\u001b[31m)\u001b[39;49;00m\r\n",
      "    \u001b[34maliases\u001b[39;49;00m \u001b[31m=\u001b[39;49;00m \u001b[36mColumn\u001b[39;49;00m\u001b[31m(\u001b[39;49;00m\u001b[36mText\u001b[39;49;00m\u001b[31m(\u001b[39;49;00m\u001b[31m)\u001b[39;49;00m\u001b[31m,\u001b[39;49;00m \u001b[34mprimary_key\u001b[39;49;00m\u001b[31m=\u001b[39;49;00m\u001b[34mTrue\u001b[39;49;00m\u001b[31m)\u001b[39;49;00m\r\n",
      "    \r\n",
      "\r\n",
      "    \u001b[34mdef\u001b[39;49;00m \u001b[34m__repr__\u001b[39;49;00m\u001b[31m(\u001b[39;49;00m\u001b[34mself\u001b[39;49;00m\u001b[31m)\u001b[39;49;00m\u001b[31m:\u001b[39;49;00m\r\n",
      "        \u001b[34mreturn\u001b[39;49;00m \u001b[34mf\u001b[39;49;00m\u001b[33m\"Organization_aliases(Organization_id={self.Organization_id},aliases={self.aliases},)\"\u001b[39;49;00m\r\n",
      "\r\n",
      "\r\n",
      "\r\n",
      "    \r\n",
      "\r\n",
      "\r\n",
      "\u001b[34mclass\u001b[39;49;00m \u001b[36mPlaceAliases\u001b[39;49;00m\u001b[31m(\u001b[39;49;00m\u001b[36mBase\u001b[39;49;00m\u001b[31m)\u001b[39;49;00m\u001b[31m:\u001b[39;49;00m\r\n",
      "    \u001b[33m\"\"\u001b[39;49;00m\u001b[33m\"\r\n",
      "\u001b[39;49;00m    \r\n",
      "    \u001b[33m\"\"\u001b[39;49;00m\u001b[33m\"\r\n",
      "\u001b[39;49;00m    \u001b[34m__tablename__\u001b[39;49;00m \u001b[31m=\u001b[39;49;00m \u001b[33m'Place_aliases'\u001b[39;49;00m\r\n",
      "\r\n",
      "    \u001b[36mPlace_id\u001b[39;49;00m \u001b[31m=\u001b[39;49;00m \u001b[36mColumn\u001b[39;49;00m\u001b[31m(\u001b[39;49;00m\u001b[36mText\u001b[39;49;00m\u001b[31m(\u001b[39;49;00m\u001b[31m)\u001b[39;49;00m\u001b[31m,\u001b[39;49;00m \u001b[36mForeignKey\u001b[39;49;00m\u001b[31m(\u001b[39;49;00m\u001b[33m'Place.id'\u001b[39;49;00m\u001b[31m)\u001b[39;49;00m\u001b[31m,\u001b[39;49;00m \u001b[34mprimary_key\u001b[39;49;00m\u001b[31m=\u001b[39;49;00m\u001b[34mTrue\u001b[39;49;00m\u001b[31m)\u001b[39;49;00m\r\n",
      "    \u001b[34maliases\u001b[39;49;00m \u001b[31m=\u001b[39;49;00m \u001b[36mColumn\u001b[39;49;00m\u001b[31m(\u001b[39;49;00m\u001b[36mText\u001b[39;49;00m\u001b[31m(\u001b[39;49;00m\u001b[31m)\u001b[39;49;00m\u001b[31m,\u001b[39;49;00m \u001b[34mprimary_key\u001b[39;49;00m\u001b[31m=\u001b[39;49;00m\u001b[34mTrue\u001b[39;49;00m\u001b[31m)\u001b[39;49;00m\r\n",
      "    \r\n",
      "\r\n",
      "    \u001b[34mdef\u001b[39;49;00m \u001b[34m__repr__\u001b[39;49;00m\u001b[31m(\u001b[39;49;00m\u001b[34mself\u001b[39;49;00m\u001b[31m)\u001b[39;49;00m\u001b[31m:\u001b[39;49;00m\r\n",
      "        \u001b[34mreturn\u001b[39;49;00m \u001b[34mf\u001b[39;49;00m\u001b[33m\"Place_aliases(Place_id={self.Place_id},aliases={self.aliases},)\"\u001b[39;49;00m\r\n",
      "\r\n",
      "\r\n",
      "\r\n",
      "    \r\n",
      "\r\n",
      "\r\n",
      "\u001b[34mclass\u001b[39;49;00m \u001b[36mPerson\u001b[39;49;00m\u001b[31m(\u001b[39;49;00m\u001b[36mNamedThing\u001b[39;49;00m\u001b[31m)\u001b[39;49;00m\u001b[31m:\u001b[39;49;00m\r\n",
      "    \u001b[33m\"\"\u001b[39;49;00m\u001b[33m\"\r\n",
      "\u001b[39;49;00m    \u001b[36mA\u001b[39;49;00m \u001b[34mperson\u001b[39;49;00m \u001b[31m(\u001b[39;49;00m\u001b[34malive\u001b[39;49;00m\u001b[31m,\u001b[39;49;00m \u001b[34mdead\u001b[39;49;00m\u001b[31m,\u001b[39;49;00m \u001b[34mundead\u001b[39;49;00m\u001b[31m,\u001b[39;49;00m \u001b[34mor\u001b[39;49;00m \u001b[34mfictional\u001b[39;49;00m\u001b[31m)\u001b[39;49;00m\u001b[31m.\u001b[39;49;00m\r\n",
      "    \u001b[33m\"\"\u001b[39;49;00m\u001b[33m\"\r\n",
      "\u001b[39;49;00m    \u001b[34m__tablename__\u001b[39;49;00m \u001b[31m=\u001b[39;49;00m \u001b[33m'Person'\u001b[39;49;00m\r\n",
      "\r\n",
      "    \u001b[34mprimary_email\u001b[39;49;00m \u001b[31m=\u001b[39;49;00m \u001b[36mColumn\u001b[39;49;00m\u001b[31m(\u001b[39;49;00m\u001b[36mText\u001b[39;49;00m\u001b[31m(\u001b[39;49;00m\u001b[31m)\u001b[39;49;00m\u001b[31m)\u001b[39;49;00m\r\n",
      "    \u001b[34mbirth_date\u001b[39;49;00m \u001b[31m=\u001b[39;49;00m \u001b[36mColumn\u001b[39;49;00m\u001b[31m(\u001b[39;49;00m\u001b[36mText\u001b[39;49;00m\u001b[31m(\u001b[39;49;00m\u001b[31m)\u001b[39;49;00m\u001b[31m)\u001b[39;49;00m\r\n",
      "    \u001b[34mage_in_years\u001b[39;49;00m \u001b[31m=\u001b[39;49;00m \u001b[36mColumn\u001b[39;49;00m\u001b[31m(\u001b[39;49;00m\u001b[36mInteger\u001b[39;49;00m\u001b[31m(\u001b[39;49;00m\u001b[31m)\u001b[39;49;00m\u001b[31m)\u001b[39;49;00m\r\n",
      "    \u001b[34mgender\u001b[39;49;00m \u001b[31m=\u001b[39;49;00m \u001b[36mColumn\u001b[39;49;00m\u001b[31m(\u001b[39;49;00m\u001b[36mEnum\u001b[39;49;00m\u001b[31m(\u001b[39;49;00m\u001b[33m'nonbinary man'\u001b[39;49;00m\u001b[31m,\u001b[39;49;00m \u001b[33m'nonbinary woman'\u001b[39;49;00m\u001b[31m,\u001b[39;49;00m \u001b[33m'transgender woman'\u001b[39;49;00m\u001b[31m,\u001b[39;49;00m \u001b[33m'transgender man'\u001b[39;49;00m\u001b[31m,\u001b[39;49;00m \u001b[33m'cisgender man'\u001b[39;49;00m\u001b[31m,\u001b[39;49;00m \u001b[33m'cisgender woman'\u001b[39;49;00m\u001b[31m,\u001b[39;49;00m \u001b[34mname\u001b[39;49;00m\u001b[31m=\u001b[39;49;00m\u001b[33m'GenderType'\u001b[39;49;00m\u001b[31m)\u001b[39;49;00m\u001b[31m)\u001b[39;49;00m\r\n",
      "    \u001b[34mid\u001b[39;49;00m \u001b[31m=\u001b[39;49;00m \u001b[36mColumn\u001b[39;49;00m\u001b[31m(\u001b[39;49;00m\u001b[36mText\u001b[39;49;00m\u001b[31m(\u001b[39;49;00m\u001b[31m)\u001b[39;49;00m\u001b[31m,\u001b[39;49;00m \u001b[34mprimary_key\u001b[39;49;00m\u001b[31m=\u001b[39;49;00m\u001b[34mTrue\u001b[39;49;00m\u001b[31m,\u001b[39;49;00m \u001b[34mnullable\u001b[39;49;00m\u001b[31m=\u001b[39;49;00m\u001b[34mFalse\u001b[39;49;00m \u001b[31m)\u001b[39;49;00m\r\n",
      "    \u001b[34mname\u001b[39;49;00m \u001b[31m=\u001b[39;49;00m \u001b[36mColumn\u001b[39;49;00m\u001b[31m(\u001b[39;49;00m\u001b[36mText\u001b[39;49;00m\u001b[31m(\u001b[39;49;00m\u001b[31m)\u001b[39;49;00m\u001b[31m)\u001b[39;49;00m\r\n",
      "    \u001b[34mdescription\u001b[39;49;00m \u001b[31m=\u001b[39;49;00m \u001b[36mColumn\u001b[39;49;00m\u001b[31m(\u001b[39;49;00m\u001b[36mText\u001b[39;49;00m\u001b[31m(\u001b[39;49;00m\u001b[31m)\u001b[39;49;00m\u001b[31m)\u001b[39;49;00m\r\n",
      "    \u001b[34mimage\u001b[39;49;00m \u001b[31m=\u001b[39;49;00m \u001b[36mColumn\u001b[39;49;00m\u001b[31m(\u001b[39;49;00m\u001b[36mText\u001b[39;49;00m\u001b[31m(\u001b[39;49;00m\u001b[31m)\u001b[39;49;00m\u001b[31m)\u001b[39;49;00m\r\n",
      "    \u001b[36mContainer_id\u001b[39;49;00m \u001b[31m=\u001b[39;49;00m \u001b[36mColumn\u001b[39;49;00m\u001b[31m(\u001b[39;49;00m\u001b[36mInteger\u001b[39;49;00m\u001b[31m(\u001b[39;49;00m\u001b[31m)\u001b[39;49;00m\u001b[31m,\u001b[39;49;00m \u001b[36mForeignKey\u001b[39;49;00m\u001b[31m(\u001b[39;49;00m\u001b[33m'Container.id'\u001b[39;49;00m\u001b[31m)\u001b[39;49;00m\u001b[31m)\u001b[39;49;00m\r\n",
      "    \u001b[34mcurrent_address_id\u001b[39;49;00m \u001b[31m=\u001b[39;49;00m \u001b[36mColumn\u001b[39;49;00m\u001b[31m(\u001b[39;49;00m\u001b[36mInteger\u001b[39;49;00m\u001b[31m(\u001b[39;49;00m\u001b[31m)\u001b[39;49;00m\u001b[31m,\u001b[39;49;00m \u001b[36mForeignKey\u001b[39;49;00m\u001b[31m(\u001b[39;49;00m\u001b[33m'Address.id'\u001b[39;49;00m\u001b[31m)\u001b[39;49;00m\u001b[31m)\u001b[39;49;00m\r\n",
      "    \u001b[34mcurrent_address\u001b[39;49;00m \u001b[31m=\u001b[39;49;00m \u001b[34mrelationship\u001b[39;49;00m\u001b[31m(\u001b[39;49;00m\u001b[33m\"Address\"\u001b[39;49;00m\u001b[31m,\u001b[39;49;00m \u001b[34muselist\u001b[39;49;00m\u001b[31m=\u001b[39;49;00m\u001b[34mFalse\u001b[39;49;00m\u001b[31m,\u001b[39;49;00m \u001b[34mforeign_keys\u001b[39;49;00m\u001b[31m=\u001b[39;49;00m\u001b[31m[\u001b[39;49;00m\u001b[34mcurrent_address_id\u001b[39;49;00m\u001b[31m]\u001b[39;49;00m\u001b[31m)\u001b[39;49;00m\r\n",
      "    \r\n",
      "    \r\n",
      "    \u001b[31m#\u001b[39;49;00m \u001b[36mOne\u001b[39;49;00m\u001b[31m-\u001b[39;49;00m\u001b[36mTo\u001b[39;49;00m\u001b[31m-\u001b[39;49;00m\u001b[36mMany\u001b[39;49;00m\u001b[31m:\u001b[39;49;00m \u001b[36mOneToAnyMapping\u001b[39;49;00m\u001b[31m(\u001b[39;49;00m\u001b[34msource_class\u001b[39;49;00m\u001b[31m=\u001b[39;49;00m\u001b[33m'Person'\u001b[39;49;00m\u001b[31m,\u001b[39;49;00m \u001b[34msource_slot\u001b[39;49;00m\u001b[31m=\u001b[39;49;00m\u001b[33m'has_employment_history'\u001b[39;49;00m\u001b[31m,\u001b[39;49;00m \u001b[34mmapping_type\u001b[39;49;00m\u001b[31m=\u001b[39;49;00m\u001b[34mNone\u001b[39;49;00m\u001b[31m,\u001b[39;49;00m \u001b[34mtarget_class\u001b[39;49;00m\u001b[31m=\u001b[39;49;00m\u001b[33m'EmploymentEvent'\u001b[39;49;00m\u001b[31m,\u001b[39;49;00m \u001b[34mtarget_slot\u001b[39;49;00m\u001b[31m=\u001b[39;49;00m\u001b[33m'Person_id'\u001b[39;49;00m\u001b[31m,\u001b[39;49;00m \u001b[34mjoin_class\u001b[39;49;00m\u001b[31m=\u001b[39;49;00m\u001b[34mNone\u001b[39;49;00m\u001b[31m,\u001b[39;49;00m \u001b[34muses_join_table\u001b[39;49;00m\u001b[31m=\u001b[39;49;00m\u001b[34mNone\u001b[39;49;00m\u001b[31m,\u001b[39;49;00m \u001b[34mmultivalued\u001b[39;49;00m\u001b[31m=\u001b[39;49;00m\u001b[34mFalse\u001b[39;49;00m\u001b[31m)\u001b[39;49;00m\r\n",
      "    \u001b[34mhas_employment_history\u001b[39;49;00m \u001b[31m=\u001b[39;49;00m \u001b[34mrelationship\u001b[39;49;00m\u001b[31m(\u001b[39;49;00m \u001b[33m\"EmploymentEvent\"\u001b[39;49;00m\u001b[31m,\u001b[39;49;00m \u001b[34mforeign_keys\u001b[39;49;00m\u001b[31m=\u001b[39;49;00m\u001b[33m\"[EmploymentEvent.Person_id]\"\u001b[39;49;00m\u001b[31m)\u001b[39;49;00m\r\n",
      "    \r\n",
      "    \r\n",
      "    \u001b[31m#\u001b[39;49;00m \u001b[36mOne\u001b[39;49;00m\u001b[31m-\u001b[39;49;00m\u001b[36mTo\u001b[39;49;00m\u001b[31m-\u001b[39;49;00m\u001b[36mMany\u001b[39;49;00m\u001b[31m:\u001b[39;49;00m \u001b[36mOneToAnyMapping\u001b[39;49;00m\u001b[31m(\u001b[39;49;00m\u001b[34msource_class\u001b[39;49;00m\u001b[31m=\u001b[39;49;00m\u001b[33m'Person'\u001b[39;49;00m\u001b[31m,\u001b[39;49;00m \u001b[34msource_slot\u001b[39;49;00m\u001b[31m=\u001b[39;49;00m\u001b[33m'has_familial_relationships'\u001b[39;49;00m\u001b[31m,\u001b[39;49;00m \u001b[34mmapping_type\u001b[39;49;00m\u001b[31m=\u001b[39;49;00m\u001b[34mNone\u001b[39;49;00m\u001b[31m,\u001b[39;49;00m \u001b[34mtarget_class\u001b[39;49;00m\u001b[31m=\u001b[39;49;00m\u001b[33m'FamilialRelationship'\u001b[39;49;00m\u001b[31m,\u001b[39;49;00m \u001b[34mtarget_slot\u001b[39;49;00m\u001b[31m=\u001b[39;49;00m\u001b[33m'Person_id'\u001b[39;49;00m\u001b[31m,\u001b[39;49;00m \u001b[34mjoin_class\u001b[39;49;00m\u001b[31m=\u001b[39;49;00m\u001b[34mNone\u001b[39;49;00m\u001b[31m,\u001b[39;49;00m \u001b[34muses_join_table\u001b[39;49;00m\u001b[31m=\u001b[39;49;00m\u001b[34mNone\u001b[39;49;00m\u001b[31m,\u001b[39;49;00m \u001b[34mmultivalued\u001b[39;49;00m\u001b[31m=\u001b[39;49;00m\u001b[34mFalse\u001b[39;49;00m\u001b[31m)\u001b[39;49;00m\r\n",
      "    \u001b[34mhas_familial_relationships\u001b[39;49;00m \u001b[31m=\u001b[39;49;00m \u001b[34mrelationship\u001b[39;49;00m\u001b[31m(\u001b[39;49;00m \u001b[33m\"FamilialRelationship\"\u001b[39;49;00m\u001b[31m,\u001b[39;49;00m \u001b[34mforeign_keys\u001b[39;49;00m\u001b[31m=\u001b[39;49;00m\u001b[33m\"[FamilialRelationship.Person_id]\"\u001b[39;49;00m\u001b[31m)\u001b[39;49;00m\r\n",
      "    \r\n",
      "    \r\n",
      "    \u001b[31m#\u001b[39;49;00m \u001b[36mOne\u001b[39;49;00m\u001b[31m-\u001b[39;49;00m\u001b[36mTo\u001b[39;49;00m\u001b[31m-\u001b[39;49;00m\u001b[36mMany\u001b[39;49;00m\u001b[31m:\u001b[39;49;00m \u001b[36mOneToAnyMapping\u001b[39;49;00m\u001b[31m(\u001b[39;49;00m\u001b[34msource_class\u001b[39;49;00m\u001b[31m=\u001b[39;49;00m\u001b[33m'Person'\u001b[39;49;00m\u001b[31m,\u001b[39;49;00m \u001b[34msource_slot\u001b[39;49;00m\u001b[31m=\u001b[39;49;00m\u001b[33m'has_medical_history'\u001b[39;49;00m\u001b[31m,\u001b[39;49;00m \u001b[34mmapping_type\u001b[39;49;00m\u001b[31m=\u001b[39;49;00m\u001b[34mNone\u001b[39;49;00m\u001b[31m,\u001b[39;49;00m \u001b[34mtarget_class\u001b[39;49;00m\u001b[31m=\u001b[39;49;00m\u001b[33m'MedicalEvent'\u001b[39;49;00m\u001b[31m,\u001b[39;49;00m \u001b[34mtarget_slot\u001b[39;49;00m\u001b[31m=\u001b[39;49;00m\u001b[33m'Person_id'\u001b[39;49;00m\u001b[31m,\u001b[39;49;00m \u001b[34mjoin_class\u001b[39;49;00m\u001b[31m=\u001b[39;49;00m\u001b[34mNone\u001b[39;49;00m\u001b[31m,\u001b[39;49;00m \u001b[34muses_join_table\u001b[39;49;00m\u001b[31m=\u001b[39;49;00m\u001b[34mNone\u001b[39;49;00m\u001b[31m,\u001b[39;49;00m \u001b[34mmultivalued\u001b[39;49;00m\u001b[31m=\u001b[39;49;00m\u001b[34mFalse\u001b[39;49;00m\u001b[31m)\u001b[39;49;00m\r\n",
      "    \u001b[34mhas_medical_history\u001b[39;49;00m \u001b[31m=\u001b[39;49;00m \u001b[34mrelationship\u001b[39;49;00m\u001b[31m(\u001b[39;49;00m \u001b[33m\"MedicalEvent\"\u001b[39;49;00m\u001b[31m,\u001b[39;49;00m \u001b[34mforeign_keys\u001b[39;49;00m\u001b[31m=\u001b[39;49;00m\u001b[33m\"[MedicalEvent.Person_id]\"\u001b[39;49;00m\u001b[31m)\u001b[39;49;00m\r\n",
      "    \r\n",
      "    \r\n",
      "    \u001b[34maliases_rel\u001b[39;49;00m \u001b[31m=\u001b[39;49;00m \u001b[34mrelationship\u001b[39;49;00m\u001b[31m(\u001b[39;49;00m \u001b[33m\"PersonAliases\"\u001b[39;49;00m \u001b[31m)\u001b[39;49;00m\r\n",
      "    \u001b[34maliases\u001b[39;49;00m \u001b[31m=\u001b[39;49;00m \u001b[34massociation_proxy\u001b[39;49;00m\u001b[31m(\u001b[39;49;00m\u001b[33m\"aliases_rel\"\u001b[39;49;00m\u001b[31m,\u001b[39;49;00m \u001b[33m\"aliases\"\u001b[39;49;00m\u001b[31m,\u001b[39;49;00m\r\n",
      "                                  \u001b[34mcreator\u001b[39;49;00m\u001b[31m=\u001b[39;49;00m\u001b[34mlambda\u001b[39;49;00m \u001b[34mx_\u001b[39;49;00m\u001b[31m:\u001b[39;49;00m \u001b[36mPersonAliases\u001b[39;49;00m\u001b[31m(\u001b[39;49;00m\u001b[34maliases\u001b[39;49;00m\u001b[31m=\u001b[39;49;00m\u001b[34mx_\u001b[39;49;00m\u001b[31m)\u001b[39;49;00m\u001b[31m)\u001b[39;49;00m\r\n",
      "    \r\n",
      "\r\n",
      "    \u001b[34mdef\u001b[39;49;00m \u001b[34m__repr__\u001b[39;49;00m\u001b[31m(\u001b[39;49;00m\u001b[34mself\u001b[39;49;00m\u001b[31m)\u001b[39;49;00m\u001b[31m:\u001b[39;49;00m\r\n",
      "        \u001b[34mreturn\u001b[39;49;00m \u001b[34mf\u001b[39;49;00m\u001b[33m\"Person(primary_email={self.primary_email},birth_date={self.birth_date},age_in_years={self.age_in_years},gender={self.gender},id={self.id},name={self.name},description={self.description},image={self.image},Container_id={self.Container_id},current_address_id={self.current_address_id},)\"\u001b[39;49;00m\r\n",
      "\r\n",
      "\r\n",
      "\r\n",
      "    \r\n",
      "    \u001b[31m#\u001b[39;49;00m \u001b[36mUsing\u001b[39;49;00m \u001b[34mconcrete\u001b[39;49;00m \u001b[34minheritance\u001b[39;49;00m\u001b[31m:\u001b[39;49;00m \u001b[34msee\u001b[39;49;00m \u001b[34mhttps\u001b[39;49;00m\u001b[31m:\u001b[39;49;00m//docs.sqlalchemy.org/en/14/orm/inheritance.html\u001b[39;49;00m\r\n",
      "    \u001b[34m__mapper_args__\u001b[39;49;00m \u001b[31m=\u001b[39;49;00m \u001b[31m{\u001b[39;49;00m\r\n",
      "        \u001b[33m'concrete'\u001b[39;49;00m\u001b[31m:\u001b[39;49;00m \u001b[34mTrue\u001b[39;49;00m\r\n",
      "    \u001b[31m}\u001b[39;49;00m\r\n",
      "    \r\n",
      "\r\n",
      "\r\n",
      "\u001b[34mclass\u001b[39;49;00m \u001b[36mOrganization\u001b[39;49;00m\u001b[31m(\u001b[39;49;00m\u001b[36mNamedThing\u001b[39;49;00m\u001b[31m)\u001b[39;49;00m\u001b[31m:\u001b[39;49;00m\r\n",
      "    \u001b[33m\"\"\u001b[39;49;00m\u001b[33m\"\r\n",
      "\u001b[39;49;00m    \u001b[36mAn\u001b[39;49;00m \u001b[34morganization\u001b[39;49;00m \u001b[34msuch\u001b[39;49;00m \u001b[34mas\u001b[39;49;00m \u001b[34ma\u001b[39;49;00m \u001b[34mcompany\u001b[39;49;00m \u001b[34mor\u001b[39;49;00m \u001b[34muniversity\u001b[39;49;00m\r\n",
      "    \u001b[33m\"\"\u001b[39;49;00m\u001b[33m\"\r\n",
      "\u001b[39;49;00m    \u001b[34m__tablename__\u001b[39;49;00m \u001b[31m=\u001b[39;49;00m \u001b[33m'Organization'\u001b[39;49;00m\r\n",
      "\r\n",
      "    \u001b[34mmission_statement\u001b[39;49;00m \u001b[31m=\u001b[39;49;00m \u001b[36mColumn\u001b[39;49;00m\u001b[31m(\u001b[39;49;00m\u001b[36mText\u001b[39;49;00m\u001b[31m(\u001b[39;49;00m\u001b[31m)\u001b[39;49;00m\u001b[31m)\u001b[39;49;00m\r\n",
      "    \u001b[34mfounding_date\u001b[39;49;00m \u001b[31m=\u001b[39;49;00m \u001b[36mColumn\u001b[39;49;00m\u001b[31m(\u001b[39;49;00m\u001b[36mText\u001b[39;49;00m\u001b[31m(\u001b[39;49;00m\u001b[31m)\u001b[39;49;00m\u001b[31m)\u001b[39;49;00m\r\n",
      "    \u001b[34mfounding_location\u001b[39;49;00m \u001b[31m=\u001b[39;49;00m \u001b[36mColumn\u001b[39;49;00m\u001b[31m(\u001b[39;49;00m\u001b[36mText\u001b[39;49;00m\u001b[31m(\u001b[39;49;00m\u001b[31m)\u001b[39;49;00m\u001b[31m,\u001b[39;49;00m \u001b[36mForeignKey\u001b[39;49;00m\u001b[31m(\u001b[39;49;00m\u001b[33m'Place.id'\u001b[39;49;00m\u001b[31m)\u001b[39;49;00m\u001b[31m)\u001b[39;49;00m\r\n",
      "    \u001b[34mid\u001b[39;49;00m \u001b[31m=\u001b[39;49;00m \u001b[36mColumn\u001b[39;49;00m\u001b[31m(\u001b[39;49;00m\u001b[36mText\u001b[39;49;00m\u001b[31m(\u001b[39;49;00m\u001b[31m)\u001b[39;49;00m\u001b[31m,\u001b[39;49;00m \u001b[34mprimary_key\u001b[39;49;00m\u001b[31m=\u001b[39;49;00m\u001b[34mTrue\u001b[39;49;00m\u001b[31m,\u001b[39;49;00m \u001b[34mnullable\u001b[39;49;00m\u001b[31m=\u001b[39;49;00m\u001b[34mFalse\u001b[39;49;00m \u001b[31m)\u001b[39;49;00m\r\n",
      "    \u001b[34mname\u001b[39;49;00m \u001b[31m=\u001b[39;49;00m \u001b[36mColumn\u001b[39;49;00m\u001b[31m(\u001b[39;49;00m\u001b[36mText\u001b[39;49;00m\u001b[31m(\u001b[39;49;00m\u001b[31m)\u001b[39;49;00m\u001b[31m)\u001b[39;49;00m\r\n",
      "    \u001b[34mdescription\u001b[39;49;00m \u001b[31m=\u001b[39;49;00m \u001b[36mColumn\u001b[39;49;00m\u001b[31m(\u001b[39;49;00m\u001b[36mText\u001b[39;49;00m\u001b[31m(\u001b[39;49;00m\u001b[31m)\u001b[39;49;00m\u001b[31m)\u001b[39;49;00m\r\n",
      "    \u001b[34mimage\u001b[39;49;00m \u001b[31m=\u001b[39;49;00m \u001b[36mColumn\u001b[39;49;00m\u001b[31m(\u001b[39;49;00m\u001b[36mText\u001b[39;49;00m\u001b[31m(\u001b[39;49;00m\u001b[31m)\u001b[39;49;00m\u001b[31m)\u001b[39;49;00m\r\n",
      "    \u001b[36mContainer_id\u001b[39;49;00m \u001b[31m=\u001b[39;49;00m \u001b[36mColumn\u001b[39;49;00m\u001b[31m(\u001b[39;49;00m\u001b[36mInteger\u001b[39;49;00m\u001b[31m(\u001b[39;49;00m\u001b[31m)\u001b[39;49;00m\u001b[31m,\u001b[39;49;00m \u001b[36mForeignKey\u001b[39;49;00m\u001b[31m(\u001b[39;49;00m\u001b[33m'Container.id'\u001b[39;49;00m\u001b[31m)\u001b[39;49;00m\u001b[31m)\u001b[39;49;00m\r\n",
      "    \r\n",
      "    \r\n",
      "    \u001b[34maliases_rel\u001b[39;49;00m \u001b[31m=\u001b[39;49;00m \u001b[34mrelationship\u001b[39;49;00m\u001b[31m(\u001b[39;49;00m \u001b[33m\"OrganizationAliases\"\u001b[39;49;00m \u001b[31m)\u001b[39;49;00m\r\n",
      "    \u001b[34maliases\u001b[39;49;00m \u001b[31m=\u001b[39;49;00m \u001b[34massociation_proxy\u001b[39;49;00m\u001b[31m(\u001b[39;49;00m\u001b[33m\"aliases_rel\"\u001b[39;49;00m\u001b[31m,\u001b[39;49;00m \u001b[33m\"aliases\"\u001b[39;49;00m\u001b[31m,\u001b[39;49;00m\r\n",
      "                                  \u001b[34mcreator\u001b[39;49;00m\u001b[31m=\u001b[39;49;00m\u001b[34mlambda\u001b[39;49;00m \u001b[34mx_\u001b[39;49;00m\u001b[31m:\u001b[39;49;00m \u001b[36mOrganizationAliases\u001b[39;49;00m\u001b[31m(\u001b[39;49;00m\u001b[34maliases\u001b[39;49;00m\u001b[31m=\u001b[39;49;00m\u001b[34mx_\u001b[39;49;00m\u001b[31m)\u001b[39;49;00m\u001b[31m)\u001b[39;49;00m\r\n",
      "    \r\n",
      "\r\n",
      "    \u001b[34mdef\u001b[39;49;00m \u001b[34m__repr__\u001b[39;49;00m\u001b[31m(\u001b[39;49;00m\u001b[34mself\u001b[39;49;00m\u001b[31m)\u001b[39;49;00m\u001b[31m:\u001b[39;49;00m\r\n",
      "        \u001b[34mreturn\u001b[39;49;00m \u001b[34mf\u001b[39;49;00m\u001b[33m\"Organization(mission_statement={self.mission_statement},founding_date={self.founding_date},founding_location={self.founding_location},id={self.id},name={self.name},description={self.description},image={self.image},Container_id={self.Container_id},)\"\u001b[39;49;00m\r\n",
      "\r\n",
      "\r\n",
      "\r\n",
      "    \r\n",
      "    \u001b[31m#\u001b[39;49;00m \u001b[36mUsing\u001b[39;49;00m \u001b[34mconcrete\u001b[39;49;00m \u001b[34minheritance\u001b[39;49;00m\u001b[31m:\u001b[39;49;00m \u001b[34msee\u001b[39;49;00m \u001b[34mhttps\u001b[39;49;00m\u001b[31m:\u001b[39;49;00m//docs.sqlalchemy.org/en/14/orm/inheritance.html\u001b[39;49;00m\r\n",
      "    \u001b[34m__mapper_args__\u001b[39;49;00m \u001b[31m=\u001b[39;49;00m \u001b[31m{\u001b[39;49;00m\r\n",
      "        \u001b[33m'concrete'\u001b[39;49;00m\u001b[31m:\u001b[39;49;00m \u001b[34mTrue\u001b[39;49;00m\r\n",
      "    \u001b[31m}\u001b[39;49;00m\r\n",
      "    \r\n",
      "\r\n",
      "\r\n",
      "\u001b[34mclass\u001b[39;49;00m \u001b[36mConcept\u001b[39;49;00m\u001b[31m(\u001b[39;49;00m\u001b[36mNamedThing\u001b[39;49;00m\u001b[31m)\u001b[39;49;00m\u001b[31m:\u001b[39;49;00m\r\n",
      "    \u001b[33m\"\"\u001b[39;49;00m\u001b[33m\"\r\n",
      "\u001b[39;49;00m    \r\n",
      "    \u001b[33m\"\"\u001b[39;49;00m\u001b[33m\"\r\n",
      "\u001b[39;49;00m    \u001b[34m__tablename__\u001b[39;49;00m \u001b[31m=\u001b[39;49;00m \u001b[33m'Concept'\u001b[39;49;00m\r\n",
      "\r\n",
      "    \u001b[34mid\u001b[39;49;00m \u001b[31m=\u001b[39;49;00m \u001b[36mColumn\u001b[39;49;00m\u001b[31m(\u001b[39;49;00m\u001b[36mText\u001b[39;49;00m\u001b[31m(\u001b[39;49;00m\u001b[31m)\u001b[39;49;00m\u001b[31m,\u001b[39;49;00m \u001b[34mprimary_key\u001b[39;49;00m\u001b[31m=\u001b[39;49;00m\u001b[34mTrue\u001b[39;49;00m\u001b[31m,\u001b[39;49;00m \u001b[34mnullable\u001b[39;49;00m\u001b[31m=\u001b[39;49;00m\u001b[34mFalse\u001b[39;49;00m \u001b[31m)\u001b[39;49;00m\r\n",
      "    \u001b[34mname\u001b[39;49;00m \u001b[31m=\u001b[39;49;00m \u001b[36mColumn\u001b[39;49;00m\u001b[31m(\u001b[39;49;00m\u001b[36mText\u001b[39;49;00m\u001b[31m(\u001b[39;49;00m\u001b[31m)\u001b[39;49;00m\u001b[31m)\u001b[39;49;00m\r\n",
      "    \u001b[34mdescription\u001b[39;49;00m \u001b[31m=\u001b[39;49;00m \u001b[36mColumn\u001b[39;49;00m\u001b[31m(\u001b[39;49;00m\u001b[36mText\u001b[39;49;00m\u001b[31m(\u001b[39;49;00m\u001b[31m)\u001b[39;49;00m\u001b[31m)\u001b[39;49;00m\r\n",
      "    \u001b[34mimage\u001b[39;49;00m \u001b[31m=\u001b[39;49;00m \u001b[36mColumn\u001b[39;49;00m\u001b[31m(\u001b[39;49;00m\u001b[36mText\u001b[39;49;00m\u001b[31m(\u001b[39;49;00m\u001b[31m)\u001b[39;49;00m\u001b[31m)\u001b[39;49;00m\r\n",
      "    \r\n",
      "\r\n",
      "    \u001b[34mdef\u001b[39;49;00m \u001b[34m__repr__\u001b[39;49;00m\u001b[31m(\u001b[39;49;00m\u001b[34mself\u001b[39;49;00m\u001b[31m)\u001b[39;49;00m\u001b[31m:\u001b[39;49;00m\r\n",
      "        \u001b[34mreturn\u001b[39;49;00m \u001b[34mf\u001b[39;49;00m\u001b[33m\"Concept(id={self.id},name={self.name},description={self.description},image={self.image},)\"\u001b[39;49;00m\r\n",
      "\r\n",
      "\r\n",
      "\r\n",
      "    \r\n",
      "    \u001b[31m#\u001b[39;49;00m \u001b[36mUsing\u001b[39;49;00m \u001b[34mconcrete\u001b[39;49;00m \u001b[34minheritance\u001b[39;49;00m\u001b[31m:\u001b[39;49;00m \u001b[34msee\u001b[39;49;00m \u001b[34mhttps\u001b[39;49;00m\u001b[31m:\u001b[39;49;00m//docs.sqlalchemy.org/en/14/orm/inheritance.html\u001b[39;49;00m\r\n",
      "    \u001b[34m__mapper_args__\u001b[39;49;00m \u001b[31m=\u001b[39;49;00m \u001b[31m{\u001b[39;49;00m\r\n",
      "        \u001b[33m'concrete'\u001b[39;49;00m\u001b[31m:\u001b[39;49;00m \u001b[34mTrue\u001b[39;49;00m\r\n",
      "    \u001b[31m}\u001b[39;49;00m\r\n",
      "    \r\n",
      "\r\n",
      "\r\n",
      "\u001b[34mclass\u001b[39;49;00m \u001b[36mFamilialRelationship\u001b[39;49;00m\u001b[31m(\u001b[39;49;00m\u001b[36mRelationship\u001b[39;49;00m\u001b[31m)\u001b[39;49;00m\u001b[31m:\u001b[39;49;00m\r\n",
      "    \u001b[33m\"\"\u001b[39;49;00m\u001b[33m\"\r\n",
      "\u001b[39;49;00m    \r\n",
      "    \u001b[33m\"\"\u001b[39;49;00m\u001b[33m\"\r\n",
      "\u001b[39;49;00m    \u001b[34m__tablename__\u001b[39;49;00m \u001b[31m=\u001b[39;49;00m \u001b[33m'FamilialRelationship'\u001b[39;49;00m\r\n",
      "\r\n",
      "    \u001b[34mid\u001b[39;49;00m \u001b[31m=\u001b[39;49;00m \u001b[36mColumn\u001b[39;49;00m\u001b[31m(\u001b[39;49;00m\u001b[36mInteger\u001b[39;49;00m\u001b[31m(\u001b[39;49;00m\u001b[31m)\u001b[39;49;00m\u001b[31m,\u001b[39;49;00m \u001b[34mprimary_key\u001b[39;49;00m\u001b[31m=\u001b[39;49;00m\u001b[34mTrue\u001b[39;49;00m\u001b[31m,\u001b[39;49;00m \u001b[34mautoincrement\u001b[39;49;00m\u001b[31m=\u001b[39;49;00m\u001b[34mTrue\u001b[39;49;00m \u001b[31m,\u001b[39;49;00m \u001b[34mnullable\u001b[39;49;00m\u001b[31m=\u001b[39;49;00m\u001b[34mFalse\u001b[39;49;00m \u001b[31m)\u001b[39;49;00m\r\n",
      "    \u001b[34mstarted_at_time\u001b[39;49;00m \u001b[31m=\u001b[39;49;00m \u001b[36mColumn\u001b[39;49;00m\u001b[31m(\u001b[39;49;00m\u001b[36mDate\u001b[39;49;00m\u001b[31m(\u001b[39;49;00m\u001b[31m)\u001b[39;49;00m\u001b[31m)\u001b[39;49;00m\r\n",
      "    \u001b[34mended_at_time\u001b[39;49;00m \u001b[31m=\u001b[39;49;00m \u001b[36mColumn\u001b[39;49;00m\u001b[31m(\u001b[39;49;00m\u001b[36mDate\u001b[39;49;00m\u001b[31m(\u001b[39;49;00m\u001b[31m)\u001b[39;49;00m\u001b[31m)\u001b[39;49;00m\r\n",
      "    \u001b[34mrelated_to\u001b[39;49;00m \u001b[31m=\u001b[39;49;00m \u001b[36mColumn\u001b[39;49;00m\u001b[31m(\u001b[39;49;00m\u001b[36mText\u001b[39;49;00m\u001b[31m(\u001b[39;49;00m\u001b[31m)\u001b[39;49;00m\u001b[31m,\u001b[39;49;00m \u001b[36mForeignKey\u001b[39;49;00m\u001b[31m(\u001b[39;49;00m\u001b[33m'Person.id'\u001b[39;49;00m\u001b[31m)\u001b[39;49;00m\u001b[31m,\u001b[39;49;00m \u001b[34mnullable\u001b[39;49;00m\u001b[31m=\u001b[39;49;00m\u001b[34mFalse\u001b[39;49;00m \u001b[31m)\u001b[39;49;00m\r\n",
      "    \u001b[34mtype\u001b[39;49;00m \u001b[31m=\u001b[39;49;00m \u001b[36mColumn\u001b[39;49;00m\u001b[31m(\u001b[39;49;00m\u001b[36mEnum\u001b[39;49;00m\u001b[31m(\u001b[39;49;00m\u001b[33m'SIBLING_OF'\u001b[39;49;00m\u001b[31m,\u001b[39;49;00m \u001b[33m'PARENT_OF'\u001b[39;49;00m\u001b[31m,\u001b[39;49;00m \u001b[33m'CHILD_OF'\u001b[39;49;00m\u001b[31m,\u001b[39;49;00m \u001b[34mname\u001b[39;49;00m\u001b[31m=\u001b[39;49;00m\u001b[33m'FamilialRelationshipType'\u001b[39;49;00m\u001b[31m)\u001b[39;49;00m\u001b[31m,\u001b[39;49;00m \u001b[34mnullable\u001b[39;49;00m\u001b[31m=\u001b[39;49;00m\u001b[34mFalse\u001b[39;49;00m \u001b[31m)\u001b[39;49;00m\r\n",
      "    \u001b[36mPerson_id\u001b[39;49;00m \u001b[31m=\u001b[39;49;00m \u001b[36mColumn\u001b[39;49;00m\u001b[31m(\u001b[39;49;00m\u001b[36mText\u001b[39;49;00m\u001b[31m(\u001b[39;49;00m\u001b[31m)\u001b[39;49;00m\u001b[31m,\u001b[39;49;00m \u001b[36mForeignKey\u001b[39;49;00m\u001b[31m(\u001b[39;49;00m\u001b[33m'Person.id'\u001b[39;49;00m\u001b[31m)\u001b[39;49;00m\u001b[31m)\u001b[39;49;00m\r\n",
      "    \r\n",
      "\r\n",
      "    \u001b[34mdef\u001b[39;49;00m \u001b[34m__repr__\u001b[39;49;00m\u001b[31m(\u001b[39;49;00m\u001b[34mself\u001b[39;49;00m\u001b[31m)\u001b[39;49;00m\u001b[31m:\u001b[39;49;00m\r\n",
      "        \u001b[34mreturn\u001b[39;49;00m \u001b[34mf\u001b[39;49;00m\u001b[33m\"FamilialRelationship(id={self.id},started_at_time={self.started_at_time},ended_at_time={self.ended_at_time},related_to={self.related_to},type={self.type},Person_id={self.Person_id},)\"\u001b[39;49;00m\r\n",
      "\r\n",
      "\r\n",
      "\r\n",
      "    \r\n",
      "    \u001b[31m#\u001b[39;49;00m \u001b[36mUsing\u001b[39;49;00m \u001b[34mconcrete\u001b[39;49;00m \u001b[34minheritance\u001b[39;49;00m\u001b[31m:\u001b[39;49;00m \u001b[34msee\u001b[39;49;00m \u001b[34mhttps\u001b[39;49;00m\u001b[31m:\u001b[39;49;00m//docs.sqlalchemy.org/en/14/orm/inheritance.html\u001b[39;49;00m\r\n",
      "    \u001b[34m__mapper_args__\u001b[39;49;00m \u001b[31m=\u001b[39;49;00m \u001b[31m{\u001b[39;49;00m\r\n",
      "        \u001b[33m'concrete'\u001b[39;49;00m\u001b[31m:\u001b[39;49;00m \u001b[34mTrue\u001b[39;49;00m\r\n",
      "    \u001b[31m}\u001b[39;49;00m\r\n",
      "    \r\n",
      "\r\n",
      "\r\n",
      "\u001b[34mclass\u001b[39;49;00m \u001b[36mEmploymentEvent\u001b[39;49;00m\u001b[31m(\u001b[39;49;00m\u001b[36mEvent\u001b[39;49;00m\u001b[31m)\u001b[39;49;00m\u001b[31m:\u001b[39;49;00m\r\n",
      "    \u001b[33m\"\"\u001b[39;49;00m\u001b[33m\"\r\n",
      "\u001b[39;49;00m    \r\n",
      "    \u001b[33m\"\"\u001b[39;49;00m\u001b[33m\"\r\n",
      "\u001b[39;49;00m    \u001b[34m__tablename__\u001b[39;49;00m \u001b[31m=\u001b[39;49;00m \u001b[33m'EmploymentEvent'\u001b[39;49;00m\r\n",
      "\r\n",
      "    \u001b[34mid\u001b[39;49;00m \u001b[31m=\u001b[39;49;00m \u001b[36mColumn\u001b[39;49;00m\u001b[31m(\u001b[39;49;00m\u001b[36mInteger\u001b[39;49;00m\u001b[31m(\u001b[39;49;00m\u001b[31m)\u001b[39;49;00m\u001b[31m,\u001b[39;49;00m \u001b[34mprimary_key\u001b[39;49;00m\u001b[31m=\u001b[39;49;00m\u001b[34mTrue\u001b[39;49;00m\u001b[31m,\u001b[39;49;00m \u001b[34mautoincrement\u001b[39;49;00m\u001b[31m=\u001b[39;49;00m\u001b[34mTrue\u001b[39;49;00m \u001b[31m,\u001b[39;49;00m \u001b[34mnullable\u001b[39;49;00m\u001b[31m=\u001b[39;49;00m\u001b[34mFalse\u001b[39;49;00m \u001b[31m)\u001b[39;49;00m\r\n",
      "    \u001b[34memployed_at\u001b[39;49;00m \u001b[31m=\u001b[39;49;00m \u001b[36mColumn\u001b[39;49;00m\u001b[31m(\u001b[39;49;00m\u001b[36mText\u001b[39;49;00m\u001b[31m(\u001b[39;49;00m\u001b[31m)\u001b[39;49;00m\u001b[31m,\u001b[39;49;00m \u001b[36mForeignKey\u001b[39;49;00m\u001b[31m(\u001b[39;49;00m\u001b[33m'Organization.id'\u001b[39;49;00m\u001b[31m)\u001b[39;49;00m\u001b[31m)\u001b[39;49;00m\r\n",
      "    \u001b[34mstarted_at_time\u001b[39;49;00m \u001b[31m=\u001b[39;49;00m \u001b[36mColumn\u001b[39;49;00m\u001b[31m(\u001b[39;49;00m\u001b[36mDate\u001b[39;49;00m\u001b[31m(\u001b[39;49;00m\u001b[31m)\u001b[39;49;00m\u001b[31m)\u001b[39;49;00m\r\n",
      "    \u001b[34mended_at_time\u001b[39;49;00m \u001b[31m=\u001b[39;49;00m \u001b[36mColumn\u001b[39;49;00m\u001b[31m(\u001b[39;49;00m\u001b[36mDate\u001b[39;49;00m\u001b[31m(\u001b[39;49;00m\u001b[31m)\u001b[39;49;00m\u001b[31m)\u001b[39;49;00m\r\n",
      "    \u001b[34mduration\u001b[39;49;00m \u001b[31m=\u001b[39;49;00m \u001b[36mColumn\u001b[39;49;00m\u001b[31m(\u001b[39;49;00m\u001b[36mFloat\u001b[39;49;00m\u001b[31m(\u001b[39;49;00m\u001b[31m)\u001b[39;49;00m\u001b[31m)\u001b[39;49;00m\r\n",
      "    \u001b[34mis_current\u001b[39;49;00m \u001b[31m=\u001b[39;49;00m \u001b[36mColumn\u001b[39;49;00m\u001b[31m(\u001b[39;49;00m\u001b[36mBoolean\u001b[39;49;00m\u001b[31m(\u001b[39;49;00m\u001b[31m)\u001b[39;49;00m\u001b[31m)\u001b[39;49;00m\r\n",
      "    \u001b[36mPerson_id\u001b[39;49;00m \u001b[31m=\u001b[39;49;00m \u001b[36mColumn\u001b[39;49;00m\u001b[31m(\u001b[39;49;00m\u001b[36mText\u001b[39;49;00m\u001b[31m(\u001b[39;49;00m\u001b[31m)\u001b[39;49;00m\u001b[31m,\u001b[39;49;00m \u001b[36mForeignKey\u001b[39;49;00m\u001b[31m(\u001b[39;49;00m\u001b[33m'Person.id'\u001b[39;49;00m\u001b[31m)\u001b[39;49;00m\u001b[31m)\u001b[39;49;00m\r\n",
      "    \r\n",
      "\r\n",
      "    \u001b[34mdef\u001b[39;49;00m \u001b[34m__repr__\u001b[39;49;00m\u001b[31m(\u001b[39;49;00m\u001b[34mself\u001b[39;49;00m\u001b[31m)\u001b[39;49;00m\u001b[31m:\u001b[39;49;00m\r\n",
      "        \u001b[34mreturn\u001b[39;49;00m \u001b[34mf\u001b[39;49;00m\u001b[33m\"EmploymentEvent(id={self.id},employed_at={self.employed_at},started_at_time={self.started_at_time},ended_at_time={self.ended_at_time},duration={self.duration},is_current={self.is_current},Person_id={self.Person_id},)\"\u001b[39;49;00m\r\n",
      "\r\n",
      "\r\n",
      "\r\n",
      "    \r\n",
      "    \u001b[31m#\u001b[39;49;00m \u001b[36mUsing\u001b[39;49;00m \u001b[34mconcrete\u001b[39;49;00m \u001b[34minheritance\u001b[39;49;00m\u001b[31m:\u001b[39;49;00m \u001b[34msee\u001b[39;49;00m \u001b[34mhttps\u001b[39;49;00m\u001b[31m:\u001b[39;49;00m//docs.sqlalchemy.org/en/14/orm/inheritance.html\u001b[39;49;00m\r\n",
      "    \u001b[34m__mapper_args__\u001b[39;49;00m \u001b[31m=\u001b[39;49;00m \u001b[31m{\u001b[39;49;00m\r\n",
      "        \u001b[33m'concrete'\u001b[39;49;00m\u001b[31m:\u001b[39;49;00m \u001b[34mTrue\u001b[39;49;00m\r\n",
      "    \u001b[31m}\u001b[39;49;00m\r\n",
      "    \r\n",
      "\r\n",
      "\r\n",
      "\u001b[34mclass\u001b[39;49;00m \u001b[36mMedicalEvent\u001b[39;49;00m\u001b[31m(\u001b[39;49;00m\u001b[36mEvent\u001b[39;49;00m\u001b[31m)\u001b[39;49;00m\u001b[31m:\u001b[39;49;00m\r\n",
      "    \u001b[33m\"\"\u001b[39;49;00m\u001b[33m\"\r\n",
      "\u001b[39;49;00m    \r\n",
      "    \u001b[33m\"\"\u001b[39;49;00m\u001b[33m\"\r\n",
      "\u001b[39;49;00m    \u001b[34m__tablename__\u001b[39;49;00m \u001b[31m=\u001b[39;49;00m \u001b[33m'MedicalEvent'\u001b[39;49;00m\r\n",
      "\r\n",
      "    \u001b[34mid\u001b[39;49;00m \u001b[31m=\u001b[39;49;00m \u001b[36mColumn\u001b[39;49;00m\u001b[31m(\u001b[39;49;00m\u001b[36mInteger\u001b[39;49;00m\u001b[31m(\u001b[39;49;00m\u001b[31m)\u001b[39;49;00m\u001b[31m,\u001b[39;49;00m \u001b[34mprimary_key\u001b[39;49;00m\u001b[31m=\u001b[39;49;00m\u001b[34mTrue\u001b[39;49;00m\u001b[31m,\u001b[39;49;00m \u001b[34mautoincrement\u001b[39;49;00m\u001b[31m=\u001b[39;49;00m\u001b[34mTrue\u001b[39;49;00m \u001b[31m,\u001b[39;49;00m \u001b[34mnullable\u001b[39;49;00m\u001b[31m=\u001b[39;49;00m\u001b[34mFalse\u001b[39;49;00m \u001b[31m)\u001b[39;49;00m\r\n",
      "    \u001b[34min_location\u001b[39;49;00m \u001b[31m=\u001b[39;49;00m \u001b[36mColumn\u001b[39;49;00m\u001b[31m(\u001b[39;49;00m\u001b[36mText\u001b[39;49;00m\u001b[31m(\u001b[39;49;00m\u001b[31m)\u001b[39;49;00m\u001b[31m,\u001b[39;49;00m \u001b[36mForeignKey\u001b[39;49;00m\u001b[31m(\u001b[39;49;00m\u001b[33m'Place.id'\u001b[39;49;00m\u001b[31m)\u001b[39;49;00m\u001b[31m)\u001b[39;49;00m\r\n",
      "    \u001b[34mstarted_at_time\u001b[39;49;00m \u001b[31m=\u001b[39;49;00m \u001b[36mColumn\u001b[39;49;00m\u001b[31m(\u001b[39;49;00m\u001b[36mDate\u001b[39;49;00m\u001b[31m(\u001b[39;49;00m\u001b[31m)\u001b[39;49;00m\u001b[31m)\u001b[39;49;00m\r\n",
      "    \u001b[34mended_at_time\u001b[39;49;00m \u001b[31m=\u001b[39;49;00m \u001b[36mColumn\u001b[39;49;00m\u001b[31m(\u001b[39;49;00m\u001b[36mDate\u001b[39;49;00m\u001b[31m(\u001b[39;49;00m\u001b[31m)\u001b[39;49;00m\u001b[31m)\u001b[39;49;00m\r\n",
      "    \u001b[34mduration\u001b[39;49;00m \u001b[31m=\u001b[39;49;00m \u001b[36mColumn\u001b[39;49;00m\u001b[31m(\u001b[39;49;00m\u001b[36mFloat\u001b[39;49;00m\u001b[31m(\u001b[39;49;00m\u001b[31m)\u001b[39;49;00m\u001b[31m)\u001b[39;49;00m\r\n",
      "    \u001b[34mis_current\u001b[39;49;00m \u001b[31m=\u001b[39;49;00m \u001b[36mColumn\u001b[39;49;00m\u001b[31m(\u001b[39;49;00m\u001b[36mBoolean\u001b[39;49;00m\u001b[31m(\u001b[39;49;00m\u001b[31m)\u001b[39;49;00m\u001b[31m)\u001b[39;49;00m\r\n",
      "    \u001b[36mPerson_id\u001b[39;49;00m \u001b[31m=\u001b[39;49;00m \u001b[36mColumn\u001b[39;49;00m\u001b[31m(\u001b[39;49;00m\u001b[36mText\u001b[39;49;00m\u001b[31m(\u001b[39;49;00m\u001b[31m)\u001b[39;49;00m\u001b[31m,\u001b[39;49;00m \u001b[36mForeignKey\u001b[39;49;00m\u001b[31m(\u001b[39;49;00m\u001b[33m'Person.id'\u001b[39;49;00m\u001b[31m)\u001b[39;49;00m\u001b[31m)\u001b[39;49;00m\r\n",
      "    \u001b[34mdiagnosis_id\u001b[39;49;00m \u001b[31m=\u001b[39;49;00m \u001b[36mColumn\u001b[39;49;00m\u001b[31m(\u001b[39;49;00m\u001b[36mText\u001b[39;49;00m\u001b[31m(\u001b[39;49;00m\u001b[31m)\u001b[39;49;00m\u001b[31m,\u001b[39;49;00m \u001b[36mForeignKey\u001b[39;49;00m\u001b[31m(\u001b[39;49;00m\u001b[33m'DiagnosisConcept.id'\u001b[39;49;00m\u001b[31m)\u001b[39;49;00m\u001b[31m)\u001b[39;49;00m\r\n",
      "    \u001b[34mdiagnosis\u001b[39;49;00m \u001b[31m=\u001b[39;49;00m \u001b[34mrelationship\u001b[39;49;00m\u001b[31m(\u001b[39;49;00m\u001b[33m\"DiagnosisConcept\"\u001b[39;49;00m\u001b[31m,\u001b[39;49;00m \u001b[34muselist\u001b[39;49;00m\u001b[31m=\u001b[39;49;00m\u001b[34mFalse\u001b[39;49;00m\u001b[31m,\u001b[39;49;00m \u001b[34mforeign_keys\u001b[39;49;00m\u001b[31m=\u001b[39;49;00m\u001b[31m[\u001b[39;49;00m\u001b[34mdiagnosis_id\u001b[39;49;00m\u001b[31m]\u001b[39;49;00m\u001b[31m)\u001b[39;49;00m\r\n",
      "    \u001b[34mprocedure_id\u001b[39;49;00m \u001b[31m=\u001b[39;49;00m \u001b[36mColumn\u001b[39;49;00m\u001b[31m(\u001b[39;49;00m\u001b[36mText\u001b[39;49;00m\u001b[31m(\u001b[39;49;00m\u001b[31m)\u001b[39;49;00m\u001b[31m,\u001b[39;49;00m \u001b[36mForeignKey\u001b[39;49;00m\u001b[31m(\u001b[39;49;00m\u001b[33m'ProcedureConcept.id'\u001b[39;49;00m\u001b[31m)\u001b[39;49;00m\u001b[31m)\u001b[39;49;00m\r\n",
      "    \u001b[34mprocedure\u001b[39;49;00m \u001b[31m=\u001b[39;49;00m \u001b[34mrelationship\u001b[39;49;00m\u001b[31m(\u001b[39;49;00m\u001b[33m\"ProcedureConcept\"\u001b[39;49;00m\u001b[31m,\u001b[39;49;00m \u001b[34muselist\u001b[39;49;00m\u001b[31m=\u001b[39;49;00m\u001b[34mFalse\u001b[39;49;00m\u001b[31m,\u001b[39;49;00m \u001b[34mforeign_keys\u001b[39;49;00m\u001b[31m=\u001b[39;49;00m\u001b[31m[\u001b[39;49;00m\u001b[34mprocedure_id\u001b[39;49;00m\u001b[31m]\u001b[39;49;00m\u001b[31m)\u001b[39;49;00m\r\n",
      "    \r\n",
      "\r\n",
      "    \u001b[34mdef\u001b[39;49;00m \u001b[34m__repr__\u001b[39;49;00m\u001b[31m(\u001b[39;49;00m\u001b[34mself\u001b[39;49;00m\u001b[31m)\u001b[39;49;00m\u001b[31m:\u001b[39;49;00m\r\n",
      "        \u001b[34mreturn\u001b[39;49;00m \u001b[34mf\u001b[39;49;00m\u001b[33m\"MedicalEvent(id={self.id},in_location={self.in_location},started_at_time={self.started_at_time},ended_at_time={self.ended_at_time},duration={self.duration},is_current={self.is_current},Person_id={self.Person_id},diagnosis_id={self.diagnosis_id},procedure_id={self.procedure_id},)\"\u001b[39;49;00m\r\n",
      "\r\n",
      "\r\n",
      "\r\n",
      "    \r\n",
      "    \u001b[31m#\u001b[39;49;00m \u001b[36mUsing\u001b[39;49;00m \u001b[34mconcrete\u001b[39;49;00m \u001b[34minheritance\u001b[39;49;00m\u001b[31m:\u001b[39;49;00m \u001b[34msee\u001b[39;49;00m \u001b[34mhttps\u001b[39;49;00m\u001b[31m:\u001b[39;49;00m//docs.sqlalchemy.org/en/14/orm/inheritance.html\u001b[39;49;00m\r\n",
      "    \u001b[34m__mapper_args__\u001b[39;49;00m \u001b[31m=\u001b[39;49;00m \u001b[31m{\u001b[39;49;00m\r\n",
      "        \u001b[33m'concrete'\u001b[39;49;00m\u001b[31m:\u001b[39;49;00m \u001b[34mTrue\u001b[39;49;00m\r\n",
      "    \u001b[31m}\u001b[39;49;00m\r\n",
      "    \r\n",
      "\r\n",
      "\r\n",
      "\u001b[34mclass\u001b[39;49;00m \u001b[36mDiagnosisConcept\u001b[39;49;00m\u001b[31m(\u001b[39;49;00m\u001b[36mConcept\u001b[39;49;00m\u001b[31m)\u001b[39;49;00m\u001b[31m:\u001b[39;49;00m\r\n",
      "    \u001b[33m\"\"\u001b[39;49;00m\u001b[33m\"\r\n",
      "\u001b[39;49;00m    \r\n",
      "    \u001b[33m\"\"\u001b[39;49;00m\u001b[33m\"\r\n",
      "\u001b[39;49;00m    \u001b[34m__tablename__\u001b[39;49;00m \u001b[31m=\u001b[39;49;00m \u001b[33m'DiagnosisConcept'\u001b[39;49;00m\r\n",
      "\r\n",
      "    \u001b[34mid\u001b[39;49;00m \u001b[31m=\u001b[39;49;00m \u001b[36mColumn\u001b[39;49;00m\u001b[31m(\u001b[39;49;00m\u001b[36mText\u001b[39;49;00m\u001b[31m(\u001b[39;49;00m\u001b[31m)\u001b[39;49;00m\u001b[31m,\u001b[39;49;00m \u001b[34mprimary_key\u001b[39;49;00m\u001b[31m=\u001b[39;49;00m\u001b[34mTrue\u001b[39;49;00m\u001b[31m,\u001b[39;49;00m \u001b[34mnullable\u001b[39;49;00m\u001b[31m=\u001b[39;49;00m\u001b[34mFalse\u001b[39;49;00m \u001b[31m)\u001b[39;49;00m\r\n",
      "    \u001b[34mname\u001b[39;49;00m \u001b[31m=\u001b[39;49;00m \u001b[36mColumn\u001b[39;49;00m\u001b[31m(\u001b[39;49;00m\u001b[36mText\u001b[39;49;00m\u001b[31m(\u001b[39;49;00m\u001b[31m)\u001b[39;49;00m\u001b[31m)\u001b[39;49;00m\r\n",
      "    \u001b[34mdescription\u001b[39;49;00m \u001b[31m=\u001b[39;49;00m \u001b[36mColumn\u001b[39;49;00m\u001b[31m(\u001b[39;49;00m\u001b[36mText\u001b[39;49;00m\u001b[31m(\u001b[39;49;00m\u001b[31m)\u001b[39;49;00m\u001b[31m)\u001b[39;49;00m\r\n",
      "    \u001b[34mimage\u001b[39;49;00m \u001b[31m=\u001b[39;49;00m \u001b[36mColumn\u001b[39;49;00m\u001b[31m(\u001b[39;49;00m\u001b[36mText\u001b[39;49;00m\u001b[31m(\u001b[39;49;00m\u001b[31m)\u001b[39;49;00m\u001b[31m)\u001b[39;49;00m\r\n",
      "    \r\n",
      "\r\n",
      "    \u001b[34mdef\u001b[39;49;00m \u001b[34m__repr__\u001b[39;49;00m\u001b[31m(\u001b[39;49;00m\u001b[34mself\u001b[39;49;00m\u001b[31m)\u001b[39;49;00m\u001b[31m:\u001b[39;49;00m\r\n",
      "        \u001b[34mreturn\u001b[39;49;00m \u001b[34mf\u001b[39;49;00m\u001b[33m\"DiagnosisConcept(id={self.id},name={self.name},description={self.description},image={self.image},)\"\u001b[39;49;00m\r\n",
      "\r\n",
      "\r\n",
      "\r\n",
      "    \r\n",
      "    \u001b[31m#\u001b[39;49;00m \u001b[36mUsing\u001b[39;49;00m \u001b[34mconcrete\u001b[39;49;00m \u001b[34minheritance\u001b[39;49;00m\u001b[31m:\u001b[39;49;00m \u001b[34msee\u001b[39;49;00m \u001b[34mhttps\u001b[39;49;00m\u001b[31m:\u001b[39;49;00m//docs.sqlalchemy.org/en/14/orm/inheritance.html\u001b[39;49;00m\r\n",
      "    \u001b[34m__mapper_args__\u001b[39;49;00m \u001b[31m=\u001b[39;49;00m \u001b[31m{\u001b[39;49;00m\r\n",
      "        \u001b[33m'concrete'\u001b[39;49;00m\u001b[31m:\u001b[39;49;00m \u001b[34mTrue\u001b[39;49;00m\r\n",
      "    \u001b[31m}\u001b[39;49;00m\r\n",
      "    \r\n",
      "\r\n",
      "\r\n",
      "\u001b[34mclass\u001b[39;49;00m \u001b[36mProcedureConcept\u001b[39;49;00m\u001b[31m(\u001b[39;49;00m\u001b[36mConcept\u001b[39;49;00m\u001b[31m)\u001b[39;49;00m\u001b[31m:\u001b[39;49;00m\r\n",
      "    \u001b[33m\"\"\u001b[39;49;00m\u001b[33m\"\r\n",
      "\u001b[39;49;00m    \r\n",
      "    \u001b[33m\"\"\u001b[39;49;00m\u001b[33m\"\r\n",
      "\u001b[39;49;00m    \u001b[34m__tablename__\u001b[39;49;00m \u001b[31m=\u001b[39;49;00m \u001b[33m'ProcedureConcept'\u001b[39;49;00m\r\n",
      "\r\n",
      "    \u001b[34mid\u001b[39;49;00m \u001b[31m=\u001b[39;49;00m \u001b[36mColumn\u001b[39;49;00m\u001b[31m(\u001b[39;49;00m\u001b[36mText\u001b[39;49;00m\u001b[31m(\u001b[39;49;00m\u001b[31m)\u001b[39;49;00m\u001b[31m,\u001b[39;49;00m \u001b[34mpr"
     ]
    },
    {
     "name": "stdout",
     "output_type": "stream",
     "text": [
      "imary_key\u001b[39;49;00m\u001b[31m=\u001b[39;49;00m\u001b[34mTrue\u001b[39;49;00m\u001b[31m,\u001b[39;49;00m \u001b[34mnullable\u001b[39;49;00m\u001b[31m=\u001b[39;49;00m\u001b[34mFalse\u001b[39;49;00m \u001b[31m)\u001b[39;49;00m\r\n",
      "    \u001b[34mname\u001b[39;49;00m \u001b[31m=\u001b[39;49;00m \u001b[36mColumn\u001b[39;49;00m\u001b[31m(\u001b[39;49;00m\u001b[36mText\u001b[39;49;00m\u001b[31m(\u001b[39;49;00m\u001b[31m)\u001b[39;49;00m\u001b[31m)\u001b[39;49;00m\r\n",
      "    \u001b[34mdescription\u001b[39;49;00m \u001b[31m=\u001b[39;49;00m \u001b[36mColumn\u001b[39;49;00m\u001b[31m(\u001b[39;49;00m\u001b[36mText\u001b[39;49;00m\u001b[31m(\u001b[39;49;00m\u001b[31m)\u001b[39;49;00m\u001b[31m)\u001b[39;49;00m\r\n",
      "    \u001b[34mimage\u001b[39;49;00m \u001b[31m=\u001b[39;49;00m \u001b[36mColumn\u001b[39;49;00m\u001b[31m(\u001b[39;49;00m\u001b[36mText\u001b[39;49;00m\u001b[31m(\u001b[39;49;00m\u001b[31m)\u001b[39;49;00m\u001b[31m)\u001b[39;49;00m\r\n",
      "    \r\n",
      "\r\n",
      "    \u001b[34mdef\u001b[39;49;00m \u001b[34m__repr__\u001b[39;49;00m\u001b[31m(\u001b[39;49;00m\u001b[34mself\u001b[39;49;00m\u001b[31m)\u001b[39;49;00m\u001b[31m:\u001b[39;49;00m\r\n",
      "        \u001b[34mreturn\u001b[39;49;00m \u001b[34mf\u001b[39;49;00m\u001b[33m\"ProcedureConcept(id={self.id},name={self.name},description={self.description},image={self.image},)\"\u001b[39;49;00m\r\n",
      "\r\n",
      "\r\n",
      "\r\n",
      "    \r\n",
      "    \u001b[31m#\u001b[39;49;00m \u001b[36mUsing\u001b[39;49;00m \u001b[34mconcrete\u001b[39;49;00m \u001b[34minheritance\u001b[39;49;00m\u001b[31m:\u001b[39;49;00m \u001b[34msee\u001b[39;49;00m \u001b[34mhttps\u001b[39;49;00m\u001b[31m:\u001b[39;49;00m//docs.sqlalchemy.org/en/14/orm/inheritance.html\u001b[39;49;00m\r\n",
      "    \u001b[34m__mapper_args__\u001b[39;49;00m \u001b[31m=\u001b[39;49;00m \u001b[31m{\u001b[39;49;00m\r\n",
      "        \u001b[33m'concrete'\u001b[39;49;00m\u001b[31m:\u001b[39;49;00m \u001b[34mTrue\u001b[39;49;00m\r\n",
      "    \u001b[31m}\u001b[39;49;00m\r\n",
      "    \r\n",
      "\r\n",
      "\r\n"
     ]
    }
   ],
   "source": [
    "!cat tmp/personinfo_sqla.py"
   ]
  },
  {
   "cell_type": "markdown",
   "id": "623ed98f",
   "metadata": {},
   "source": [
    "## Populate the SQLA Model Objects\n",
    "\n",
    "We will import our object model (remember in production code we would not put this in `tmp`).\n",
    "\n",
    "We will also use the Jupyter builtin help to introspect a class - although the builtin SQLA methods make this\n",
    "a bit verbose and messy"
   ]
  },
  {
   "cell_type": "code",
   "execution_count": 10,
   "id": "f1d1b0c2",
   "metadata": {
    "execution": {
     "iopub.execute_input": "2025-02-01T01:55:00.188880Z",
     "iopub.status.busy": "2025-02-01T01:55:00.188482Z",
     "iopub.status.idle": "2025-02-01T01:55:00.429819Z",
     "shell.execute_reply": "2025-02-01T01:55:00.429350Z"
    }
   },
   "outputs": [
    {
     "name": "stdout",
     "output_type": "stream",
     "text": [
      "Help on class Person in module tmp.personinfo_sqla:\n",
      "\n",
      "class Person(NamedThing)\n",
      " |  Person(**kwargs)\n",
      " |\n",
      " |  A person (alive, dead, undead, or fictional).\n",
      " |\n",
      " |  Method resolution order:\n",
      " |      Person\n",
      " |      NamedThing\n",
      " |      sqlalchemy.orm.decl_api.Base\n",
      " |      builtins.object\n",
      " |\n",
      " |  Methods defined here:\n",
      " |\n",
      " |  __init__(self, **kwargs) from sqlalchemy.orm.instrumentation\n",
      " |      A simple constructor that allows initialization from kwargs.\n",
      " |\n",
      " |      Sets attributes on the constructed instance using the names and\n",
      " |      values in ``kwargs``.\n",
      " |\n",
      " |      Only keys that are present as\n",
      " |      attributes of the instance's class are allowed. These could be,\n",
      " |      for example, any mapped columns or relationships.\n",
      " |\n",
      " |  __repr__(self)\n",
      " |      Return repr(self).\n",
      " |\n",
      " |  ----------------------------------------------------------------------\n",
      " |  Data descriptors defined here:\n",
      " |\n",
      " |  Container_id\n",
      " |\n",
      " |  age_in_years\n",
      " |\n",
      " |  aliases_rel\n",
      " |\n",
      " |  birth_date\n",
      " |\n",
      " |  current_address\n",
      " |\n",
      " |  current_address_id\n",
      " |\n",
      " |  description\n",
      " |\n",
      " |  gender\n",
      " |\n",
      " |  has_employment_history\n",
      " |\n",
      " |  has_familial_relationships\n",
      " |\n",
      " |  has_medical_history\n",
      " |\n",
      " |  id\n",
      " |\n",
      " |  image\n",
      " |\n",
      " |  name\n",
      " |\n",
      " |  primary_email\n",
      " |\n",
      " |  ----------------------------------------------------------------------\n",
      " |  Data and other attributes defined here:\n",
      " |\n",
      " |  __mapper__ = <Mapper at 0x104bcfed0; Person>\n",
      " |\n",
      " |  __mapper_args__ = {'concrete': True}\n",
      " |\n",
      " |  __table__ = Table('Person', MetaData(), Column('primary_emai...nKey('A...\n",
      " |\n",
      " |  __tablename__ = 'Person'\n",
      " |\n",
      " |  aliases = ColumnAssociationProxyInstance(AssociationProxy('aliases_rel...\n",
      " |\n",
      " |  ----------------------------------------------------------------------\n",
      " |  Data descriptors inherited from sqlalchemy.orm.decl_api.Base:\n",
      " |\n",
      " |  __dict__\n",
      " |      dictionary for instance variables\n",
      " |\n",
      " |  __weakref__\n",
      " |      list of weak references to the object\n",
      " |\n",
      " |  ----------------------------------------------------------------------\n",
      " |  Data and other attributes inherited from sqlalchemy.orm.decl_api.Base:\n",
      " |\n",
      " |  __abstract__ = True\n",
      " |\n",
      " |  metadata = MetaData()\n",
      " |\n",
      " |  registry = <sqlalchemy.orm.decl_api.registry object>\n",
      "\n"
     ]
    }
   ],
   "source": [
    "from tmp.personinfo_sqla import Person\n",
    "help(Person)"
   ]
  },
  {
   "cell_type": "markdown",
   "id": "daf4a1ce",
   "metadata": {},
   "source": [
    "### Create a SQLA session\n",
    "\n",
    "This is a bit involved, but this is all standard for SQLA"
   ]
  },
  {
   "cell_type": "code",
   "execution_count": 11,
   "id": "91e4bcbd",
   "metadata": {
    "execution": {
     "iopub.execute_input": "2025-02-01T01:55:00.432191Z",
     "iopub.status.busy": "2025-02-01T01:55:00.431973Z",
     "iopub.status.idle": "2025-02-01T01:55:00.434430Z",
     "shell.execute_reply": "2025-02-01T01:55:00.433906Z"
    }
   },
   "outputs": [],
   "source": [
    "from sqlalchemy import create_engine\n",
    "from sqlalchemy.orm import sessionmaker"
   ]
  },
  {
   "cell_type": "code",
   "execution_count": 12,
   "id": "fd1411e1",
   "metadata": {
    "execution": {
     "iopub.execute_input": "2025-02-01T01:55:00.436633Z",
     "iopub.status.busy": "2025-02-01T01:55:00.436426Z",
     "iopub.status.idle": "2025-02-01T01:55:00.446457Z",
     "shell.execute_reply": "2025-02-01T01:55:00.445710Z"
    }
   },
   "outputs": [],
   "source": [
    "engine = create_engine(\"sqlite:///tmp/tmp.db\")"
   ]
  },
  {
   "cell_type": "code",
   "execution_count": 13,
   "id": "ff922693",
   "metadata": {
    "execution": {
     "iopub.execute_input": "2025-02-01T01:55:00.448977Z",
     "iopub.status.busy": "2025-02-01T01:55:00.448769Z",
     "iopub.status.idle": "2025-02-01T01:55:00.451585Z",
     "shell.execute_reply": "2025-02-01T01:55:00.451155Z"
    }
   },
   "outputs": [],
   "source": [
    "session_class = sessionmaker(bind=engine)\n",
    "session = session_class()"
   ]
  },
  {
   "cell_type": "markdown",
   "id": "468c8796",
   "metadata": {},
   "source": [
    "### Create an object and add it\n",
    "\n",
    "We will populate the database with a single person, then do a sanity check SQL query"
   ]
  },
  {
   "cell_type": "code",
   "execution_count": 14,
   "id": "06421064",
   "metadata": {
    "execution": {
     "iopub.execute_input": "2025-02-01T01:55:00.453805Z",
     "iopub.status.busy": "2025-02-01T01:55:00.453489Z",
     "iopub.status.idle": "2025-02-01T01:55:00.456269Z",
     "shell.execute_reply": "2025-02-01T01:55:00.455784Z"
    }
   },
   "outputs": [],
   "source": [
    "p = Person(id=\"P1\", name=\"Rosario\", age_in_years=33)"
   ]
  },
  {
   "cell_type": "code",
   "execution_count": 15,
   "id": "134c0227",
   "metadata": {
    "execution": {
     "iopub.execute_input": "2025-02-01T01:55:00.458302Z",
     "iopub.status.busy": "2025-02-01T01:55:00.458117Z",
     "iopub.status.idle": "2025-02-01T01:55:00.460948Z",
     "shell.execute_reply": "2025-02-01T01:55:00.460574Z"
    }
   },
   "outputs": [],
   "source": [
    "session.add(p)"
   ]
  },
  {
   "cell_type": "code",
   "execution_count": 16,
   "id": "3e893b32",
   "metadata": {
    "execution": {
     "iopub.execute_input": "2025-02-01T01:55:00.463086Z",
     "iopub.status.busy": "2025-02-01T01:55:00.462749Z",
     "iopub.status.idle": "2025-02-01T01:55:00.470191Z",
     "shell.execute_reply": "2025-02-01T01:55:00.469573Z"
    }
   },
   "outputs": [],
   "source": [
    "session.commit()"
   ]
  },
  {
   "cell_type": "code",
   "execution_count": 17,
   "id": "2a0396ca",
   "metadata": {
    "execution": {
     "iopub.execute_input": "2025-02-01T01:55:00.472840Z",
     "iopub.status.busy": "2025-02-01T01:55:00.472576Z",
     "iopub.status.idle": "2025-02-01T01:55:01.059617Z",
     "shell.execute_reply": "2025-02-01T01:55:01.057995Z"
    }
   },
   "outputs": [
    {
     "name": "stdout",
     "output_type": "stream",
     "text": [
      "||33||P1|Rosario||||\r\n"
     ]
    }
   ],
   "source": [
    "!sqlite3 tmp/tmp.db \"SELECT * FROM Person;\" \".exit\""
   ]
  },
  {
   "cell_type": "markdown",
   "id": "24230694",
   "metadata": {},
   "source": [
    "## Foreign Keys\n",
    "\n",
    "Now we demonstrate use of foreign keys behind the scenes.\n",
    "\n",
    "In the LinkML model, FamilialRelationship is *inlined*, so each Person can have zero to many embedded relationships\n",
    "to other people.\n",
    "\n",
    "We will append a relationship to another person (P2 - note this person is not yet in the database,\n",
    "but it's OK as SQLite3 doesn't enforce referential integrity)"
   ]
  },
  {
   "cell_type": "code",
   "execution_count": 18,
   "id": "c196ccff",
   "metadata": {
    "execution": {
     "iopub.execute_input": "2025-02-01T01:55:01.063758Z",
     "iopub.status.busy": "2025-02-01T01:55:01.063080Z",
     "iopub.status.idle": "2025-02-01T01:55:01.067376Z",
     "shell.execute_reply": "2025-02-01T01:55:01.066636Z"
    }
   },
   "outputs": [],
   "source": [
    "from tmp.personinfo_sqla import FamilialRelationship"
   ]
  },
  {
   "cell_type": "code",
   "execution_count": 19,
   "id": "f68a5266",
   "metadata": {
    "execution": {
     "iopub.execute_input": "2025-02-01T01:55:01.070144Z",
     "iopub.status.busy": "2025-02-01T01:55:01.069865Z",
     "iopub.status.idle": "2025-02-01T01:55:01.082933Z",
     "shell.execute_reply": "2025-02-01T01:55:01.082090Z"
    }
   },
   "outputs": [],
   "source": [
    "p.has_familial_relationships.append(FamilialRelationship(related_to=\"P2\", type=\"SIBLING_OF\"))"
   ]
  },
  {
   "cell_type": "code",
   "execution_count": 20,
   "id": "f49c07cd",
   "metadata": {
    "execution": {
     "iopub.execute_input": "2025-02-01T01:55:01.085912Z",
     "iopub.status.busy": "2025-02-01T01:55:01.085619Z",
     "iopub.status.idle": "2025-02-01T01:55:01.096624Z",
     "shell.execute_reply": "2025-02-01T01:55:01.096042Z"
    }
   },
   "outputs": [],
   "source": [
    "session.commit()"
   ]
  },
  {
   "cell_type": "code",
   "execution_count": 21,
   "id": "e0b77c80",
   "metadata": {
    "execution": {
     "iopub.execute_input": "2025-02-01T01:55:01.098975Z",
     "iopub.status.busy": "2025-02-01T01:55:01.098747Z",
     "iopub.status.idle": "2025-02-01T01:55:01.680709Z",
     "shell.execute_reply": "2025-02-01T01:55:01.679509Z"
    }
   },
   "outputs": [
    {
     "name": "stdout",
     "output_type": "stream",
     "text": [
      "1|||P2|SIBLING_OF|P1\r\n"
     ]
    }
   ],
   "source": [
    "!sqlite3 tmp/tmp.db \"SELECT * FROM FamilialRelationship;\" \".exit\""
   ]
  },
  {
   "cell_type": "markdown",
   "id": "04fc3252",
   "metadata": {},
   "source": [
    "### Generating synthetic data\n",
    "\n",
    "Next we will write some simple code for making synthetic people"
   ]
  },
  {
   "cell_type": "code",
   "execution_count": 22,
   "id": "626014d7",
   "metadata": {
    "execution": {
     "iopub.execute_input": "2025-02-01T01:55:01.685246Z",
     "iopub.status.busy": "2025-02-01T01:55:01.684495Z",
     "iopub.status.idle": "2025-02-01T01:55:03.037385Z",
     "shell.execute_reply": "2025-02-01T01:55:03.036345Z"
    }
   },
   "outputs": [
    {
     "name": "stdout",
     "output_type": "stream",
     "text": [
      "Requirement already satisfied: names in /Users/jonny/Library/Caches/pypoetry/virtualenvs/linkml-G-1YJs6r-py3.13/lib/python3.13/site-packages (0.3.0)\r\n"
     ]
    },
    {
     "name": "stdout",
     "output_type": "stream",
     "text": [
      "\r\n",
      "\u001b[1m[\u001b[0m\u001b[34;49mnotice\u001b[0m\u001b[1;39;49m]\u001b[0m\u001b[39;49m A new release of pip is available: \u001b[0m\u001b[31;49m24.3.1\u001b[0m\u001b[39;49m -> \u001b[0m\u001b[32;49m25.0\u001b[0m\r\n",
      "\u001b[1m[\u001b[0m\u001b[34;49mnotice\u001b[0m\u001b[1;39;49m]\u001b[0m\u001b[39;49m To update, run: \u001b[0m\u001b[32;49mpip install --upgrade pip\u001b[0m\r\n"
     ]
    },
    {
     "name": "stdout",
     "output_type": "stream",
     "text": [
      "Note: you may need to restart the kernel to use updated packages.\n"
     ]
    }
   ],
   "source": [
    "%pip install names"
   ]
  },
  {
   "cell_type": "code",
   "execution_count": 23,
   "id": "9a825912",
   "metadata": {
    "execution": {
     "iopub.execute_input": "2025-02-01T01:55:03.041192Z",
     "iopub.status.busy": "2025-02-01T01:55:03.040575Z",
     "iopub.status.idle": "2025-02-01T01:55:03.047792Z",
     "shell.execute_reply": "2025-02-01T01:55:03.046859Z"
    }
   },
   "outputs": [],
   "source": [
    "import names\n",
    "import random\n",
    "\n",
    "last_id = 2\n",
    "def random_person() -> Person:\n",
    "    \"\"\"\n",
    "    Create a person with a random name and random set of relationships.\n",
    "    \n",
    "    Note that this is just for demo purposes. If we wanted to be more advanced we\n",
    "    could make use of SIBLING_OF to make a more realistic distribution of last name\n",
    "    matches, and we could ensure that SIBLING_OF is symmetric...\n",
    "    \"\"\"\n",
    "    global last_id\n",
    "    last_id += 1\n",
    "    pid = f\"P{last_id}\"\n",
    "    person = Person(id=pid, name=names.get_full_name(), age_in_years=random.randint(30,40))\n",
    "    for n in range(0, random.randint(0, 3)):\n",
    "        rel = FamilialRelationship(related_to=f\"P{last_id+n}\", type=\"SIBLING_OF\")\n",
    "        person.has_familial_relationships.append(rel)\n",
    "    return person"
   ]
  },
  {
   "cell_type": "code",
   "execution_count": 24,
   "id": "868099f1",
   "metadata": {
    "execution": {
     "iopub.execute_input": "2025-02-01T01:55:03.050913Z",
     "iopub.status.busy": "2025-02-01T01:55:03.050608Z",
     "iopub.status.idle": "2025-02-01T01:55:03.414739Z",
     "shell.execute_reply": "2025-02-01T01:55:03.414150Z"
    }
   },
   "outputs": [],
   "source": [
    "persons = [random_person() for x in range(1,100)]"
   ]
  },
  {
   "cell_type": "markdown",
   "id": "56dae0e1",
   "metadata": {},
   "source": [
    "### Container Object\n",
    "\n",
    "The PersonInfo schema has a class Container whose sole function is to contain all top level objects.\n",
    "\n",
    "We will populate our container with our 100 artificial people."
   ]
  },
  {
   "cell_type": "code",
   "execution_count": 25,
   "id": "d232360a",
   "metadata": {
    "execution": {
     "iopub.execute_input": "2025-02-01T01:55:03.417341Z",
     "iopub.status.busy": "2025-02-01T01:55:03.417121Z",
     "iopub.status.idle": "2025-02-01T01:55:03.419929Z",
     "shell.execute_reply": "2025-02-01T01:55:03.419414Z"
    }
   },
   "outputs": [],
   "source": [
    "from tmp.personinfo_sqla import Container"
   ]
  },
  {
   "cell_type": "code",
   "execution_count": 26,
   "id": "af1d61d9",
   "metadata": {
    "execution": {
     "iopub.execute_input": "2025-02-01T01:55:03.421953Z",
     "iopub.status.busy": "2025-02-01T01:55:03.421751Z",
     "iopub.status.idle": "2025-02-01T01:55:03.424822Z",
     "shell.execute_reply": "2025-02-01T01:55:03.424373Z"
    }
   },
   "outputs": [],
   "source": [
    "container = Container(persons=persons)"
   ]
  },
  {
   "cell_type": "code",
   "execution_count": 27,
   "id": "f45f7985",
   "metadata": {
    "execution": {
     "iopub.execute_input": "2025-02-01T01:55:03.426937Z",
     "iopub.status.busy": "2025-02-01T01:55:03.426746Z",
     "iopub.status.idle": "2025-02-01T01:55:03.431347Z",
     "shell.execute_reply": "2025-02-01T01:55:03.430941Z"
    }
   },
   "outputs": [],
   "source": [
    "session.add(container)"
   ]
  },
  {
   "cell_type": "code",
   "execution_count": 28,
   "id": "cd3cc260",
   "metadata": {
    "execution": {
     "iopub.execute_input": "2025-02-01T01:55:03.434376Z",
     "iopub.status.busy": "2025-02-01T01:55:03.434150Z",
     "iopub.status.idle": "2025-02-01T01:55:03.453571Z",
     "shell.execute_reply": "2025-02-01T01:55:03.452938Z"
    }
   },
   "outputs": [],
   "source": [
    "session.commit()"
   ]
  },
  {
   "cell_type": "code",
   "execution_count": 29,
   "id": "21531acd",
   "metadata": {
    "execution": {
     "iopub.execute_input": "2025-02-01T01:55:03.456074Z",
     "iopub.status.busy": "2025-02-01T01:55:03.455852Z",
     "iopub.status.idle": "2025-02-01T01:55:04.061733Z",
     "shell.execute_reply": "2025-02-01T01:55:04.060101Z"
    }
   },
   "outputs": [
    {
     "name": "stdout",
     "output_type": "stream",
     "text": [
      "1|||P2|SIBLING_OF|P1\r\n",
      "2|||P4|SIBLING_OF|P4\r\n",
      "3|||P5|SIBLING_OF|P5\r\n",
      "4|||P6|SIBLING_OF|P6\r\n",
      "5|||P7|SIBLING_OF|P6\r\n",
      "6|||P8|SIBLING_OF|P6\r\n",
      "7|||P7|SIBLING_OF|P7\r\n",
      "8|||P8|SIBLING_OF|P7\r\n",
      "9|||P9|SIBLING_OF|P9\r\n",
      "10|||P10|SIBLING_OF|P10\r\n"
     ]
    }
   ],
   "source": [
    "!sqlite3 tmp/tmp.db \"SELECT * FROM FamilialRelationship LIMIT 10;\" \".exit\""
   ]
  },
  {
   "cell_type": "markdown",
   "id": "8633a6e3",
   "metadata": {},
   "source": [
    "## Use of SQLA ORM to query\n",
    "\n",
    "Next we will demonstrate use of the SQLA Object-Relational Mapper to query for the first 10 objects in the database.\n",
    "\n",
    "Note that the ORM takes care of writing queries involving joins for us, so inlined objects are retrieved naturally"
   ]
  },
  {
   "cell_type": "code",
   "execution_count": 30,
   "id": "1a4799f8",
   "metadata": {
    "execution": {
     "iopub.execute_input": "2025-02-01T01:55:04.065901Z",
     "iopub.status.busy": "2025-02-01T01:55:04.065274Z",
     "iopub.status.idle": "2025-02-01T01:55:04.079309Z",
     "shell.execute_reply": "2025-02-01T01:55:04.078150Z"
    }
   },
   "outputs": [
    {
     "name": "stdout",
     "output_type": "stream",
     "text": [
      "Rosario\n",
      "  SIBLING_OF P2\n",
      "David Gerber\n",
      "Henry Shepherd\n",
      "  SIBLING_OF P4\n",
      "Terri Thompson\n",
      "  SIBLING_OF P5\n",
      "Martha Jones\n",
      "  SIBLING_OF P6\n",
      "  SIBLING_OF P7\n",
      "  SIBLING_OF P8\n",
      "Celia Bostrom\n",
      "  SIBLING_OF P7\n",
      "  SIBLING_OF P8\n",
      "Robert Clattenburg\n",
      "Liz Serisky\n",
      "  SIBLING_OF P9\n",
      "Maria Radford\n",
      "  SIBLING_OF P10\n",
      "  SIBLING_OF P11\n",
      "  SIBLING_OF P12\n",
      "Arlene Rueda\n"
     ]
    }
   ],
   "source": [
    "for p in session.query(Person)[0:10]:\n",
    "    print(p.name)\n",
    "    for frel in p.has_familial_relationships:\n",
    "        print(f\"  {frel.type} {frel.related_to}\")"
   ]
  },
  {
   "cell_type": "markdown",
   "id": "99bb9e05",
   "metadata": {},
   "source": [
    "## Bridging SQLA Models with LinkML Dataclasses or Pydantic\n",
    "\n",
    "If you are already familiar with LinkML use with Python, you will likely be familiar with:\n",
    "\n",
    "- [gen-python](https://linkml.io/linkml/generators/python.html)\n",
    "- [gen-pydantic](https://linkml.io/linkml/generators/pydantic.html)\n",
    "\n",
    "Which create dataclasses and pydantic object models respectively.\n",
    "\n",
    "Unfortunately there is no one single standard for object models in Python. Dataclasses and Pydantic have a lot of advantages over SQLA models, but they don't work as well in conjunction with the ORM.\n",
    "\n",
    "To accommodate this, the LinkML python toolchain has bridging code that will map objects from one system to another."
   ]
  },
  {
   "cell_type": "code",
   "execution_count": 31,
   "id": "f57ecb49",
   "metadata": {
    "execution": {
     "iopub.execute_input": "2025-02-01T01:55:04.082133Z",
     "iopub.status.busy": "2025-02-01T01:55:04.081851Z",
     "iopub.status.idle": "2025-02-01T01:55:05.966600Z",
     "shell.execute_reply": "2025-02-01T01:55:05.964959Z"
    }
   },
   "outputs": [],
   "source": [
    "!gen-pydantic ../examples/PersonSchema/personinfo.yaml > tmp/personinfo.py"
   ]
  },
  {
   "cell_type": "code",
   "execution_count": 32,
   "id": "ae8a0e5b",
   "metadata": {
    "execution": {
     "iopub.execute_input": "2025-02-01T01:55:05.970326Z",
     "iopub.status.busy": "2025-02-01T01:55:05.969944Z",
     "iopub.status.idle": "2025-02-01T01:55:06.123833Z",
     "shell.execute_reply": "2025-02-01T01:55:06.123253Z"
    }
   },
   "outputs": [],
   "source": [
    "import tmp.personinfo as personinfo"
   ]
  },
  {
   "cell_type": "code",
   "execution_count": 33,
   "id": "9474672a-2094-4ec6-a46b-3af2c7645376",
   "metadata": {
    "execution": {
     "iopub.execute_input": "2025-02-01T01:55:06.126113Z",
     "iopub.status.busy": "2025-02-01T01:55:06.125908Z",
     "iopub.status.idle": "2025-02-01T01:55:06.131794Z",
     "shell.execute_reply": "2025-02-01T01:55:06.131357Z"
    }
   },
   "outputs": [
    {
     "data": {
      "text/plain": [
       "{'started_at_time': None,\n",
       " 'ended_at_time': None,\n",
       " 'related_to': 'P2',\n",
       " 'type': 'SIBLING_OF'}"
      ]
     },
     "execution_count": 33,
     "metadata": {},
     "output_type": "execute_result"
    }
   ],
   "source": [
    "personinfo.FamilialRelationship(related_to=\"P2\", type=personinfo.FamilialRelationshipType(\"SIBLING_OF\")).model_dump()"
   ]
  },
  {
   "cell_type": "code",
   "execution_count": 34,
   "id": "896d286f",
   "metadata": {
    "execution": {
     "iopub.execute_input": "2025-02-01T01:55:06.133874Z",
     "iopub.status.busy": "2025-02-01T01:55:06.133687Z",
     "iopub.status.idle": "2025-02-01T01:55:06.137329Z",
     "shell.execute_reply": "2025-02-01T01:55:06.136905Z"
    }
   },
   "outputs": [],
   "source": [
    "def random_person_pydantic() -> personinfo.Person:\n",
    "    \"\"\"\n",
    "    Create a person with a random name and random set of relationships.\n",
    "    \n",
    "    Note that this is just for demo purposes. If we wanted to be more advanced we\n",
    "    could make use of SIBLING_OF to make a more realistic distribution of last name\n",
    "    matches, and we could ensure that SIBLING_OF is symmetric...\n",
    "    \"\"\"\n",
    "    global last_id\n",
    "    last_id += 1\n",
    "    pid = f\"P{last_id}\"\n",
    "    person = personinfo.Person(id=pid, name=names.get_full_name(), age_in_years=random.randint(30,40))\n",
    "    for n in range(0, random.randint(0, 3)):\n",
    "        rel = personinfo.FamilialRelationship(related_to=f\"P{last_id+n}\", type=\"SIBLING_OF\")\n",
    "        relationships = person.has_familial_relationships\n",
    "        if relationships:\n",
    "            relationships.append(rel)\n",
    "        else:\n",
    "            person.has_familial_relationships = [rel]\n",
    "            \n",
    "    return person"
   ]
  },
  {
   "cell_type": "code",
   "execution_count": 35,
   "id": "9c232d80",
   "metadata": {
    "execution": {
     "iopub.execute_input": "2025-02-01T01:55:06.139258Z",
     "iopub.status.busy": "2025-02-01T01:55:06.139060Z",
     "iopub.status.idle": "2025-02-01T01:55:06.143889Z",
     "shell.execute_reply": "2025-02-01T01:55:06.143403Z"
    }
   },
   "outputs": [
    {
     "data": {
      "text/plain": [
       "Person(id='P102', name='Elba Brady', description=None, image=None, aliases=None, primary_email=None, birth_date=None, age_in_years=33, gender=None, current_address=None, has_employment_history=None, has_familial_relationships=[FamilialRelationship(started_at_time=None, ended_at_time=None, related_to='P102', type='SIBLING_OF'), FamilialRelationship(started_at_time=None, ended_at_time=None, related_to='P103', type='SIBLING_OF'), FamilialRelationship(started_at_time=None, ended_at_time=None, related_to='P104', type='SIBLING_OF')], has_medical_history=None)"
      ]
     },
     "execution_count": 35,
     "metadata": {},
     "output_type": "execute_result"
    }
   ],
   "source": [
    "random_person_pydantic()"
   ]
  },
  {
   "cell_type": "code",
   "execution_count": 36,
   "id": "d7bc975c",
   "metadata": {
    "execution": {
     "iopub.execute_input": "2025-02-01T01:55:06.145705Z",
     "iopub.status.busy": "2025-02-01T01:55:06.145536Z",
     "iopub.status.idle": "2025-02-01T01:55:06.454759Z",
     "shell.execute_reply": "2025-02-01T01:55:06.454176Z"
    }
   },
   "outputs": [],
   "source": [
    "container = personinfo.Container(persons=[random_person_pydantic() for x in range(1,100)])"
   ]
  },
  {
   "cell_type": "code",
   "execution_count": 37,
   "id": "9bb0e0ec",
   "metadata": {
    "execution": {
     "iopub.execute_input": "2025-02-01T01:55:06.457179Z",
     "iopub.status.busy": "2025-02-01T01:55:06.456963Z",
     "iopub.status.idle": "2025-02-01T01:55:07.083245Z",
     "shell.execute_reply": "2025-02-01T01:55:07.082472Z"
    }
   },
   "outputs": [],
   "source": [
    "from linkml.utils.sqlutils import SQLStore"
   ]
  },
  {
   "cell_type": "code",
   "execution_count": 38,
   "id": "45c3fabe",
   "metadata": {
    "execution": {
     "iopub.execute_input": "2025-02-01T01:55:07.086532Z",
     "iopub.status.busy": "2025-02-01T01:55:07.086298Z",
     "iopub.status.idle": "2025-02-01T01:55:07.089040Z",
     "shell.execute_reply": "2025-02-01T01:55:07.088553Z"
    }
   },
   "outputs": [],
   "source": [
    "store = SQLStore(use_memory=True)"
   ]
  },
  {
   "cell_type": "code",
   "execution_count": 39,
   "id": "23b139a4",
   "metadata": {
    "execution": {
     "iopub.execute_input": "2025-02-01T01:55:07.091228Z",
     "iopub.status.busy": "2025-02-01T01:55:07.090994Z",
     "iopub.status.idle": "2025-02-01T01:55:07.093865Z",
     "shell.execute_reply": "2025-02-01T01:55:07.093302Z"
    }
   },
   "outputs": [],
   "source": [
    "store.module = personinfo"
   ]
  },
  {
   "cell_type": "code",
   "execution_count": 40,
   "id": "4d859d00",
   "metadata": {
    "execution": {
     "iopub.execute_input": "2025-02-01T01:55:07.096376Z",
     "iopub.status.busy": "2025-02-01T01:55:07.095977Z",
     "iopub.status.idle": "2025-02-01T01:55:07.107127Z",
     "shell.execute_reply": "2025-02-01T01:55:07.106654Z"
    }
   },
   "outputs": [],
   "source": [
    "container_sqla = store.to_sqla(container)"
   ]
  },
  {
   "cell_type": "code",
   "execution_count": 41,
   "id": "2064d837",
   "metadata": {
    "execution": {
     "iopub.execute_input": "2025-02-01T01:55:07.109300Z",
     "iopub.status.busy": "2025-02-01T01:55:07.109108Z",
     "iopub.status.idle": "2025-02-01T01:55:07.112482Z",
     "shell.execute_reply": "2025-02-01T01:55:07.112036Z"
    }
   },
   "outputs": [
    {
     "data": {
      "text/plain": [
       "tmp.personinfo.Container"
      ]
     },
     "execution_count": 41,
     "metadata": {},
     "output_type": "execute_result"
    }
   ],
   "source": [
    "type(container_sqla)"
   ]
  }
 ],
 "metadata": {
  "kernelspec": {
   "display_name": "Python 3 (ipykernel)",
   "language": "python",
   "name": "python3"
  },
  "language_info": {
   "codemirror_mode": {
    "name": "ipython",
    "version": 3
   },
   "file_extension": ".py",
   "mimetype": "text/x-python",
   "name": "python",
   "nbconvert_exporter": "python",
   "pygments_lexer": "ipython3",
   "version": "3.13.1"
  }
 },
 "nbformat": 4,
 "nbformat_minor": 5
}

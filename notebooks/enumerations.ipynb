{
 "cells": [
  {
   "cell_type": "markdown",
   "metadata": {
    "collapsed": true,
    "jupyter": {
     "outputs_hidden": true
    },
    "pycharm": {
     "name": "#%% md\n"
    }
   },
   "source": [
    "# Enumerations\n",
    "LinkML supports a wide spectrum of enumerations, from simple option lists to values come directly from\n",
    "ontologies or pre-defined value sets."
   ]
  },
  {
   "cell_type": "code",
   "execution_count": 1,
   "metadata": {
    "pycharm": {
     "name": "#%%\n"
    }
   },
   "outputs": [],
   "source": [
    "!pip install -q --disable-pip-version-check yamlmagic\n",
    "%reload_ext yamlmagic"
   ]
  },
  {
   "cell_type": "markdown",
   "metadata": {
    "collapsed": false,
    "jupyter": {
     "outputs_hidden": false
    },
    "pycharm": {
     "name": "#%% md\n"
    }
   },
   "source": [
    "Helper function to compile linkml model to python"
   ]
  },
  {
   "cell_type": "code",
   "execution_count": 2,
   "metadata": {
    "collapsed": false,
    "jupyter": {
     "outputs_hidden": false
    },
    "pycharm": {
     "name": "#%%\n"
    }
   },
   "outputs": [],
   "source": [
    "from linkml.generators.pythongen import PythonGenerator\n",
    "from linkml_runtime.utils.compile_python import compile_python\n",
    "from linkml_runtime.linkml_model import SchemaDefinition\n",
    "\n",
    "def compile_model(model: str, print_python: bool=False) -> SchemaDefinition:\n",
    "    gen = PythonGenerator(model, mergeimports=False, gen_classvars=False, gen_slots=False)\n",
    "    code = gen.serialize()\n",
    "    if print_python:\n",
    "        print(code)\n",
    "    return compile_python(code)"
   ]
  },
  {
   "cell_type": "markdown",
   "metadata": {},
   "source": [
    "## The simplest form of a LinkML enumeration is a list of tag and (optional) values\n"
   ]
  },
  {
   "cell_type": "code",
   "execution_count": 3,
   "metadata": {
    "collapsed": false,
    "jupyter": {
     "outputs_hidden": false
    },
    "pycharm": {
     "name": "#%%\n"
    }
   },
   "outputs": [
    {
     "data": {
      "application/javascript": [
       "\n",
       "            require(\n",
       "                [\n",
       "                    \"notebook/js/codecell\",\n",
       "                    \"codemirror/mode/yaml/yaml\"\n",
       "                ],\n",
       "                function(cc){\n",
       "                    cc.CodeCell.options_default.highlight_modes.magic_yaml = {\n",
       "                        reg: [\"^%%yaml\"]\n",
       "                    }\n",
       "                }\n",
       "            );\n",
       "            "
      ],
      "text/plain": [
       "<IPython.core.display.Javascript object>"
      ]
     },
     "metadata": {},
     "output_type": "display_data"
    }
   ],
   "source": [
    "%%yaml model\n",
    "\n",
    "id: http://example.org/test/simple\n",
    "name: simple\n",
    "description: Very simple enumeration\n",
    "\n",
    "prefixes:\n",
    "  linkml: https://w3id.org/linkml/\n",
    "  play: http://example.org/test/play/\n",
    "  CS: http://ontologies-r.us/codesystem/\n",
    "\n",
    "default_range: string\n",
    "default_prefix: play\n",
    "\n",
    "\n",
    "imports:\n",
    "  - linkml:types\n",
    "\n",
    "\n",
    "enums:\n",
    "  Position:\n",
    "    description: Baseline enumeration -- simple code/value pairs, where the value (description) is optional\n",
    "    permissible_values:\n",
    "      a: top\n",
    "      b: middle\n",
    "      c: bottom\n",
    "      d:\n",
    "\n",
    "classes:\n",
    "    PositionalRecord:\n",
    "        description: The combination of a unique identifier and with an associated position\n",
    "        attributes:\n",
    "            id:\n",
    "                range: string\n",
    "                identifier: true\n",
    "            position:\n",
    "                range: Position\n",
    "                required: true"
   ]
  },
  {
   "cell_type": "code",
   "execution_count": 4,
   "metadata": {
    "pycharm": {
     "name": "#%%\n"
    }
   },
   "outputs": [
    {
     "name": "stdout",
     "output_type": "stream",
     "text": [
      "# Auto generated from None by pythongen.py version: 0.0.1\n",
      "# Generation date: 2025-01-31T17:38:51\n",
      "# Schema: simple\n",
      "#\n",
      "# id: http://example.org/test/simple\n",
      "# description: Very simple enumeration\n",
      "# license: https://creativecommons.org/publicdomain/zero/1.0/\n",
      "\n",
      "import dataclasses\n",
      "import re\n",
      "from dataclasses import dataclass\n",
      "from datetime import (\n",
      "    date,\n",
      "    datetime,\n",
      "    time\n",
      ")\n",
      "from typing import (\n",
      "    Any,\n",
      "    ClassVar,\n",
      "    Dict,\n",
      "    List,\n",
      "    Optional,\n",
      "    Union\n",
      ")\n",
      "\n",
      "from jsonasobj2 import (\n",
      "    JsonObj,\n",
      "    as_dict\n",
      ")\n",
      "from linkml_runtime.linkml_model.meta import (\n",
      "    EnumDefinition,\n",
      "    PermissibleValue,\n",
      "    PvFormulaOptions\n",
      ")\n",
      "from linkml_runtime.utils.curienamespace import CurieNamespace\n",
      "from linkml_runtime.utils.dataclass_extensions_376 import dataclasses_init_fn_with_kwargs\n",
      "from linkml_runtime.utils.enumerations import EnumDefinitionImpl\n",
      "from linkml_runtime.utils.formatutils import (\n",
      "    camelcase,\n",
      "    sfx,\n",
      "    underscore\n",
      ")\n",
      "from linkml_runtime.utils.metamodelcore import (\n",
      "    bnode,\n",
      "    empty_dict,\n",
      "    empty_list\n",
      ")\n",
      "from linkml_runtime.utils.slot import Slot\n",
      "from linkml_runtime.utils.yamlutils import (\n",
      "    YAMLRoot,\n",
      "    extended_float,\n",
      "    extended_int,\n",
      "    extended_str\n",
      ")\n",
      "from rdflib import (\n",
      "    Namespace,\n",
      "    URIRef\n",
      ")\n",
      "\n",
      "from linkml_runtime.linkml_model.types import String\n",
      "\n",
      "metamodel_version = \"1.7.0\"\n",
      "version = None\n",
      "\n",
      "# Overwrite dataclasses _init_fn to add **kwargs in __init__\n",
      "dataclasses._init_fn = dataclasses_init_fn_with_kwargs\n",
      "\n",
      "# Namespaces\n",
      "CS = CurieNamespace('CS', 'http://ontologies-r.us/codesystem/')\n",
      "LINKML = CurieNamespace('linkml', 'https://w3id.org/linkml/')\n",
      "PLAY = CurieNamespace('play', 'http://example.org/test/play/')\n",
      "DEFAULT_ = PLAY\n",
      "\n",
      "\n",
      "# Types\n",
      "\n",
      "# Class references\n",
      "class PositionalRecordId(extended_str):\n",
      "    pass\n",
      "\n",
      "\n",
      "@dataclass(repr=False)\n",
      "class PositionalRecord(YAMLRoot):\n",
      "    \"\"\"\n",
      "    The combination of a unique identifier and with an associated position\n",
      "    \"\"\"\n",
      "    id: Union[str, PositionalRecordId] = None\n",
      "    position: Union[str, \"Position\"] = None\n",
      "\n",
      "    def __post_init__(self, *_: List[str], **kwargs: Dict[str, Any]):\n",
      "        if self._is_empty(self.id):\n",
      "            self.MissingRequiredField(\"id\")\n",
      "        if not isinstance(self.id, PositionalRecordId):\n",
      "            self.id = PositionalRecordId(self.id)\n",
      "\n",
      "        if self._is_empty(self.position):\n",
      "            self.MissingRequiredField(\"position\")\n",
      "        if not isinstance(self.position, Position):\n",
      "            self.position = Position(self.position)\n",
      "\n",
      "        super().__post_init__(**kwargs)\n",
      "\n",
      "\n",
      "# Enumerations\n",
      "class Position(EnumDefinitionImpl):\n",
      "    \"\"\"\n",
      "    Baseline enumeration -- simple code/value pairs, where the value (description) is optional\n",
      "    \"\"\"\n",
      "    a = PermissibleValue(\n",
      "        text=\"a\",\n",
      "        description=\"top\")\n",
      "    b = PermissibleValue(\n",
      "        text=\"b\",\n",
      "        description=\"middle\")\n",
      "    c = PermissibleValue(\n",
      "        text=\"c\",\n",
      "        description=\"bottom\")\n",
      "    d = PermissibleValue(text=\"d\")\n",
      "\n",
      "    _defn = EnumDefinition(\n",
      "        name=\"Position\",\n",
      "        description=\"Baseline enumeration -- simple code/value pairs, where the value (description) is optional\",\n",
      "    )\n",
      "\n",
      "# Slots\n",
      "\n"
     ]
    },
    {
     "ename": "ModuleNotFoundError",
     "evalue": "No module named 'linkml_runtime.utils.dataclass_extensions_376'",
     "output_type": "error",
     "traceback": [
      "\u001b[0;31m---------------------------------------------------------------------------\u001b[0m",
      "\u001b[0;31mModuleNotFoundError\u001b[0m                       Traceback (most recent call last)",
      "Cell \u001b[0;32mIn[4], line 3\u001b[0m\n\u001b[1;32m      1\u001b[0m \u001b[38;5;28;01mimport\u001b[39;00m\u001b[38;5;250m \u001b[39m\u001b[38;5;21;01myaml\u001b[39;00m\n\u001b[1;32m      2\u001b[0m model_str \u001b[38;5;241m=\u001b[39m yaml\u001b[38;5;241m.\u001b[39mdump(model)\n\u001b[0;32m----> 3\u001b[0m module \u001b[38;5;241m=\u001b[39m \u001b[43mcompile_model\u001b[49m\u001b[43m(\u001b[49m\u001b[43mmodel_str\u001b[49m\u001b[43m,\u001b[49m\u001b[43m \u001b[49m\u001b[43mprint_python\u001b[49m\u001b[38;5;241;43m=\u001b[39;49m\u001b[38;5;28;43;01mTrue\u001b[39;49;00m\u001b[43m)\u001b[49m\n\u001b[1;32m      4\u001b[0m \u001b[38;5;66;03m# Create a record selecting position \"a\" (top)\u001b[39;00m\n\u001b[1;32m      5\u001b[0m \u001b[38;5;28mprint\u001b[39m(\u001b[38;5;124m'\u001b[39m\u001b[38;5;124m-\u001b[39m\u001b[38;5;124m'\u001b[39m \u001b[38;5;241m*\u001b[39m \u001b[38;5;241m40\u001b[39m)\n",
      "Cell \u001b[0;32mIn[2], line 10\u001b[0m, in \u001b[0;36mcompile_model\u001b[0;34m(model, print_python)\u001b[0m\n\u001b[1;32m      8\u001b[0m \u001b[38;5;28;01mif\u001b[39;00m print_python:\n\u001b[1;32m      9\u001b[0m     \u001b[38;5;28mprint\u001b[39m(code)\n\u001b[0;32m---> 10\u001b[0m \u001b[38;5;28;01mreturn\u001b[39;00m \u001b[43mcompile_python\u001b[49m\u001b[43m(\u001b[49m\u001b[43mcode\u001b[49m\u001b[43m)\u001b[49m\n",
      "File \u001b[0;32m~/git/forks/linkml-runtime/linkml_runtime/utils/compile_python.py:47\u001b[0m, in \u001b[0;36mcompile_python\u001b[0;34m(text_or_fn, package_path)\u001b[0m\n\u001b[1;32m     45\u001b[0m     module\u001b[38;5;241m.\u001b[39m__package__ \u001b[38;5;241m=\u001b[39m os\u001b[38;5;241m.\u001b[39mpath\u001b[38;5;241m.\u001b[39mdirname(os\u001b[38;5;241m.\u001b[39mpath\u001b[38;5;241m.\u001b[39mrelpath(path_from_tests_parent, os\u001b[38;5;241m.\u001b[39mgetcwd()))\u001b[38;5;241m.\u001b[39mreplace(os\u001b[38;5;241m.\u001b[39mpath\u001b[38;5;241m.\u001b[39msep, \u001b[38;5;124m'\u001b[39m\u001b[38;5;124m.\u001b[39m\u001b[38;5;124m'\u001b[39m)\n\u001b[1;32m     46\u001b[0m sys\u001b[38;5;241m.\u001b[39mmodules[module\u001b[38;5;241m.\u001b[39m\u001b[38;5;18m__name__\u001b[39m] \u001b[38;5;241m=\u001b[39m module\n\u001b[0;32m---> 47\u001b[0m \u001b[43mexec\u001b[49m\u001b[43m(\u001b[49m\u001b[43mspec\u001b[49m\u001b[43m,\u001b[49m\u001b[43m \u001b[49m\u001b[43mmodule\u001b[49m\u001b[38;5;241;43m.\u001b[39;49m\u001b[38;5;18;43m__dict__\u001b[39;49m\u001b[43m)\u001b[49m\n\u001b[1;32m     48\u001b[0m \u001b[38;5;28;01mreturn\u001b[39;00m module\n",
      "File \u001b[0;32mtest:36\u001b[0m\n",
      "\u001b[0;31mModuleNotFoundError\u001b[0m: No module named 'linkml_runtime.utils.dataclass_extensions_376'"
     ]
    }
   ],
   "source": [
    "import yaml\n",
    "model_str = yaml.dump(model)\n",
    "module = compile_model(model_str, print_python=True)\n",
    "# Create a record selecting position \"a\" (top)\n",
    "print('-' * 40)\n",
    "c1 = module.PositionalRecord('my location', 'a')\n",
    "print(str(c1))\n",
    "print(str(c1.position))\n",
    "print(repr(c1.position))\n",
    "try:\n",
    "    c2 = module.PositionalRecord('your location', 'z')\n",
    "except ValueError as e:\n",
    "    print(e)\n"
   ]
  },
  {
   "cell_type": "markdown",
   "metadata": {
    "collapsed": false,
    "jupyter": {
     "outputs_hidden": false
    },
    "pycharm": {
     "name": "#%% md\n"
    }
   },
   "source": [
    "## Note that non-python values still work, although they won't appear in the auto-complete section"
   ]
  },
  {
   "cell_type": "code",
   "execution_count": 5,
   "metadata": {
    "collapsed": false,
    "execution": {
     "iopub.execute_input": "2025-02-01T01:17:34.526390Z",
     "iopub.status.busy": "2025-02-01T01:17:34.526192Z",
     "iopub.status.idle": "2025-02-01T01:17:34.532314Z",
     "shell.execute_reply": "2025-02-01T01:17:34.531732Z"
    },
    "jupyter": {
     "outputs_hidden": false
    },
    "pycharm": {
     "name": "#%%\n"
    }
   },
   "outputs": [
    {
     "data": {
      "application/javascript": [
       "\n",
       "            require(\n",
       "                [\n",
       "                    \"notebook/js/codecell\",\n",
       "                    \"codemirror/mode/yaml/yaml\"\n",
       "                ],\n",
       "                function(cc){\n",
       "                    cc.CodeCell.options_default.highlight_modes.magic_yaml = {\n",
       "                        reg: [\"^%%yaml\"]\n",
       "                    }\n",
       "                }\n",
       "            );\n",
       "            "
      ],
      "text/plain": [
       "<IPython.core.display.Javascript object>"
      ]
     },
     "metadata": {},
     "output_type": "display_data"
    }
   ],
   "source": [
    "%%yaml model2\n",
    "\n",
    "id: http://example.org/test/simple\n",
    "name: simple\n",
    "description: Enumeration with some non-std values\n",
    "\n",
    "prefixes:\n",
    "  linkml: https://w3id.org/linkml/\n",
    "  play: http://example.org/test/play/\n",
    "\n",
    "default_range: string\n",
    "default_prefix: play\n",
    "\n",
    "imports:\n",
    "  - linkml:types\n",
    "\n",
    "classes:\n",
    "    Sample:\n",
    "        attributes:\n",
    "            key:\n",
    "                range: string\n",
    "                identifier: true\n",
    "            enumentry:\n",
    "                range: Unusual enum patterns\n",
    "                multivalued: true\n",
    "\n",
    "enums:\n",
    "  Unusual enum patterns:\n",
    "    description: Very odd enumeration\n",
    "    permissible_values:\n",
    "      M: Normal selection\n",
    "      1: Numeric selection\n",
    "      def: Python reserved word\n",
    "      \"embedded space\": Embedded space\n",
    "      \"% ! -- whoo\": Really weird stuff"
   ]
  },
  {
   "cell_type": "code",
   "execution_count": 6,
   "metadata": {
    "collapsed": false,
    "execution": {
     "iopub.execute_input": "2025-02-01T01:17:34.534470Z",
     "iopub.status.busy": "2025-02-01T01:17:34.534133Z",
     "iopub.status.idle": "2025-02-01T01:17:34.561020Z",
     "shell.execute_reply": "2025-02-01T01:17:34.560540Z"
    },
    "jupyter": {
     "outputs_hidden": false
    },
    "pycharm": {
     "name": "#%%\n"
    }
   },
   "outputs": [
    {
     "name": "stdout",
     "output_type": "stream",
     "text": [
      "# Auto generated from None by pythongen.py version: 0.0.1\n",
      "# Generation date: 2025-01-31T17:17:34\n",
      "# Schema: simple\n",
      "#\n",
      "# id: http://example.org/test/simple\n",
      "# description: Enumeration with some non-std values\n",
      "# license: https://creativecommons.org/publicdomain/zero/1.0/\n",
      "\n",
      "import dataclasses\n",
      "import re\n",
      "from dataclasses import dataclass\n",
      "from datetime import (\n",
      "    date,\n",
      "    datetime,\n",
      "    time\n",
      ")\n",
      "from typing import (\n",
      "    Any,\n",
      "    ClassVar,\n",
      "    Dict,\n",
      "    List,\n",
      "    Optional,\n",
      "    Union\n",
      ")\n",
      "\n",
      "from jsonasobj2 import (\n",
      "    JsonObj,\n",
      "    as_dict\n",
      ")\n",
      "from linkml_runtime.linkml_model.meta import (\n",
      "    EnumDefinition,\n",
      "    PermissibleValue,\n",
      "    PvFormulaOptions\n",
      ")\n",
      "from linkml_runtime.utils.curienamespace import CurieNamespace\n",
      "from linkml_runtime.utils.enumerations import EnumDefinitionImpl\n",
      "from linkml_runtime.utils.formatutils import (\n",
      "    camelcase,\n",
      "    sfx,\n",
      "    underscore\n",
      ")\n",
      "from linkml_runtime.utils.metamodelcore import (\n",
      "    bnode,\n",
      "    empty_dict,\n",
      "    empty_list\n",
      ")\n",
      "from linkml_runtime.utils.slot import Slot\n",
      "from linkml_runtime.utils.yamlutils import (\n",
      "    YAMLRoot,\n",
      "    extended_float,\n",
      "    extended_int,\n",
      "    extended_str\n",
      ")\n",
      "from rdflib import (\n",
      "    Namespace,\n",
      "    URIRef\n",
      ")\n",
      "\n",
      "from linkml_runtime.linkml_model.types import String\n",
      "\n",
      "metamodel_version = \"1.7.0\"\n",
      "version = None\n",
      "\n",
      "# Namespaces\n",
      "LINKML = CurieNamespace('linkml', 'https://w3id.org/linkml/')\n",
      "PLAY = CurieNamespace('play', 'http://example.org/test/play/')\n",
      "DEFAULT_ = PLAY\n",
      "\n",
      "\n",
      "# Types\n",
      "\n",
      "# Class references\n",
      "class SampleKey(extended_str):\n",
      "    pass\n",
      "\n",
      "\n",
      "@dataclass(repr=False)\n",
      "class Sample(YAMLRoot):\n",
      "    key: Union[str, SampleKey] = None\n",
      "    enumentry: Optional[Union[Union[str, \"UnusualEnumPatterns\"], list[Union[str, \"UnusualEnumPatterns\"]]]] = empty_list()\n",
      "\n",
      "    def __post_init__(self, *_: str, **kwargs: Any):\n",
      "        if self._is_empty(self.key):\n",
      "            self.MissingRequiredField(\"key\")\n",
      "        if not isinstance(self.key, SampleKey):\n",
      "            self.key = SampleKey(self.key)\n",
      "\n",
      "        if not isinstance(self.enumentry, list):\n",
      "            self.enumentry = [self.enumentry] if self.enumentry is not None else []\n",
      "        self.enumentry = [v if isinstance(v, UnusualEnumPatterns) else UnusualEnumPatterns(v) for v in self.enumentry]\n",
      "\n",
      "        super().__post_init__(**kwargs)\n",
      "\n",
      "\n",
      "# Enumerations\n",
      "class UnusualEnumPatterns(EnumDefinitionImpl):\n",
      "    \"\"\"\n",
      "    Very odd enumeration\n",
      "    \"\"\"\n",
      "    M = PermissibleValue(\n",
      "        text=\"M\",\n",
      "        description=\"Normal selection\")\n",
      "\n",
      "    _defn = EnumDefinition(\n",
      "        name=\"UnusualEnumPatterns\",\n",
      "        description=\"Very odd enumeration\",\n",
      "    )\n",
      "\n",
      "    @classmethod\n",
      "    def _addvals(cls):\n",
      "        setattr(cls, \"1\",\n",
      "            PermissibleValue(\n",
      "                text=\"1\",\n",
      "                description=\"Numeric selection\"))\n",
      "        setattr(cls, \"def\",\n",
      "            PermissibleValue(\n",
      "                text=\"def\",\n",
      "                description=\"Python reserved word\"))\n",
      "        setattr(cls, \"embedded space\",\n",
      "            PermissibleValue(\n",
      "                text=\"embedded space\",\n",
      "                description=\"Embedded space\"))\n",
      "        setattr(cls, \"% ! -- whoo\",\n",
      "            PermissibleValue(\n",
      "                text=\"% ! -- whoo\",\n",
      "                description=\"Really weird stuff\"))\n",
      "\n",
      "# Slots\n",
      "\n",
      "Sample({\n",
      "  'key': 'Something',\n",
      "  'enumentry': [UnusualEnumPatterns(text='M', description='Normal selection'),\n",
      "    UnusualEnumPatterns(text='% ! -- whoo', description='Really weird stuff')]\n",
      "})\n"
     ]
    }
   ],
   "source": [
    "model2_str = yaml.dump(model2)\n",
    "module = compile_model(model2_str, print_python=True)\n",
    "t = module.Sample(\"Something\", [module.UnusualEnumPatterns.M, module.UnusualEnumPatterns['% ! -- whoo']])\n",
    "print(str(t))"
   ]
  },
  {
   "cell_type": "markdown",
   "metadata": {
    "collapsed": false,
    "jupyter": {
     "outputs_hidden": false
    },
    "pycharm": {
     "name": "#%% md\n"
    }
   },
   "source": [
    "## Enumerations can be \"bound\" to external URI's\n",
    "The URI's can be emitted as Curies OR URI's (your choice)"
   ]
  },
  {
   "cell_type": "code",
   "execution_count": 7,
   "metadata": {
    "collapsed": false,
    "execution": {
     "iopub.execute_input": "2025-02-01T01:17:34.563311Z",
     "iopub.status.busy": "2025-02-01T01:17:34.563092Z",
     "iopub.status.idle": "2025-02-01T01:17:34.569837Z",
     "shell.execute_reply": "2025-02-01T01:17:34.569416Z"
    },
    "jupyter": {
     "outputs_hidden": false
    },
    "pycharm": {
     "name": "#%%\n"
    }
   },
   "outputs": [
    {
     "data": {
      "application/javascript": [
       "\n",
       "            require(\n",
       "                [\n",
       "                    \"notebook/js/codecell\",\n",
       "                    \"codemirror/mode/yaml/yaml\"\n",
       "                ],\n",
       "                function(cc){\n",
       "                    cc.CodeCell.options_default.highlight_modes.magic_yaml = {\n",
       "                        reg: [\"^%%yaml\"]\n",
       "                    }\n",
       "                }\n",
       "            );\n",
       "            "
      ],
      "text/plain": [
       "<IPython.core.display.Javascript object>"
      ]
     },
     "metadata": {},
     "output_type": "display_data"
    }
   ],
   "source": [
    "%%yaml model3\n",
    "id: http://example.org/test/simple\n",
    "name: simple\n",
    "description: Very simple enumeration\n",
    "\n",
    "prefixes:\n",
    "  linkml: https://w3id.org/linkml/\n",
    "  play: http://example.org/test/play/\n",
    "  SCT: http://snomed.info/id/\n",
    "\n",
    "default_range: string\n",
    "default_prefix: play\n",
    "\n",
    "imports:\n",
    "  - linkml:types\n",
    "\n",
    "enums:\n",
    "  Colors:\n",
    "    description: Color values, mapped to SNOMED CT\n",
    "    permissible_values:\n",
    "      1:\n",
    "        description: Red\n",
    "        meaning: SCT:371240000\n",
    "      2:\n",
    "        description: Yellow\n",
    "        meaning: SCT:371244009\n",
    "      3:\n",
    "        meaning: SCT:405738005\n",
    "      4:\n",
    "        description: Muted\n",
    "        meaning: SCT:abcde\n",
    "        notes:\n",
    "            - Note that CURIEs are not validated if a code_set is not specified\n",
    "      9:\n",
    "        description: Muddy\n",
    "        notes:\n",
    "            - \"There isn't a SCT map for this term\"\n",
    "\n",
    "classes:\n",
    "    FavoriteColor:\n",
    "        attributes:\n",
    "            id:\n",
    "                range: string\n",
    "                identifier: true\n",
    "            position:\n",
    "                range: Colors\n",
    "                required: true"
   ]
  },
  {
   "cell_type": "code",
   "execution_count": 8,
   "metadata": {
    "execution": {
     "iopub.execute_input": "2025-02-01T01:17:34.572181Z",
     "iopub.status.busy": "2025-02-01T01:17:34.571963Z",
     "iopub.status.idle": "2025-02-01T01:17:34.599092Z",
     "shell.execute_reply": "2025-02-01T01:17:34.598536Z"
    },
    "pycharm": {
     "name": "#%%\n"
    }
   },
   "outputs": [
    {
     "name": "stdout",
     "output_type": "stream",
     "text": [
      "FavoriteColor({\n",
      "  'id': 'Harold',\n",
      "  'position': Colors(text='2', description='Yellow', meaning='http://snomed.info/id/371244009')\n",
      "})\n",
      "2\n",
      "http://snomed.info/id/371244009\n",
      "http://snomed.info/id/abcde\n"
     ]
    }
   ],
   "source": [
    "module = compile_model(yaml.dump(model3))\n",
    "colorrec = module.FavoriteColor(\"Harold\", module.Colors['2'])\n",
    "print(colorrec)\n",
    "print(str(colorrec.position))\n",
    "print(colorrec.position.meaning)\n",
    "cr2 = module.FavoriteColor(\"Donald\", module.Colors['4'])\n",
    "print(cr2.position.meaning)"
   ]
  },
  {
   "cell_type": "markdown",
   "metadata": {
    "collapsed": false,
    "jupyter": {
     "outputs_hidden": false
    },
    "pycharm": {
     "name": "#%% md\n"
    }
   },
   "source": [
    "# Enumerations and code sets\n",
    "Enumerations have additional variables that reference code sets (i.e. a list of URI's)\n",
    "* `code_set` - A curie that references a list of URI's. Can be:\n",
    "    * The URI of an entire ontology, which uses the 'CS' prefix (e.g. `CS:SCT`, `CS:HP`, ...)\n",
    "    * The URI of a code set definition (see: TCCM model)\n",
    "* `code_set_tag` - the (case insensitive) tag assigned to a particular release of a code set by a terminology service.\n",
    "   If default tag, if neither a tag or a version is supplied, is \"Current\", the meaning of which\n",
    "   is assigned by the service.\n",
    "* `code_set_version` - a (case sensitive) version identifier that names a specific code set.\n",
    "\n",
    "In the example above, the URI, `http://snomed.info/id/abcde` was accepted as a valid meaning\n",
    "association.  If, however, we supply the SNOMED CT Code set (CS:SCT):\n",
    "\n",
    "1. The enumeration will only accept _valid_ SCT URI's and\n",
    "2. Any valid SCT URI will automatically provide the description and, if appropriate, its description\n",
    "\n",
    "*Note: Need to make it clear that CS:HP is actually shorthand for a CodeSetDefinition that states ALL codes from\n",
    "the CURRENT version of CS:HP.*\n",
    "\n",
    "*Note 2: Also same thing for descendents of:  SCT:74400008 == NS1:SCTAppendicites(root=SCT:744000008, rel=descendants)*"
   ]
  }
 ],
 "metadata": {
  "kernelspec": {
   "display_name": "linkml-poetry",
   "language": "python",
   "name": "linkml-poetry"
  },
  "language_info": {
   "codemirror_mode": {
    "name": "ipython",
    "version": 3
   },
   "file_extension": ".py",
   "mimetype": "text/x-python",
   "name": "python",
   "nbconvert_exporter": "python",
   "pygments_lexer": "ipython3",
   "version": "3.13.1"
  }
 },
 "nbformat": 4,
 "nbformat_minor": 4
}
